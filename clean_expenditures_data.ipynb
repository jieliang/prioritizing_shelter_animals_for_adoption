{
 "cells": [
  {
   "cell_type": "markdown",
   "metadata": {},
   "source": [
    "## clean_expenditures_data\n",
    "1. process fiscal year expenditure csv files\n",
    "2. extract monthly expenditure by animal services department\n",
    "3. save data as a table in aws postgres database"
   ]
  },
  {
   "cell_type": "markdown",
   "metadata": {},
   "source": [
    "### Data Source:  https://data.louisvilleky.gov/dataset/expenditures-data"
   ]
  },
  {
   "cell_type": "code",
   "execution_count": 1,
   "metadata": {},
   "outputs": [
    {
     "name": "stderr",
     "output_type": "stream",
     "text": [
      "/home/jieliang/anaconda3/lib/python3.6/site-packages/IPython/core/interactiveshell.py:2785: DtypeWarning: Columns (13,17) have mixed types. Specify dtype option on import or set low_memory=False.\n",
      "  interactivity=interactivity, compiler=compiler, result=result)\n",
      "/home/jieliang/anaconda3/lib/python3.6/site-packages/IPython/core/interactiveshell.py:2785: DtypeWarning: Columns (8,13,17) have mixed types. Specify dtype option on import or set low_memory=False.\n",
      "  interactivity=interactivity, compiler=compiler, result=result)\n"
     ]
    }
   ],
   "source": [
    "import pandas as pd\n",
    "\n",
    "animal_expenditures = []\n",
    "#animal_expenditures.columns =['year','month','expenses']\n",
    "\n",
    "#2008-2012 work\n",
    "years = [i for i in range(2008,2012)]\n",
    "\n",
    "for year in years:\n",
    "    filename='/home/jieliang/proj3/submission/data/Expenditures_FiscalYear'+str(year)+'.csv'\n",
    "    df = pd.DataFrame()\n",
    "    df = pd.read_csv(filename)\n",
    "    \n",
    "    mask = df['Sub_Agency_Name']=='Metro Animal Services' #or df['Agency_Name']=='Metro Animal Services'\n",
    "    df = df[mask]\n",
    "    df.InvoiceDt=df.InvoiceDt.apply(pd.to_datetime)\n",
    "    df['month'] = df.InvoiceDt.dt.month\n",
    "    df['year'] = df.InvoiceDt.dt.year\n",
    "    \n",
    "    df.InvoiceAmt = df['InvoiceAmt'].astype(float)\n",
    "    df['year_month'] = df.apply(lambda row: str(row.year)+'-' + str(row.month), axis=1)\n",
    "    #df = df['year','month','InvoiceAmt','year_month']\n",
    "\n",
    "    animal_expenditures.append(df)"
   ]
  },
  {
   "cell_type": "code",
   "execution_count": 2,
   "metadata": {},
   "outputs": [
    {
     "name": "stdout",
     "output_type": "stream",
     "text": [
      "<class 'pandas.core.frame.DataFrame'>\n",
      "Int64Index: 857 entries, 74938 to 75794\n",
      "Data columns (total 23 columns):\n",
      "Fiscal_Year           857 non-null int64\n",
      "Budget_Type           857 non-null object\n",
      "Agency_Name           857 non-null object\n",
      "Sub_Agency_Name       857 non-null object\n",
      "DepartmentName        857 non-null object\n",
      "Sub_DepartmentName    857 non-null object\n",
      "Category              857 non-null object\n",
      "Sub_Category          857 non-null object\n",
      "Stimulus_Type         0 non-null object\n",
      "Funding_Source        857 non-null object\n",
      "Vendor_Name           857 non-null object\n",
      "InvoiceID             857 non-null int64\n",
      "InvoiceDt             857 non-null datetime64[ns]\n",
      "InvoiceAmt            857 non-null float64\n",
      "DistributionAmt       857 non-null float64\n",
      "CheckID               857 non-null int64\n",
      "CheckDt               857 non-null object\n",
      "CheckAmt              857 non-null object\n",
      "CheckVoidDt           857 non-null object\n",
      "Unnamed: 19           0 non-null float64\n",
      "month                 857 non-null int64\n",
      "year                  857 non-null int64\n",
      "year_month            857 non-null object\n",
      "dtypes: datetime64[ns](1), float64(3), int64(5), object(14)\n",
      "memory usage: 160.7+ KB\n"
     ]
    }
   ],
   "source": [
    "df.info()"
   ]
  },
  {
   "cell_type": "code",
   "execution_count": 3,
   "metadata": {},
   "outputs": [
    {
     "data": {
      "text/plain": [
       "4"
      ]
     },
     "execution_count": 3,
     "metadata": {},
     "output_type": "execute_result"
    }
   ],
   "source": [
    "len(animal_expenditures)"
   ]
  },
  {
   "cell_type": "code",
   "execution_count": 4,
   "metadata": {},
   "outputs": [
    {
     "name": "stderr",
     "output_type": "stream",
     "text": [
      "/home/jieliang/anaconda3/lib/python3.6/site-packages/IPython/core/interactiveshell.py:2785: DtypeWarning: Columns (1,2,3,4,5,6,7,8,9,10,11,12,13,16,17,18,19) have mixed types. Specify dtype option on import or set low_memory=False.\n",
      "  interactivity=interactivity, compiler=compiler, result=result)\n",
      "/home/jieliang/anaconda3/lib/python3.6/site-packages/IPython/core/interactiveshell.py:2785: DtypeWarning: Columns (1,2,3,4,5,6,7,8,9,10,12,16,18) have mixed types. Specify dtype option on import or set low_memory=False.\n",
      "  interactivity=interactivity, compiler=compiler, result=result)\n",
      "/home/jieliang/anaconda3/lib/python3.6/site-packages/IPython/core/interactiveshell.py:2785: DtypeWarning: Columns (1,2,3,4,5,6,7,9,10,12,16,18) have mixed types. Specify dtype option on import or set low_memory=False.\n",
      "  interactivity=interactivity, compiler=compiler, result=result)\n"
     ]
    }
   ],
   "source": [
    "years = [i for i in range(2012,2019)]\n",
    "\n",
    "for year in years:\n",
    "    filename='/home/jieliang/proj3/submission/data/Expenditures_FiscalYear'+str(year)+'.csv'\n",
    "    df = pd.DataFrame()\n",
    "    df = pd.read_csv(filename)\n",
    "    \n",
    "    mask = df['Agency_Name']=='Metro Animal Services' #or df['Agency_Name']=='Metro Animal Services'\n",
    "    df = df[mask]\n",
    "    df.InvoiceDt=df.InvoiceDt.apply(pd.to_datetime)\n",
    "    df['month'] = df.InvoiceDt.dt.month\n",
    "    df['year'] = df.InvoiceDt.dt.year\n",
    "    \n",
    "    df.InvoiceAmt = df['InvoiceAmt'].astype(float)\n",
    "    df['year_month'] = df.apply(lambda row: str(row.year)+'-' + str(row.month), axis=1)\n",
    "    #df = df['year','month','InvoiceAmt','year_month']\n",
    "\n",
    "    animal_expenditures.append(df)"
   ]
  },
  {
   "cell_type": "code",
   "execution_count": 5,
   "metadata": {},
   "outputs": [
    {
     "name": "stdout",
     "output_type": "stream",
     "text": [
      "<class 'pandas.core.frame.DataFrame'>\n",
      "Int64Index: 1478 entries, 35 to 70201\n",
      "Data columns (total 22 columns):\n",
      "Fiscal_Year           1478 non-null float64\n",
      "Budget_Type           1478 non-null object\n",
      "Agency_Name           1478 non-null object\n",
      "Sub_Agency_Name       1478 non-null object\n",
      "DepartmentName        1474 non-null object\n",
      "Sub_DepartmentName    0 non-null object\n",
      "Category              1478 non-null object\n",
      "Sub_Category          1478 non-null object\n",
      "Stimulus_Type         0 non-null float64\n",
      "Funding_Source        1478 non-null object\n",
      "Vendor_Name           1478 non-null object\n",
      "InvoiceID             1478 non-null float64\n",
      "InvoiceDt             1478 non-null datetime64[ns]\n",
      "InvoiceAmt            1478 non-null float64\n",
      "DistributionAmt       1478 non-null float64\n",
      "CheckID               1478 non-null float64\n",
      "CheckDt               1478 non-null object\n",
      "CheckAmt              1478 non-null float64\n",
      "CheckVoidDt           1478 non-null object\n",
      "month                 1478 non-null int64\n",
      "year                  1478 non-null int64\n",
      "year_month            1478 non-null object\n",
      "dtypes: datetime64[ns](1), float64(7), int64(2), object(12)\n",
      "memory usage: 265.6+ KB\n"
     ]
    }
   ],
   "source": [
    "animal_expenditures[7].info()"
   ]
  },
  {
   "cell_type": "code",
   "execution_count": null,
   "metadata": {},
   "outputs": [],
   "source": []
  },
  {
   "cell_type": "code",
   "execution_count": 6,
   "metadata": {},
   "outputs": [
    {
     "data": {
      "text/plain": [
       "Index(['2013-10', '2013-12', '2014-1', '2014-10', '2014-11', '2014-12',\n",
       "       '2014-2', '2014-3', '2014-4', '2014-5', '2014-6', '2014-7', '2014-8',\n",
       "       '2014-9', '2015-1', '2015-2', '2015-3', '2015-4', '2015-5', '2015-6',\n",
       "       '2015-7'],\n",
       "      dtype='object', name='year_month')"
      ]
     },
     "execution_count": 6,
     "metadata": {},
     "output_type": "execute_result"
    }
   ],
   "source": [
    "animal_expenditures[7].groupby('year_month')['InvoiceAmt'].sum().index"
   ]
  },
  {
   "cell_type": "code",
   "execution_count": 7,
   "metadata": {},
   "outputs": [],
   "source": [
    "expenditures_year_month = pd.Series()"
   ]
  },
  {
   "cell_type": "code",
   "execution_count": 8,
   "metadata": {},
   "outputs": [],
   "source": [
    "for animal_expenditure in animal_expenditures:\n",
    "    expenditures_year_month = expenditures_year_month.append(animal_expenditure.groupby('year_month')['InvoiceAmt'].sum())"
   ]
  },
  {
   "cell_type": "code",
   "execution_count": 9,
   "metadata": {},
   "outputs": [
    {
     "data": {
      "text/plain": [
       "2006-11      9066.95\n",
       "2006-9       2085.21\n",
       "2007-10     49057.56\n",
       "2007-11     39262.93\n",
       "2007-12     48468.56\n",
       "2007-3        371.22\n",
       "2007-4        255.65\n",
       "2007-5      14457.69\n",
       "2007-6      22044.06\n",
       "2007-7      42975.42\n",
       "2007-8      42867.97\n",
       "2007-9      66793.83\n",
       "2008-1      43369.15\n",
       "2008-2      47588.89\n",
       "2008-3      39477.55\n",
       "2008-4      34348.57\n",
       "2008-5      54367.48\n",
       "2008-6      55511.81\n",
       "2008-7       2667.18\n",
       "2007-10       230.58\n",
       "2007-8        594.81\n",
       "2008-10     40089.66\n",
       "2008-11     30462.52\n",
       "2008-12     39721.32\n",
       "2008-3         67.44\n",
       "2008-4        583.00\n",
       "2008-6       1524.49\n",
       "2008-7      61703.90\n",
       "2008-8      48289.84\n",
       "2008-9      43447.50\n",
       "             ...    \n",
       "2016-2      97238.86\n",
       "2016-3     142743.18\n",
       "2016-4      86845.30\n",
       "2016-5      61360.60\n",
       "2016-6     100808.54\n",
       "2016-7        796.66\n",
       "2015-1       1297.00\n",
       "2015-7        155.64\n",
       "2015-9        129.00\n",
       "2016-10     60183.71\n",
       "2016-11     79826.98\n",
       "2016-12     68761.79\n",
       "2016-3      14424.88\n",
       "2016-4       9826.75\n",
       "2016-5       7187.81\n",
       "2016-6      24921.62\n",
       "2016-7      90288.57\n",
       "2016-8      68732.45\n",
       "2016-9      64699.33\n",
       "2017-1      73229.94\n",
       "2017-2      72934.91\n",
       "2017-3      96364.43\n",
       "2017-4      86156.39\n",
       "2017-5      78575.04\n",
       "2017-6     119528.55\n",
       "2017-7       6571.32\n",
       "2017-5          2.60\n",
       "2017-6       2340.09\n",
       "2017-7      44979.86\n",
       "2017-8       2270.86\n",
       "Length: 191, dtype: float64"
      ]
     },
     "execution_count": 9,
     "metadata": {},
     "output_type": "execute_result"
    }
   ],
   "source": [
    "expenditures_year_month"
   ]
  },
  {
   "cell_type": "code",
   "execution_count": 10,
   "metadata": {},
   "outputs": [],
   "source": [
    "expenses = expenditures_year_month.to_frame()\n"
   ]
  },
  {
   "cell_type": "code",
   "execution_count": 11,
   "metadata": {},
   "outputs": [],
   "source": [
    "expenses['year_month'] = expenses.index"
   ]
  },
  {
   "cell_type": "code",
   "execution_count": 12,
   "metadata": {},
   "outputs": [],
   "source": [
    "expenses.columns =['amount','year_month']"
   ]
  },
  {
   "cell_type": "code",
   "execution_count": 13,
   "metadata": {},
   "outputs": [
    {
     "data": {
      "text/plain": [
       "amount        190\n",
       "year_month    128\n",
       "dtype: int64"
      ]
     },
     "execution_count": 13,
     "metadata": {},
     "output_type": "execute_result"
    }
   ],
   "source": [
    "#unique values in each column\n",
    "\n",
    "expenses.nunique()"
   ]
  },
  {
   "cell_type": "code",
   "execution_count": 14,
   "metadata": {},
   "outputs": [],
   "source": [
    "expenses.reset_index(inplace=True,drop=True)\n",
    "#expenses"
   ]
  },
  {
   "cell_type": "code",
   "execution_count": 15,
   "metadata": {},
   "outputs": [],
   "source": [
    "expenses=expenses.groupby('year_month', as_index=False).agg({\"amount\": \"sum\"})"
   ]
  },
  {
   "cell_type": "code",
   "execution_count": 16,
   "metadata": {},
   "outputs": [
    {
     "data": {
      "text/plain": [
       "year_month    128\n",
       "amount        128\n",
       "dtype: int64"
      ]
     },
     "execution_count": 16,
     "metadata": {},
     "output_type": "execute_result"
    }
   ],
   "source": [
    "expenses.nunique()"
   ]
  },
  {
   "cell_type": "code",
   "execution_count": 17,
   "metadata": {},
   "outputs": [
    {
     "data": {
      "text/html": [
       "<div>\n",
       "<style scoped>\n",
       "    .dataframe tbody tr th:only-of-type {\n",
       "        vertical-align: middle;\n",
       "    }\n",
       "\n",
       "    .dataframe tbody tr th {\n",
       "        vertical-align: top;\n",
       "    }\n",
       "\n",
       "    .dataframe thead th {\n",
       "        text-align: right;\n",
       "    }\n",
       "</style>\n",
       "<table border=\"1\" class=\"dataframe\">\n",
       "  <thead>\n",
       "    <tr style=\"text-align: right;\">\n",
       "      <th></th>\n",
       "      <th>year_month</th>\n",
       "      <th>amount</th>\n",
       "    </tr>\n",
       "  </thead>\n",
       "  <tbody>\n",
       "    <tr>\n",
       "      <th>0</th>\n",
       "      <td>2006-11</td>\n",
       "      <td>9066.95</td>\n",
       "    </tr>\n",
       "    <tr>\n",
       "      <th>1</th>\n",
       "      <td>2006-9</td>\n",
       "      <td>2085.21</td>\n",
       "    </tr>\n",
       "    <tr>\n",
       "      <th>2</th>\n",
       "      <td>2007-10</td>\n",
       "      <td>49288.14</td>\n",
       "    </tr>\n",
       "    <tr>\n",
       "      <th>3</th>\n",
       "      <td>2007-11</td>\n",
       "      <td>39262.93</td>\n",
       "    </tr>\n",
       "    <tr>\n",
       "      <th>4</th>\n",
       "      <td>2007-12</td>\n",
       "      <td>48468.56</td>\n",
       "    </tr>\n",
       "  </tbody>\n",
       "</table>\n",
       "</div>"
      ],
      "text/plain": [
       "  year_month    amount\n",
       "0    2006-11   9066.95\n",
       "1     2006-9   2085.21\n",
       "2    2007-10  49288.14\n",
       "3    2007-11  39262.93\n",
       "4    2007-12  48468.56"
      ]
     },
     "execution_count": 17,
     "metadata": {},
     "output_type": "execute_result"
    }
   ],
   "source": [
    "expenses.head()"
   ]
  },
  {
   "cell_type": "code",
   "execution_count": 18,
   "metadata": {},
   "outputs": [],
   "source": [
    "import psycopg2 as pg\n",
    "import pandas as pd\n",
    "import pandas.io.sql as pd_sql\n",
    "\n",
    "from sqlalchemy import create_engine\n",
    "import psycopg2 \n",
    "import io\n",
    "\n",
    "\n",
    "connection_args = {\n",
    "    'host': '54.200.221.80', # current aws instance public IP\n",
    "    'user': 'ubuntu',    \n",
    "    'dbname': 'proj3',   \n",
    "    'port': 5432         \n",
    "}\n",
    "\n",
    "\n",
    "connection = pg.connect(**connection_args)"
   ]
  },
  {
   "cell_type": "code",
   "execution_count": 19,
   "metadata": {},
   "outputs": [],
   "source": [
    "#pd.Period('2011-01')"
   ]
  },
  {
   "cell_type": "code",
   "execution_count": 20,
   "metadata": {},
   "outputs": [],
   "source": [
    "cur = connection.cursor()\n",
    "\n",
    "cur.execute(\"\"\"CREATE TABLE expenses (\n",
    "  year_month                TEXT,\n",
    "  amount                    FLOAT\n",
    "  \n",
    ");\"\"\")"
   ]
  },
  {
   "cell_type": "code",
   "execution_count": 21,
   "metadata": {},
   "outputs": [],
   "source": [
    "output = io.StringIO()\n",
    "expenses.to_csv(output, sep='\\t', header=False, index=False)\n",
    "output.seek(0)\n",
    "contents = output.getvalue()\n",
    "cur.copy_from(output, 'expenses', null=\"\") #null values become ''   \n",
    "connection.commit()"
   ]
  },
  {
   "cell_type": "code",
   "execution_count": null,
   "metadata": {},
   "outputs": [],
   "source": []
  }
 ],
 "metadata": {
  "kernelspec": {
   "display_name": "Python 3",
   "language": "python",
   "name": "python3"
  },
  "language_info": {
   "codemirror_mode": {
    "name": "ipython",
    "version": 3
   },
   "file_extension": ".py",
   "mimetype": "text/x-python",
   "name": "python",
   "nbconvert_exporter": "python",
   "pygments_lexer": "ipython3",
   "version": "3.6.5"
  }
 },
 "nbformat": 4,
 "nbformat_minor": 2
}
