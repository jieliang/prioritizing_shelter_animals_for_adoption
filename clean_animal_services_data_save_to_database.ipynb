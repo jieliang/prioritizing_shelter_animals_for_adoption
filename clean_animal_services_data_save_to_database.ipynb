{
 "cells": [
  {
   "cell_type": "markdown",
   "metadata": {},
   "source": [
    "## clean_animal_services_data_save_to_database\n",
    "1. loads cleaned animal services data\n",
    "2. save it as a table in aws postgres database\n",
    "3. now all three tables, i.e. animal_services, expenses and economic index are ready to be joined"
   ]
  },
  {
   "cell_type": "markdown",
   "metadata": {},
   "source": [
    "\n"
   ]
  },
  {
   "cell_type": "code",
   "execution_count": 8,
   "metadata": {},
   "outputs": [],
   "source": [
    "\n",
    "from __future__ import print_function, division\n",
    "\n",
    "\n",
    "import psycopg2 as pg\n",
    "import pandas as pd\n",
    "import pandas.io.sql as pd_sql\n",
    "\n",
    "import io\n",
    "\n",
    "import matplotlib.pyplot as plt\n",
    "plt.style.use('ggplot')\n",
    "\n",
    "%matplotlib inline"
   ]
  },
  {
   "cell_type": "code",
   "execution_count": 2,
   "metadata": {},
   "outputs": [],
   "source": [
    "connection_args = {\n",
    "    'host': '54.200.221.80', # current aws instance public IP\n",
    "    'user': 'ubuntu',    \n",
    "    'dbname': 'proj3',   \n",
    "    'port': 5432         \n",
    "}\n",
    "\n",
    "# We will talk about this magic Python trick!\n",
    "connection = pg.connect(**connection_args)\n"
   ]
  },
  {
   "cell_type": "code",
   "execution_count": 3,
   "metadata": {},
   "outputs": [],
   "source": [
    "import pickle\n",
    "with open('/home/jieliang//proj3/mvp/mvp_data/eda-6-clean_data_without_dummies.pkl', 'rb') as fp:\n",
    "    df = pickle.load(fp)"
   ]
  },
  {
   "cell_type": "code",
   "execution_count": 4,
   "metadata": {},
   "outputs": [],
   "source": [
    "df.drop(['IntakeYear','IntakeMonth', 'OutcomeYear', 'OutcomeMonth', 'IntakeAgeInDays','OutcomeAgeInDays','DaysInShelter'],axis=1,inplace=True)"
   ]
  },
  {
   "cell_type": "code",
   "execution_count": null,
   "metadata": {},
   "outputs": [],
   "source": []
  },
  {
   "cell_type": "code",
   "execution_count": 5,
   "metadata": {},
   "outputs": [],
   "source": [
    "cur = connection.cursor()"
   ]
  },
  {
   "cell_type": "code",
   "execution_count": 6,
   "metadata": {},
   "outputs": [],
   "source": [
    "cur.execute(\"\"\"CREATE TABLE animal_services (\n",
    "  AnimalType TEXT, \n",
    "  IntakeType TEXT, \n",
    "  IntakeSubtype TEXT, \n",
    "  PrimaryColor TEXT,\n",
    "  PrimaryBreed TEXT, \n",
    "  SecondaryBreed TEXT, \n",
    "  Gender TEXT, \n",
    "  SecondaryColor TEXT,\n",
    "  IntakeReason TEXT, \n",
    "  IntakeInternalStatus TEXT, \n",
    "  IntakeAsilomarStatus TEXT,\n",
    "  ReproductiveStatusAtIntake TEXT, \n",
    "  OutcomeInternalStatus TEXT,\n",
    "  OutcomeAsilomarStatus TEXT, \n",
    "  ReproductiveStatusAtOutcome TEXT,  \n",
    "  HasIntakeAge INT, \n",
    "  HasOutcomeAge INT,\n",
    "  HasDaysInShelter INT, \n",
    "  TimesInShelter INT, \n",
    "  ScaledIntakeYear FLOAT,\n",
    "  ScaledIntakeMonth FLOAT, \n",
    "  ScaledOutcomeYear FLOAT, \n",
    "  ScaledOutcomeMonth FLOAT,\n",
    "  ScaledIntakeAgeInDays FLOAT, \n",
    "  ScaledOutcomeAgeInDays FLOAT,\n",
    "  ScaledDaysInShelter FLOAT, \n",
    "  intake_year_month TEXT, \n",
    "  outcome_year_month TEXT,\n",
    "  OutcomeType TEXT                          \n",
    ");\"\"\")\n"
   ]
  },
  {
   "cell_type": "code",
   "execution_count": 9,
   "metadata": {},
   "outputs": [],
   "source": [
    "output = io.StringIO()\n",
    "df.to_csv(output, sep='\\t', header=False, index=False)\n",
    "output.seek(0)\n",
    "contents = output.getvalue()\n",
    "cur.copy_from(output, 'animal_services', null=\"\") #null values become ''   \n",
    "connection.commit()"
   ]
  },
  {
   "cell_type": "code",
   "execution_count": null,
   "metadata": {},
   "outputs": [],
   "source": []
  },
  {
   "cell_type": "code",
   "execution_count": null,
   "metadata": {},
   "outputs": [],
   "source": []
  },
  {
   "cell_type": "code",
   "execution_count": 14,
   "metadata": {},
   "outputs": [],
   "source": [
    "query1 = \"\"\"CREATE VIEW V1 AS (\n",
    "\n",
    "  SELECT * FROM\n",
    "    animal_services a\n",
    "  LEFT JOIN \n",
    "      economic_index e \n",
    "  ON\n",
    "    a.intake_year_month = e.year_month_index\n",
    "  \n",
    ");\"\"\""
   ]
  },
  {
   "cell_type": "code",
   "execution_count": 15,
   "metadata": {},
   "outputs": [],
   "source": [
    "cur.execute(query1)"
   ]
  },
  {
   "cell_type": "code",
   "execution_count": 16,
   "metadata": {},
   "outputs": [],
   "source": [
    "query2 = \"\"\"CREATE VIEW V2 AS (\n",
    "\n",
    "  SELECT * FROM \n",
    "    V1\n",
    "  LEFT JOIN     \n",
    "    expenses ex\n",
    "    \n",
    "  ON\n",
    "    v1.intake_year_month = ex.year_month\n",
    "  \n",
    ");\"\"\""
   ]
  },
  {
   "cell_type": "code",
   "execution_count": 17,
   "metadata": {},
   "outputs": [],
   "source": [
    "cur.execute(query2)"
   ]
  },
  {
   "cell_type": "code",
   "execution_count": 18,
   "metadata": {},
   "outputs": [],
   "source": [
    "query3 = 'select * from V2'"
   ]
  },
  {
   "cell_type": "code",
   "execution_count": null,
   "metadata": {},
   "outputs": [],
   "source": []
  },
  {
   "cell_type": "code",
   "execution_count": 19,
   "metadata": {},
   "outputs": [],
   "source": [
    "joined_df = pd.read_sql_query(query3,con=connection)"
   ]
  },
  {
   "cell_type": "code",
   "execution_count": 20,
   "metadata": {},
   "outputs": [
    {
     "data": {
      "text/plain": [
       "(141018, 36)"
      ]
     },
     "execution_count": 20,
     "metadata": {},
     "output_type": "execute_result"
    }
   ],
   "source": [
    "joined_df.shape"
   ]
  },
  {
   "cell_type": "code",
   "execution_count": 21,
   "metadata": {},
   "outputs": [
    {
     "data": {
      "text/html": [
       "<div>\n",
       "<style scoped>\n",
       "    .dataframe tbody tr th:only-of-type {\n",
       "        vertical-align: middle;\n",
       "    }\n",
       "\n",
       "    .dataframe tbody tr th {\n",
       "        vertical-align: top;\n",
       "    }\n",
       "\n",
       "    .dataframe thead th {\n",
       "        text-align: right;\n",
       "    }\n",
       "</style>\n",
       "<table border=\"1\" class=\"dataframe\">\n",
       "  <thead>\n",
       "    <tr style=\"text-align: right;\">\n",
       "      <th></th>\n",
       "      <th>animaltype</th>\n",
       "      <th>intaketype</th>\n",
       "      <th>intakesubtype</th>\n",
       "      <th>primarycolor</th>\n",
       "      <th>primarybreed</th>\n",
       "      <th>secondarybreed</th>\n",
       "      <th>gender</th>\n",
       "      <th>secondarycolor</th>\n",
       "      <th>intakereason</th>\n",
       "      <th>intakeinternalstatus</th>\n",
       "      <th>...</th>\n",
       "      <th>intake_year_month</th>\n",
       "      <th>outcome_year_month</th>\n",
       "      <th>outcometype</th>\n",
       "      <th>date</th>\n",
       "      <th>loiagridx</th>\n",
       "      <th>month</th>\n",
       "      <th>year</th>\n",
       "      <th>year_month_index</th>\n",
       "      <th>year_month</th>\n",
       "      <th>amount</th>\n",
       "    </tr>\n",
       "  </thead>\n",
       "  <tbody>\n",
       "    <tr>\n",
       "      <th>0</th>\n",
       "      <td>CAT</td>\n",
       "      <td>STRAY</td>\n",
       "      <td>OTC</td>\n",
       "      <td>WHITE</td>\n",
       "      <td>DOMESTIC SHORTHAIR</td>\n",
       "      <td>nan</td>\n",
       "      <td>NEUTERED MALE</td>\n",
       "      <td>BROWN</td>\n",
       "      <td>nan</td>\n",
       "      <td>FEARFUL</td>\n",
       "      <td>...</td>\n",
       "      <td>2008-11</td>\n",
       "      <td>2008-11</td>\n",
       "      <td>not_adopted</td>\n",
       "      <td>2008-11-01</td>\n",
       "      <td>-1.57</td>\n",
       "      <td>11.0</td>\n",
       "      <td>2008.0</td>\n",
       "      <td>2008-11</td>\n",
       "      <td>2008-11</td>\n",
       "      <td>30462.52</td>\n",
       "    </tr>\n",
       "    <tr>\n",
       "      <th>1</th>\n",
       "      <td>CAT</td>\n",
       "      <td>STRAY</td>\n",
       "      <td>OTC</td>\n",
       "      <td>BLACK</td>\n",
       "      <td>DOMESTIC SHORTHAIR</td>\n",
       "      <td>DOMESTIC SHORTHAIR</td>\n",
       "      <td>UNKNOWN</td>\n",
       "      <td>nan</td>\n",
       "      <td>STRAY</td>\n",
       "      <td>NORMAL</td>\n",
       "      <td>...</td>\n",
       "      <td>2008-11</td>\n",
       "      <td>2008-11</td>\n",
       "      <td>not_adopted</td>\n",
       "      <td>2008-11-01</td>\n",
       "      <td>-1.57</td>\n",
       "      <td>11.0</td>\n",
       "      <td>2008.0</td>\n",
       "      <td>2008-11</td>\n",
       "      <td>2008-11</td>\n",
       "      <td>30462.52</td>\n",
       "    </tr>\n",
       "    <tr>\n",
       "      <th>2</th>\n",
       "      <td>OTHER</td>\n",
       "      <td>CONFISCATE</td>\n",
       "      <td>CRUELTY</td>\n",
       "      <td>RED</td>\n",
       "      <td>CHICKEN</td>\n",
       "      <td>nan</td>\n",
       "      <td>MALE</td>\n",
       "      <td>BLACK</td>\n",
       "      <td>nan</td>\n",
       "      <td>OTHER</td>\n",
       "      <td>...</td>\n",
       "      <td>2014-7</td>\n",
       "      <td>2014-7</td>\n",
       "      <td>not_adopted</td>\n",
       "      <td>2014-07-01</td>\n",
       "      <td>7.03</td>\n",
       "      <td>7.0</td>\n",
       "      <td>2014.0</td>\n",
       "      <td>2014-7</td>\n",
       "      <td>2014-7</td>\n",
       "      <td>36847.45</td>\n",
       "    </tr>\n",
       "    <tr>\n",
       "      <th>3</th>\n",
       "      <td>OTHER</td>\n",
       "      <td>OTHER</td>\n",
       "      <td>nan</td>\n",
       "      <td>BROWN</td>\n",
       "      <td>OTHER</td>\n",
       "      <td>nan</td>\n",
       "      <td>UNKNOWN</td>\n",
       "      <td>nan</td>\n",
       "      <td>nan</td>\n",
       "      <td>OTHER</td>\n",
       "      <td>...</td>\n",
       "      <td>2014-7</td>\n",
       "      <td>2014-7</td>\n",
       "      <td>not_adopted</td>\n",
       "      <td>2014-07-01</td>\n",
       "      <td>7.03</td>\n",
       "      <td>7.0</td>\n",
       "      <td>2014.0</td>\n",
       "      <td>2014-7</td>\n",
       "      <td>2014-7</td>\n",
       "      <td>36847.45</td>\n",
       "    </tr>\n",
       "    <tr>\n",
       "      <th>4</th>\n",
       "      <td>DOG</td>\n",
       "      <td>OWNER SUR</td>\n",
       "      <td>OTC</td>\n",
       "      <td>WHITE</td>\n",
       "      <td>PIT BULL TERRIER</td>\n",
       "      <td>nan</td>\n",
       "      <td>MALE</td>\n",
       "      <td>BROWN</td>\n",
       "      <td>NO TIME</td>\n",
       "      <td>NORMAL</td>\n",
       "      <td>...</td>\n",
       "      <td>2006-9</td>\n",
       "      <td>2006-9</td>\n",
       "      <td>not_adopted</td>\n",
       "      <td>2006-09-01</td>\n",
       "      <td>0.14</td>\n",
       "      <td>9.0</td>\n",
       "      <td>2006.0</td>\n",
       "      <td>2006-9</td>\n",
       "      <td>2006-9</td>\n",
       "      <td>2085.21</td>\n",
       "    </tr>\n",
       "  </tbody>\n",
       "</table>\n",
       "<p>5 rows × 36 columns</p>\n",
       "</div>"
      ],
      "text/plain": [
       "  animaltype  intaketype intakesubtype primarycolor        primarybreed  \\\n",
       "0        CAT       STRAY           OTC        WHITE  DOMESTIC SHORTHAIR   \n",
       "1        CAT       STRAY           OTC        BLACK  DOMESTIC SHORTHAIR   \n",
       "2      OTHER  CONFISCATE       CRUELTY          RED             CHICKEN   \n",
       "3      OTHER       OTHER           nan        BROWN               OTHER   \n",
       "4        DOG   OWNER SUR           OTC        WHITE    PIT BULL TERRIER   \n",
       "\n",
       "       secondarybreed         gender secondarycolor intakereason  \\\n",
       "0                 nan  NEUTERED MALE          BROWN          nan   \n",
       "1  DOMESTIC SHORTHAIR        UNKNOWN            nan        STRAY   \n",
       "2                 nan           MALE          BLACK          nan   \n",
       "3                 nan        UNKNOWN            nan          nan   \n",
       "4                 nan           MALE          BROWN      NO TIME   \n",
       "\n",
       "  intakeinternalstatus    ...    intake_year_month outcome_year_month  \\\n",
       "0              FEARFUL    ...              2008-11            2008-11   \n",
       "1               NORMAL    ...              2008-11            2008-11   \n",
       "2                OTHER    ...               2014-7             2014-7   \n",
       "3                OTHER    ...               2014-7             2014-7   \n",
       "4               NORMAL    ...               2006-9             2006-9   \n",
       "\n",
       "   outcometype        date loiagridx month    year year_month_index  \\\n",
       "0  not_adopted  2008-11-01     -1.57  11.0  2008.0          2008-11   \n",
       "1  not_adopted  2008-11-01     -1.57  11.0  2008.0          2008-11   \n",
       "2  not_adopted  2014-07-01      7.03   7.0  2014.0           2014-7   \n",
       "3  not_adopted  2014-07-01      7.03   7.0  2014.0           2014-7   \n",
       "4  not_adopted  2006-09-01      0.14   9.0  2006.0           2006-9   \n",
       "\n",
       "   year_month    amount  \n",
       "0     2008-11  30462.52  \n",
       "1     2008-11  30462.52  \n",
       "2      2014-7  36847.45  \n",
       "3      2014-7  36847.45  \n",
       "4      2006-9   2085.21  \n",
       "\n",
       "[5 rows x 36 columns]"
      ]
     },
     "execution_count": 21,
     "metadata": {},
     "output_type": "execute_result"
    }
   ],
   "source": [
    "joined_df.head()"
   ]
  },
  {
   "cell_type": "code",
   "execution_count": null,
   "metadata": {},
   "outputs": [],
   "source": []
  }
 ],
 "metadata": {
  "kernelspec": {
   "display_name": "Python 3",
   "language": "python",
   "name": "python3"
  },
  "language_info": {
   "codemirror_mode": {
    "name": "ipython",
    "version": 3
   },
   "file_extension": ".py",
   "mimetype": "text/x-python",
   "name": "python",
   "nbconvert_exporter": "python",
   "pygments_lexer": "ipython3",
   "version": "3.6.5"
  }
 },
 "nbformat": 4,
 "nbformat_minor": 2
}
