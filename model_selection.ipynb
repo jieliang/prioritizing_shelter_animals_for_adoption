{
 "cells": [
  {
   "cell_type": "markdown",
   "metadata": {},
   "source": [
    "## model_selection"
   ]
  },
  {
   "cell_type": "markdown",
   "metadata": {},
   "source": [
    "### This file does the following:\n",
    "1. join tables from aws postgres database on animal services intake and outcome records, monthly animal services expenditures and monthly economic index to form clean data to model on.\n",
    "2. calculate cross validation scores on all candidate models.\n",
    "3. run random search cv and grid search cv on finalist models.\n",
    "4. get best estimator of each finalist\n",
    "5. compare accuracy and f1 scores of best estimator of each finalist.\n",
    "6. random forest is the winner; plot its confusion matrix and feature importances"
   ]
  },
  {
   "cell_type": "code",
   "execution_count": 156,
   "metadata": {
    "collapsed": true
   },
   "outputs": [],
   "source": [
    "from __future__ import print_function, division\n",
    "import pickle\n",
    "import numpy as np\n",
    "import psycopg2 as pg\n",
    "import pandas as pd\n",
    "import pandas.io.sql as pd_sql\n",
    "from sklearn import preprocessing\n",
    "from sklearn.metrics import roc_curve, auc\n",
    "import matplotlib.pyplot as plt\n",
    "plt.style.use('ggplot')\n",
    "\n",
    "%matplotlib inline"
   ]
  },
  {
   "cell_type": "code",
   "execution_count": 3,
   "metadata": {},
   "outputs": [],
   "source": [
    "connection_args = {\n",
    "    'host': '54.200.221.80', # current aws instance public IP\n",
    "    'user': 'ubuntu',    \n",
    "    'dbname': 'proj3',   \n",
    "    'port': 5432         \n",
    "}\n",
    "\n",
    "# We will talk about this magic Python trick!\n",
    "connection = pg.connect(**connection_args)\n"
   ]
  },
  {
   "cell_type": "code",
   "execution_count": 4,
   "metadata": {},
   "outputs": [],
   "source": [
    "from sqlalchemy import create_engine\n",
    "import psycopg2 \n",
    "import io"
   ]
  },
  {
   "cell_type": "code",
   "execution_count": 5,
   "metadata": {},
   "outputs": [],
   "source": [
    "cur = connection.cursor()"
   ]
  },
  {
   "cell_type": "code",
   "execution_count": 8,
   "metadata": {},
   "outputs": [],
   "source": [
    "query1 = \"\"\"CREATE VIEW V1 AS (\n",
    "\n",
    "  SELECT * FROM\n",
    "    animal_services a\n",
    "  LEFT JOIN \n",
    "      economic_index e \n",
    "  ON\n",
    "    a.intake_year_month = e.year_month_index\n",
    " );\"\"\""
   ]
  },
  {
   "cell_type": "code",
   "execution_count": 9,
   "metadata": {},
   "outputs": [],
   "source": [
    "cur.execute(query1)"
   ]
  },
  {
   "cell_type": "code",
   "execution_count": 10,
   "metadata": {},
   "outputs": [],
   "source": [
    "query2 = \"\"\"CREATE VIEW V2 AS (\n",
    "\n",
    "  SELECT * FROM \n",
    "    V1\n",
    "  LEFT JOIN     \n",
    "    expenses ex\n",
    "    \n",
    "  ON\n",
    "    v1.intake_year_month = ex.year_month\n",
    "  \n",
    ");\"\"\""
   ]
  },
  {
   "cell_type": "code",
   "execution_count": 11,
   "metadata": {},
   "outputs": [],
   "source": [
    "cur.execute(query2)"
   ]
  },
  {
   "cell_type": "code",
   "execution_count": null,
   "metadata": {},
   "outputs": [],
   "source": []
  },
  {
   "cell_type": "code",
   "execution_count": null,
   "metadata": {},
   "outputs": [],
   "source": []
  },
  {
   "cell_type": "code",
   "execution_count": 14,
   "metadata": {},
   "outputs": [],
   "source": [
    "df = pd.read_sql_query('select * from V2',con=connection)"
   ]
  },
  {
   "cell_type": "code",
   "execution_count": 15,
   "metadata": {},
   "outputs": [
    {
     "name": "stdout",
     "output_type": "stream",
     "text": [
      "<class 'pandas.core.frame.DataFrame'>\n",
      "RangeIndex: 141018 entries, 0 to 141017\n",
      "Data columns (total 36 columns):\n",
      "animaltype                     141018 non-null object\n",
      "intaketype                     141018 non-null object\n",
      "intakesubtype                  141018 non-null object\n",
      "primarycolor                   141018 non-null object\n",
      "primarybreed                   141018 non-null object\n",
      "secondarybreed                 141018 non-null object\n",
      "gender                         141018 non-null object\n",
      "secondarycolor                 141018 non-null object\n",
      "intakereason                   141018 non-null object\n",
      "intakeinternalstatus           141018 non-null object\n",
      "intakeasilomarstatus           141018 non-null object\n",
      "reproductivestatusatintake     141018 non-null object\n",
      "outcomeinternalstatus          141018 non-null object\n",
      "outcomeasilomarstatus          141018 non-null object\n",
      "reproductivestatusatoutcome    141018 non-null object\n",
      "hasintakeage                   141018 non-null int64\n",
      "hasoutcomeage                  141018 non-null int64\n",
      "hasdaysinshelter               141018 non-null int64\n",
      "timesinshelter                 141018 non-null int64\n",
      "scaledintakeyear               141018 non-null float64\n",
      "scaledintakemonth              141018 non-null float64\n",
      "scaledoutcomeyear              141018 non-null float64\n",
      "scaledoutcomemonth             141018 non-null float64\n",
      "scaledintakeageindays          141018 non-null float64\n",
      "scaledoutcomeageindays         141018 non-null float64\n",
      "scaleddaysinshelter            141018 non-null float64\n",
      "intake_year_month              141018 non-null object\n",
      "outcome_year_month             141018 non-null object\n",
      "outcometype                    141018 non-null object\n",
      "date                           138972 non-null object\n",
      "loiagridx                      138972 non-null float64\n",
      "month                          138972 non-null float64\n",
      "year                           138972 non-null float64\n",
      "year_month_index               138972 non-null object\n",
      "year_month                     117504 non-null object\n",
      "amount                         117504 non-null float64\n",
      "dtypes: float64(11), int64(4), object(21)\n",
      "memory usage: 38.7+ MB\n"
     ]
    }
   ],
   "source": [
    "df.info()"
   ]
  },
  {
   "cell_type": "code",
   "execution_count": 18,
   "metadata": {},
   "outputs": [],
   "source": [
    "X = df.drop(['intake_year_month','outcome_year_month','outcometype','year_month_index','year_month','date','month','year'],axis=1)\n",
    "y = df.outcometype\n"
   ]
  },
  {
   "cell_type": "code",
   "execution_count": 20,
   "metadata": {},
   "outputs": [],
   "source": [
    "#X.info()"
   ]
  },
  {
   "cell_type": "code",
   "execution_count": 21,
   "metadata": {},
   "outputs": [],
   "source": [
    "X=pd.get_dummies(X)"
   ]
  },
  {
   "cell_type": "code",
   "execution_count": 22,
   "metadata": {},
   "outputs": [
    {
     "data": {
      "text/plain": [
       "(141018, 93)"
      ]
     },
     "execution_count": 22,
     "metadata": {},
     "output_type": "execute_result"
    }
   ],
   "source": [
    "X.shape"
   ]
  },
  {
   "cell_type": "code",
   "execution_count": 45,
   "metadata": {},
   "outputs": [],
   "source": [
    "X['loiagridx'].replace(np.nan,-100,inplace=True)"
   ]
  },
  {
   "cell_type": "code",
   "execution_count": 46,
   "metadata": {},
   "outputs": [],
   "source": [
    "X['scaled_loiagridx']=preprocessing.scale(X['loiagridx'])"
   ]
  },
  {
   "cell_type": "code",
   "execution_count": 50,
   "metadata": {},
   "outputs": [],
   "source": [
    "X['amount'].replace(np.nan,-100,inplace=True)\n",
    "X['scaled_amount']=preprocessing.scale(X['amount'])"
   ]
  },
  {
   "cell_type": "code",
   "execution_count": 51,
   "metadata": {},
   "outputs": [],
   "source": [
    "X.drop(['loiagridx','amount'],axis=1, inplace=True)"
   ]
  },
  {
   "cell_type": "code",
   "execution_count": 53,
   "metadata": {},
   "outputs": [
    {
     "data": {
      "text/plain": [
       "(141018, 93)"
      ]
     },
     "execution_count": 53,
     "metadata": {},
     "output_type": "execute_result"
    }
   ],
   "source": [
    "X.shape"
   ]
  },
  {
   "cell_type": "code",
   "execution_count": 57,
   "metadata": {},
   "outputs": [],
   "source": [
    "from sklearn.cross_validation import train_test_split\n",
    "from sklearn.cross_validation import cross_val_score\n",
    "\n",
    "X_train, X_test, y_train, y_test = train_test_split(X, y, test_size=0.30, random_state=4444, stratify=y)\n"
   ]
  },
  {
   "cell_type": "code",
   "execution_count": 128,
   "metadata": {},
   "outputs": [],
   "source": [
    "with open('X_train.pkl', 'wb') as fp:\n",
    "    pickle.dump(X_train, fp)\n",
    "with open('y_train.pkl', 'wb') as fp:\n",
    "    pickle.dump(y_train, fp)\n",
    "with open('X_test.pkl', 'wb') as fp:\n",
    "    pickle.dump(X_test, fp)\n",
    "with open('y_test.pkl', 'wb') as fp:\n",
    "    pickle.dump(y_test, fp)"
   ]
  },
  {
   "cell_type": "code",
   "execution_count": 58,
   "metadata": {},
   "outputs": [],
   "source": [
    "from sklearn.naive_bayes import GaussianNB \n",
    "from sklearn.svm import SV\n",
    "from sklearn.tree import DecisionTreeClassifier \n",
    "from sklearn.ensemble import RandomForestClassifier\n",
    "from sklearn.neighbors import KNeighborsClassifier"
   ]
  },
  {
   "cell_type": "code",
   "execution_count": 59,
   "metadata": {},
   "outputs": [],
   "source": [
    "from sklearn.metrics import accuracy_score\n"
   ]
  },
  {
   "cell_type": "code",
   "execution_count": 60,
   "metadata": {},
   "outputs": [
    {
     "data": {
      "text/plain": [
       "0.8062443557654099"
      ]
     },
     "execution_count": 60,
     "metadata": {},
     "output_type": "execute_result"
    }
   ],
   "source": [
    "cross_val_score(GaussianNB(),X_train,y_train).mean()\n"
   ]
  },
  {
   "cell_type": "code",
   "execution_count": 61,
   "metadata": {},
   "outputs": [
    {
     "data": {
      "text/plain": [
       "0.9131817849839772"
      ]
     },
     "execution_count": 61,
     "metadata": {},
     "output_type": "execute_result"
    }
   ],
   "source": [
    "cross_val_score(SVC(),X_train,y_train).mean()\n"
   ]
  },
  {
   "cell_type": "code",
   "execution_count": 62,
   "metadata": {},
   "outputs": [],
   "source": [
    "from sklearn.naive_bayes import GaussianNB \n",
    "from sklearn.svm import SVC \n",
    "from sklearn.tree import DecisionTreeClassifier \n",
    "from sklearn.ensemble import RandomForestClassifier\n",
    "from sklearn.neighbors import KNeighborsClassifier"
   ]
  },
  {
   "cell_type": "code",
   "execution_count": 63,
   "metadata": {},
   "outputs": [
    {
     "data": {
      "text/plain": [
       "0.902960110050064"
      ]
     },
     "execution_count": 63,
     "metadata": {},
     "output_type": "execute_result"
    }
   ],
   "source": [
    "cross_val_score(DecisionTreeClassifier(),X_train,y_train).mean()\n"
   ]
  },
  {
   "cell_type": "code",
   "execution_count": 66,
   "metadata": {},
   "outputs": [
    {
     "data": {
      "text/plain": [
       "0.926037354392554"
      ]
     },
     "execution_count": 66,
     "metadata": {},
     "output_type": "execute_result"
    }
   ],
   "source": [
    "cross_val_score(RandomForestClassifier(),X_train,y_train).mean()\n"
   ]
  },
  {
   "cell_type": "code",
   "execution_count": 67,
   "metadata": {},
   "outputs": [
    {
     "data": {
      "text/plain": [
       "0.9034261133891167"
      ]
     },
     "execution_count": 67,
     "metadata": {},
     "output_type": "execute_result"
    }
   ],
   "source": [
    "from sklearn.linear_model import LogisticRegression\n",
    "cross_val_score(LogisticRegression(),X_train,y_train).mean()\n"
   ]
  },
  {
   "cell_type": "code",
   "execution_count": 68,
   "metadata": {},
   "outputs": [
    {
     "data": {
      "text/plain": [
       "0.8964765956948025"
      ]
     },
     "execution_count": 68,
     "metadata": {},
     "output_type": "execute_result"
    }
   ],
   "source": [
    "cross_val_score(KNeighborsClassifier(),X_train,y_train).mean()\n"
   ]
  },
  {
   "cell_type": "code",
   "execution_count": 69,
   "metadata": {},
   "outputs": [
    {
     "data": {
      "text/plain": [
       "0.9321561926895692"
      ]
     },
     "execution_count": 69,
     "metadata": {},
     "output_type": "execute_result"
    }
   ],
   "source": [
    "from sklearn.ensemble import RandomForestClassifier, BaggingClassifier\n",
    "cross_val_score(BaggingClassifier(base_estimator=DecisionTreeClassifier(), n_estimators=50, n_jobs=-1),X_train,y_train).mean()\n",
    "\n"
   ]
  },
  {
   "cell_type": "code",
   "execution_count": 20,
   "metadata": {},
   "outputs": [
    {
     "data": {
      "text/plain": [
       "(150062, 1040)"
      ]
     },
     "execution_count": 20,
     "metadata": {},
     "output_type": "execute_result"
    }
   ],
   "source": [
    "X.shape"
   ]
  },
  {
   "cell_type": "markdown",
   "metadata": {},
   "source": [
    "sklearn metrics scores\n",
    "\n",
    "Scoring\tFunction\tComment\n",
    "Classification\t \t \n",
    "‘accuracy’\tmetrics.accuracy_score\t \n",
    "‘average_precision’\tmetrics.average_precision_score\t \n",
    "‘f1’\tmetrics.f1_score\tfor binary targets\n",
    "‘f1_micro’\tmetrics.f1_score\tmicro-averaged\n",
    "‘f1_macro’\tmetrics.f1_score\tmacro-averaged\n",
    "‘f1_weighted’\tmetrics.f1_score\tweighted average\n",
    "‘f1_samples’\tmetrics.f1_score\tby multilabel sample\n",
    "‘neg_log_loss’\tmetrics.log_loss\trequires predict_proba support\n",
    "‘precision’ etc.\tmetrics.precision_score\tsuffixes apply as with ‘f1’\n",
    "‘recall’ etc.\tmetrics.recall_score\tsuffixes apply as with ‘f1’\n",
    "‘roc_auc’\tmetrics.roc_auc_score"
   ]
  },
  {
   "cell_type": "code",
   "execution_count": null,
   "metadata": {},
   "outputs": [],
   "source": [
    "# Number of trees in random forest\n",
    "n_estimators = [int(x) for x in np.linspace(start = 20, stop = 200, num = 20)]\n",
    "# Number of features to consider at every split\n",
    "max_features = ['auto', 'sqrt']\n",
    "# Maximum number of levels in tree\n",
    "max_depth = [int(x) for x in np.linspace(10, 110, num = 11)]\n",
    "max_depth.append(None)\n",
    "# Minimum number of samples required to split a node\n",
    "min_samples_split = [2, 5, 10]\n",
    "# Minimum number of samples required at each leaf node\n",
    "min_samples_leaf = [1, 2, 4]\n",
    "# Method of selecting samples for training each tree\n",
    "bootstrap = [True, False]\n",
    "# Create the random grid\n",
    "random_grid = {'n_estimators': n_estimators,\n",
    "               'max_features': max_features,\n",
    "               'max_depth': max_depth,\n",
    "               'min_samples_split': min_samples_split,\n",
    "               'min_samples_leaf': min_samples_leaf,\n",
    "               'bootstrap': bootstrap}"
   ]
  },
  {
   "cell_type": "code",
   "execution_count": 71,
   "metadata": {},
   "outputs": [
    {
     "name": "stdout",
     "output_type": "stream",
     "text": [
      "Fitting 3 folds for each of 100 candidates, totalling 300 fits\n",
      "[CV] n_estimators=67, min_samples_split=5, min_samples_leaf=4, max_features=sqrt, max_depth=70, bootstrap=False \n",
      "[CV] n_estimators=67, min_samples_split=5, min_samples_leaf=4, max_features=sqrt, max_depth=70, bootstrap=False \n",
      "[CV] n_estimators=67, min_samples_split=5, min_samples_leaf=4, max_features=sqrt, max_depth=70, bootstrap=False \n",
      "[CV] n_estimators=114, min_samples_split=2, min_samples_leaf=2, max_features=sqrt, max_depth=10, bootstrap=False \n",
      "[CV]  n_estimators=67, min_samples_split=5, min_samples_leaf=4, max_features=sqrt, max_depth=70, bootstrap=False, total=   8.9s\n",
      "[CV] n_estimators=114, min_samples_split=2, min_samples_leaf=2, max_features=sqrt, max_depth=10, bootstrap=False \n",
      "[CV]  n_estimators=67, min_samples_split=5, min_samples_leaf=4, max_features=sqrt, max_depth=70, bootstrap=False, total=   9.0s\n",
      "[CV] n_estimators=114, min_samples_split=2, min_samples_leaf=2, max_features=sqrt, max_depth=10, bootstrap=False \n",
      "[CV]  n_estimators=67, min_samples_split=5, min_samples_leaf=4, max_features=sqrt, max_depth=70, bootstrap=False, total=   9.1s\n",
      "[CV] n_estimators=38, min_samples_split=10, min_samples_leaf=1, max_features=sqrt, max_depth=10, bootstrap=True \n",
      "[CV]  n_estimators=114, min_samples_split=2, min_samples_leaf=2, max_features=sqrt, max_depth=10, bootstrap=False, total=   9.7s\n",
      "[CV] n_estimators=38, min_samples_split=10, min_samples_leaf=1, max_features=sqrt, max_depth=10, bootstrap=True \n",
      "[CV]  n_estimators=38, min_samples_split=10, min_samples_leaf=1, max_features=sqrt, max_depth=10, bootstrap=True, total=   2.6s\n",
      "[CV] n_estimators=38, min_samples_split=10, min_samples_leaf=1, max_features=sqrt, max_depth=10, bootstrap=True \n",
      "[CV]  n_estimators=38, min_samples_split=10, min_samples_leaf=1, max_features=sqrt, max_depth=10, bootstrap=True, total=   2.6s\n",
      "[CV] n_estimators=57, min_samples_split=5, min_samples_leaf=1, max_features=auto, max_depth=None, bootstrap=True \n",
      "[CV]  n_estimators=38, min_samples_split=10, min_samples_leaf=1, max_features=sqrt, max_depth=10, bootstrap=True, total=   2.6s\n",
      "[CV] n_estimators=57, min_samples_split=5, min_samples_leaf=1, max_features=auto, max_depth=None, bootstrap=True \n",
      "[CV]  n_estimators=57, min_samples_split=5, min_samples_leaf=1, max_features=auto, max_depth=None, bootstrap=True, total=   5.6s\n",
      "[CV] n_estimators=57, min_samples_split=5, min_samples_leaf=1, max_features=auto, max_depth=None, bootstrap=True \n",
      "[CV]  n_estimators=114, min_samples_split=2, min_samples_leaf=2, max_features=sqrt, max_depth=10, bootstrap=False, total=   9.8s\n",
      "[CV] n_estimators=190, min_samples_split=2, min_samples_leaf=4, max_features=sqrt, max_depth=10, bootstrap=True \n",
      "[CV]  n_estimators=114, min_samples_split=2, min_samples_leaf=2, max_features=sqrt, max_depth=10, bootstrap=False, total=  10.1s\n",
      "[CV] n_estimators=190, min_samples_split=2, min_samples_leaf=4, max_features=sqrt, max_depth=10, bootstrap=True \n",
      "[CV]  n_estimators=57, min_samples_split=5, min_samples_leaf=1, max_features=auto, max_depth=None, bootstrap=True, total=   5.7s\n",
      "[CV] n_estimators=190, min_samples_split=2, min_samples_leaf=4, max_features=sqrt, max_depth=10, bootstrap=True \n",
      "[CV]  n_estimators=57, min_samples_split=5, min_samples_leaf=1, max_features=auto, max_depth=None, bootstrap=True, total=   5.8s\n",
      "[CV] n_estimators=133, min_samples_split=10, min_samples_leaf=1, max_features=sqrt, max_depth=70, bootstrap=False \n",
      "[CV]  n_estimators=190, min_samples_split=2, min_samples_leaf=4, max_features=sqrt, max_depth=10, bootstrap=True, total=  11.9s\n",
      "[CV] n_estimators=133, min_samples_split=10, min_samples_leaf=1, max_features=sqrt, max_depth=70, bootstrap=False \n",
      "[CV]  n_estimators=190, min_samples_split=2, min_samples_leaf=4, max_features=sqrt, max_depth=10, bootstrap=True, total=  12.1s\n",
      "[CV] n_estimators=133, min_samples_split=10, min_samples_leaf=1, max_features=sqrt, max_depth=70, bootstrap=False \n",
      "[CV]  n_estimators=190, min_samples_split=2, min_samples_leaf=4, max_features=sqrt, max_depth=10, bootstrap=True, total=  11.9s\n",
      "[CV] n_estimators=171, min_samples_split=2, min_samples_leaf=1, max_features=auto, max_depth=30, bootstrap=True \n",
      "[CV]  n_estimators=133, min_samples_split=10, min_samples_leaf=1, max_features=sqrt, max_depth=70, bootstrap=False, total=  18.1s\n",
      "[CV] n_estimators=171, min_samples_split=2, min_samples_leaf=1, max_features=auto, max_depth=30, bootstrap=True \n",
      "[CV]  n_estimators=133, min_samples_split=10, min_samples_leaf=1, max_features=sqrt, max_depth=70, bootstrap=False, total=  18.4s\n",
      "[CV] n_estimators=171, min_samples_split=2, min_samples_leaf=1, max_features=auto, max_depth=30, bootstrap=True \n",
      "[CV]  n_estimators=133, min_samples_split=10, min_samples_leaf=1, max_features=sqrt, max_depth=70, bootstrap=False, total=  18.6s\n",
      "[CV] n_estimators=181, min_samples_split=5, min_samples_leaf=1, max_features=auto, max_depth=110, bootstrap=False \n",
      "[CV]  n_estimators=171, min_samples_split=2, min_samples_leaf=1, max_features=auto, max_depth=30, bootstrap=True, total=  16.9s\n",
      "[CV] n_estimators=181, min_samples_split=5, min_samples_leaf=1, max_features=auto, max_depth=110, bootstrap=False \n",
      "[CV]  n_estimators=171, min_samples_split=2, min_samples_leaf=1, max_features=auto, max_depth=30, bootstrap=True, total=  17.1s\n",
      "[CV] n_estimators=181, min_samples_split=5, min_samples_leaf=1, max_features=auto, max_depth=110, bootstrap=False \n",
      "[CV]  n_estimators=171, min_samples_split=2, min_samples_leaf=1, max_features=auto, max_depth=30, bootstrap=True, total=  17.1s\n",
      "[CV] n_estimators=38, min_samples_split=2, min_samples_leaf=2, max_features=sqrt, max_depth=110, bootstrap=False \n",
      "[CV]  n_estimators=38, min_samples_split=2, min_samples_leaf=2, max_features=sqrt, max_depth=110, bootstrap=False, total=   5.4s\n",
      "[CV] n_estimators=38, min_samples_split=2, min_samples_leaf=2, max_features=sqrt, max_depth=110, bootstrap=False \n",
      "[CV]  n_estimators=181, min_samples_split=5, min_samples_leaf=1, max_features=auto, max_depth=110, bootstrap=False, total=  25.4s\n",
      "[CV] n_estimators=38, min_samples_split=2, min_samples_leaf=2, max_features=sqrt, max_depth=110, bootstrap=False \n",
      "[CV]  n_estimators=181, min_samples_split=5, min_samples_leaf=1, max_features=auto, max_depth=110, bootstrap=False, total=  25.6s\n",
      "[CV] n_estimators=105, min_samples_split=10, min_samples_leaf=1, max_features=sqrt, max_depth=100, bootstrap=True \n",
      "[CV]  n_estimators=38, min_samples_split=2, min_samples_leaf=2, max_features=sqrt, max_depth=110, bootstrap=False, total=   5.4s\n",
      "[CV] n_estimators=105, min_samples_split=10, min_samples_leaf=1, max_features=sqrt, max_depth=100, bootstrap=True \n",
      "[CV]  n_estimators=38, min_samples_split=2, min_samples_leaf=2, max_features=sqrt, max_depth=110, bootstrap=False, total=   5.5s\n",
      "[CV] n_estimators=105, min_samples_split=10, min_samples_leaf=1, max_features=sqrt, max_depth=100, bootstrap=True \n",
      "[CV]  n_estimators=181, min_samples_split=5, min_samples_leaf=1, max_features=auto, max_depth=110, bootstrap=False, total=  25.5s\n",
      "[CV] n_estimators=86, min_samples_split=5, min_samples_leaf=4, max_features=sqrt, max_depth=None, bootstrap=False \n",
      "[CV]  n_estimators=105, min_samples_split=10, min_samples_leaf=1, max_features=sqrt, max_depth=100, bootstrap=True, total=   9.7s\n",
      "[CV] n_estimators=86, min_samples_split=5, min_samples_leaf=4, max_features=sqrt, max_depth=None, bootstrap=False \n",
      "[CV]  n_estimators=105, min_samples_split=10, min_samples_leaf=1, max_features=sqrt, max_depth=100, bootstrap=True, total=   9.9s\n",
      "[CV] n_estimators=86, min_samples_split=5, min_samples_leaf=4, max_features=sqrt, max_depth=None, bootstrap=False \n",
      "[CV]  n_estimators=105, min_samples_split=10, min_samples_leaf=1, max_features=sqrt, max_depth=100, bootstrap=True, total=  10.1s\n",
      "[CV] n_estimators=171, min_samples_split=2, min_samples_leaf=1, max_features=auto, max_depth=110, bootstrap=True \n",
      "[CV]  n_estimators=86, min_samples_split=5, min_samples_leaf=4, max_features=sqrt, max_depth=None, bootstrap=False, total=  11.3s\n",
      "[CV] n_estimators=171, min_samples_split=2, min_samples_leaf=1, max_features=auto, max_depth=110, bootstrap=True \n",
      "[CV]  n_estimators=86, min_samples_split=5, min_samples_leaf=4, max_features=sqrt, max_depth=None, bootstrap=False, total=  11.5s\n",
      "[CV] n_estimators=171, min_samples_split=2, min_samples_leaf=1, max_features=auto, max_depth=110, bootstrap=True \n"
     ]
    },
    {
     "name": "stdout",
     "output_type": "stream",
     "text": [
      "[CV]  n_estimators=86, min_samples_split=5, min_samples_leaf=4, max_features=sqrt, max_depth=None, bootstrap=False, total=  11.6s\n",
      "[CV] n_estimators=48, min_samples_split=2, min_samples_leaf=1, max_features=sqrt, max_depth=40, bootstrap=True \n"
     ]
    },
    {
     "name": "stderr",
     "output_type": "stream",
     "text": [
      "[Parallel(n_jobs=-1)]: Done  33 tasks      | elapsed:  1.9min\n"
     ]
    },
    {
     "name": "stdout",
     "output_type": "stream",
     "text": [
      "[CV]  n_estimators=48, min_samples_split=2, min_samples_leaf=1, max_features=sqrt, max_depth=40, bootstrap=True, total=   5.0s\n",
      "[CV] n_estimators=48, min_samples_split=2, min_samples_leaf=1, max_features=sqrt, max_depth=40, bootstrap=True \n",
      "[CV]  n_estimators=171, min_samples_split=2, min_samples_leaf=1, max_features=auto, max_depth=110, bootstrap=True, total=  17.5s\n",
      "[CV] n_estimators=48, min_samples_split=2, min_samples_leaf=1, max_features=sqrt, max_depth=40, bootstrap=True \n",
      "[CV]  n_estimators=48, min_samples_split=2, min_samples_leaf=1, max_features=sqrt, max_depth=40, bootstrap=True, total=   4.9s\n",
      "[CV] n_estimators=105, min_samples_split=5, min_samples_leaf=1, max_features=auto, max_depth=20, bootstrap=False \n",
      "[CV]  n_estimators=171, min_samples_split=2, min_samples_leaf=1, max_features=auto, max_depth=110, bootstrap=True, total=  17.0s\n",
      "[CV] n_estimators=105, min_samples_split=5, min_samples_leaf=1, max_features=auto, max_depth=20, bootstrap=False \n",
      "[CV]  n_estimators=48, min_samples_split=2, min_samples_leaf=1, max_features=sqrt, max_depth=40, bootstrap=True, total=   5.0s\n",
      "[CV] n_estimators=105, min_samples_split=5, min_samples_leaf=1, max_features=auto, max_depth=20, bootstrap=False \n",
      "[CV]  n_estimators=171, min_samples_split=2, min_samples_leaf=1, max_features=auto, max_depth=110, bootstrap=True, total=  16.9s\n",
      "[CV] n_estimators=86, min_samples_split=5, min_samples_leaf=4, max_features=auto, max_depth=20, bootstrap=False \n",
      "[CV]  n_estimators=105, min_samples_split=5, min_samples_leaf=1, max_features=auto, max_depth=20, bootstrap=False, total=  13.9s\n",
      "[CV] n_estimators=86, min_samples_split=5, min_samples_leaf=4, max_features=auto, max_depth=20, bootstrap=False \n",
      "[CV]  n_estimators=86, min_samples_split=5, min_samples_leaf=4, max_features=auto, max_depth=20, bootstrap=False, total=  11.1s\n",
      "[CV] n_estimators=86, min_samples_split=5, min_samples_leaf=4, max_features=auto, max_depth=20, bootstrap=False \n",
      "[CV]  n_estimators=105, min_samples_split=5, min_samples_leaf=1, max_features=auto, max_depth=20, bootstrap=False, total=  14.0s\n",
      "[CV] n_estimators=76, min_samples_split=10, min_samples_leaf=4, max_features=sqrt, max_depth=40, bootstrap=True \n",
      "[CV]  n_estimators=105, min_samples_split=5, min_samples_leaf=1, max_features=auto, max_depth=20, bootstrap=False, total=  14.2s\n",
      "[CV] n_estimators=76, min_samples_split=10, min_samples_leaf=4, max_features=sqrt, max_depth=40, bootstrap=True \n",
      "[CV]  n_estimators=86, min_samples_split=5, min_samples_leaf=4, max_features=auto, max_depth=20, bootstrap=False, total=  11.3s\n",
      "[CV] n_estimators=76, min_samples_split=10, min_samples_leaf=4, max_features=sqrt, max_depth=40, bootstrap=True \n",
      "[CV]  n_estimators=76, min_samples_split=10, min_samples_leaf=4, max_features=sqrt, max_depth=40, bootstrap=True, total=   6.9s\n",
      "[CV] n_estimators=38, min_samples_split=2, min_samples_leaf=4, max_features=auto, max_depth=40, bootstrap=False \n",
      "[CV]  n_estimators=76, min_samples_split=10, min_samples_leaf=4, max_features=sqrt, max_depth=40, bootstrap=True, total=   6.8s\n",
      "[CV] n_estimators=38, min_samples_split=2, min_samples_leaf=4, max_features=auto, max_depth=40, bootstrap=False \n",
      "[CV]  n_estimators=86, min_samples_split=5, min_samples_leaf=4, max_features=auto, max_depth=20, bootstrap=False, total=  11.0s\n",
      "[CV] n_estimators=38, min_samples_split=2, min_samples_leaf=4, max_features=auto, max_depth=40, bootstrap=False \n",
      "[CV]  n_estimators=38, min_samples_split=2, min_samples_leaf=4, max_features=auto, max_depth=40, bootstrap=False, total=   5.2s\n",
      "[CV] n_estimators=95, min_samples_split=5, min_samples_leaf=1, max_features=sqrt, max_depth=40, bootstrap=False \n",
      "[CV]  n_estimators=38, min_samples_split=2, min_samples_leaf=4, max_features=auto, max_depth=40, bootstrap=False, total=   5.2s\n",
      "[CV] n_estimators=95, min_samples_split=5, min_samples_leaf=1, max_features=sqrt, max_depth=40, bootstrap=False \n",
      "[CV]  n_estimators=38, min_samples_split=2, min_samples_leaf=4, max_features=auto, max_depth=40, bootstrap=False, total=   5.1s\n",
      "[CV] n_estimators=95, min_samples_split=5, min_samples_leaf=1, max_features=sqrt, max_depth=40, bootstrap=False \n",
      "[CV]  n_estimators=76, min_samples_split=10, min_samples_leaf=4, max_features=sqrt, max_depth=40, bootstrap=True, total=   6.8s\n",
      "[CV] n_estimators=152, min_samples_split=2, min_samples_leaf=4, max_features=sqrt, max_depth=110, bootstrap=False \n",
      "[CV]  n_estimators=95, min_samples_split=5, min_samples_leaf=1, max_features=sqrt, max_depth=40, bootstrap=False, total=  13.5s\n",
      "[CV] n_estimators=152, min_samples_split=2, min_samples_leaf=4, max_features=sqrt, max_depth=110, bootstrap=False \n",
      "[CV]  n_estimators=95, min_samples_split=5, min_samples_leaf=1, max_features=sqrt, max_depth=40, bootstrap=False, total=  13.6s\n",
      "[CV] n_estimators=152, min_samples_split=2, min_samples_leaf=4, max_features=sqrt, max_depth=110, bootstrap=False \n",
      "[CV]  n_estimators=95, min_samples_split=5, min_samples_leaf=1, max_features=sqrt, max_depth=40, bootstrap=False, total=  13.5s\n",
      "[CV] n_estimators=76, min_samples_split=10, min_samples_leaf=1, max_features=auto, max_depth=70, bootstrap=False \n",
      "[CV]  n_estimators=152, min_samples_split=2, min_samples_leaf=4, max_features=sqrt, max_depth=110, bootstrap=False, total=  19.8s\n",
      "[CV] n_estimators=76, min_samples_split=10, min_samples_leaf=1, max_features=auto, max_depth=70, bootstrap=False \n",
      "[CV]  n_estimators=76, min_samples_split=10, min_samples_leaf=1, max_features=auto, max_depth=70, bootstrap=False, total=  10.6s\n",
      "[CV] n_estimators=76, min_samples_split=10, min_samples_leaf=1, max_features=auto, max_depth=70, bootstrap=False \n",
      "[CV]  n_estimators=76, min_samples_split=10, min_samples_leaf=1, max_features=auto, max_depth=70, bootstrap=False, total=  10.7s\n",
      "[CV] n_estimators=162, min_samples_split=10, min_samples_leaf=4, max_features=sqrt, max_depth=30, bootstrap=True \n",
      "[CV]  n_estimators=152, min_samples_split=2, min_samples_leaf=4, max_features=sqrt, max_depth=110, bootstrap=False, total=  20.1s\n",
      "[CV] n_estimators=162, min_samples_split=10, min_samples_leaf=4, max_features=sqrt, max_depth=30, bootstrap=True \n",
      "[CV]  n_estimators=152, min_samples_split=2, min_samples_leaf=4, max_features=sqrt, max_depth=110, bootstrap=False, total=  20.1s\n",
      "[CV] n_estimators=162, min_samples_split=10, min_samples_leaf=4, max_features=sqrt, max_depth=30, bootstrap=True \n",
      "[CV]  n_estimators=76, min_samples_split=10, min_samples_leaf=1, max_features=auto, max_depth=70, bootstrap=False, total=  10.6s\n",
      "[CV] n_estimators=38, min_samples_split=10, min_samples_leaf=2, max_features=auto, max_depth=80, bootstrap=False \n",
      "[CV]  n_estimators=38, min_samples_split=10, min_samples_leaf=2, max_features=auto, max_depth=80, bootstrap=False, total=   5.4s\n",
      "[CV] n_estimators=38, min_samples_split=10, min_samples_leaf=2, max_features=auto, max_depth=80, bootstrap=False \n",
      "[CV]  n_estimators=38, min_samples_split=10, min_samples_leaf=2, max_features=auto, max_depth=80, bootstrap=False, total=   5.4s\n",
      "[CV] n_estimators=38, min_samples_split=10, min_samples_leaf=2, max_features=auto, max_depth=80, bootstrap=False \n",
      "[CV]  n_estimators=162, min_samples_split=10, min_samples_leaf=4, max_features=sqrt, max_depth=30, bootstrap=True, total=  14.8s\n",
      "[CV] n_estimators=133, min_samples_split=5, min_samples_leaf=4, max_features=sqrt, max_depth=None, bootstrap=True \n",
      "[CV]  n_estimators=162, min_samples_split=10, min_samples_leaf=4, max_features=sqrt, max_depth=30, bootstrap=True, total=  14.6s\n",
      "[CV] n_estimators=133, min_samples_split=5, min_samples_leaf=4, max_features=sqrt, max_depth=None, bootstrap=True \n",
      "[CV]  n_estimators=162, min_samples_split=10, min_samples_leaf=4, max_features=sqrt, max_depth=30, bootstrap=True, total=  14.5s\n",
      "[CV] n_estimators=133, min_samples_split=5, min_samples_leaf=4, max_features=sqrt, max_depth=None, bootstrap=True \n",
      "[CV]  n_estimators=38, min_samples_split=10, min_samples_leaf=2, max_features=auto, max_depth=80, bootstrap=False, total=   5.4s\n",
      "[CV] n_estimators=57, min_samples_split=2, min_samples_leaf=2, max_features=sqrt, max_depth=None, bootstrap=True \n",
      "[CV]  n_estimators=57, min_samples_split=2, min_samples_leaf=2, max_features=sqrt, max_depth=None, bootstrap=True, total=   5.6s\n",
      "[CV] n_estimators=57, min_samples_split=2, min_samples_leaf=2, max_features=sqrt, max_depth=None, bootstrap=True \n"
     ]
    },
    {
     "name": "stdout",
     "output_type": "stream",
     "text": [
      "[CV]  n_estimators=133, min_samples_split=5, min_samples_leaf=4, max_features=sqrt, max_depth=None, bootstrap=True, total=  12.1s\n",
      "[CV] n_estimators=57, min_samples_split=2, min_samples_leaf=2, max_features=sqrt, max_depth=None, bootstrap=True \n",
      "[CV]  n_estimators=133, min_samples_split=5, min_samples_leaf=4, max_features=sqrt, max_depth=None, bootstrap=True, total=  12.0s\n",
      "[CV] n_estimators=181, min_samples_split=2, min_samples_leaf=2, max_features=sqrt, max_depth=100, bootstrap=True \n",
      "[CV]  n_estimators=133, min_samples_split=5, min_samples_leaf=4, max_features=sqrt, max_depth=None, bootstrap=True, total=  11.9s\n",
      "[CV] n_estimators=181, min_samples_split=2, min_samples_leaf=2, max_features=sqrt, max_depth=100, bootstrap=True \n",
      "[CV]  n_estimators=57, min_samples_split=2, min_samples_leaf=2, max_features=sqrt, max_depth=None, bootstrap=True, total=   5.5s\n",
      "[CV] n_estimators=181, min_samples_split=2, min_samples_leaf=2, max_features=sqrt, max_depth=100, bootstrap=True \n",
      "[CV]  n_estimators=57, min_samples_split=2, min_samples_leaf=2, max_features=sqrt, max_depth=None, bootstrap=True, total=   5.6s\n",
      "[CV] n_estimators=20, min_samples_split=2, min_samples_leaf=2, max_features=auto, max_depth=20, bootstrap=False \n",
      "[CV]  n_estimators=20, min_samples_split=2, min_samples_leaf=2, max_features=auto, max_depth=20, bootstrap=False, total=   2.9s\n",
      "[CV] n_estimators=20, min_samples_split=2, min_samples_leaf=2, max_features=auto, max_depth=20, bootstrap=False \n",
      "[CV]  n_estimators=20, min_samples_split=2, min_samples_leaf=2, max_features=auto, max_depth=20, bootstrap=False, total=   2.9s\n",
      "[CV] n_estimators=20, min_samples_split=2, min_samples_leaf=2, max_features=auto, max_depth=20, bootstrap=False \n",
      "[CV]  n_estimators=20, min_samples_split=2, min_samples_leaf=2, max_features=auto, max_depth=20, bootstrap=False, total=   3.0s\n",
      "[CV] n_estimators=105, min_samples_split=10, min_samples_leaf=4, max_features=sqrt, max_depth=90, bootstrap=False \n",
      "[CV]  n_estimators=181, min_samples_split=2, min_samples_leaf=2, max_features=sqrt, max_depth=100, bootstrap=True, total=  17.1s\n",
      "[CV] n_estimators=105, min_samples_split=10, min_samples_leaf=4, max_features=sqrt, max_depth=90, bootstrap=False \n",
      "[CV]  n_estimators=181, min_samples_split=2, min_samples_leaf=2, max_features=sqrt, max_depth=100, bootstrap=True, total=  17.2s\n",
      "[CV] n_estimators=105, min_samples_split=10, min_samples_leaf=4, max_features=sqrt, max_depth=90, bootstrap=False \n",
      "[CV]  n_estimators=181, min_samples_split=2, min_samples_leaf=2, max_features=sqrt, max_depth=100, bootstrap=True, total=  17.1s\n",
      "[CV] n_estimators=190, min_samples_split=2, min_samples_leaf=2, max_features=auto, max_depth=80, bootstrap=False \n",
      "[CV]  n_estimators=105, min_samples_split=10, min_samples_leaf=4, max_features=sqrt, max_depth=90, bootstrap=False, total=  13.8s\n",
      "[CV] n_estimators=190, min_samples_split=2, min_samples_leaf=2, max_features=auto, max_depth=80, bootstrap=False \n",
      "[CV]  n_estimators=105, min_samples_split=10, min_samples_leaf=4, max_features=sqrt, max_depth=90, bootstrap=False, total=  13.9s\n",
      "[CV] n_estimators=190, min_samples_split=2, min_samples_leaf=2, max_features=auto, max_depth=80, bootstrap=False \n",
      "[CV]  n_estimators=105, min_samples_split=10, min_samples_leaf=4, max_features=sqrt, max_depth=90, bootstrap=False, total=  14.1s\n",
      "[CV] n_estimators=171, min_samples_split=10, min_samples_leaf=4, max_features=sqrt, max_depth=70, bootstrap=True \n",
      "[CV]  n_estimators=190, min_samples_split=2, min_samples_leaf=2, max_features=auto, max_depth=80, bootstrap=False, total=  26.5s\n",
      "[CV] n_estimators=171, min_samples_split=10, min_samples_leaf=4, max_features=sqrt, max_depth=70, bootstrap=True \n",
      "[CV]  n_estimators=171, min_samples_split=10, min_samples_leaf=4, max_features=sqrt, max_depth=70, bootstrap=True, total=  15.3s\n",
      "[CV] n_estimators=171, min_samples_split=10, min_samples_leaf=4, max_features=sqrt, max_depth=70, bootstrap=True \n",
      "[CV]  n_estimators=190, min_samples_split=2, min_samples_leaf=2, max_features=auto, max_depth=80, bootstrap=False, total=  26.8s\n",
      "[CV] n_estimators=48, min_samples_split=10, min_samples_leaf=2, max_features=auto, max_depth=50, bootstrap=True \n",
      "[CV]  n_estimators=190, min_samples_split=2, min_samples_leaf=2, max_features=auto, max_depth=80, bootstrap=False, total=  26.6s\n",
      "[CV] n_estimators=48, min_samples_split=10, min_samples_leaf=2, max_features=auto, max_depth=50, bootstrap=True \n",
      "[CV]  n_estimators=48, min_samples_split=10, min_samples_leaf=2, max_features=auto, max_depth=50, bootstrap=True, total=   4.6s\n",
      "[CV] n_estimators=48, min_samples_split=10, min_samples_leaf=2, max_features=auto, max_depth=50, bootstrap=True \n",
      "[CV]  n_estimators=48, min_samples_split=10, min_samples_leaf=2, max_features=auto, max_depth=50, bootstrap=True, total=   4.7s\n",
      "[CV] n_estimators=95, min_samples_split=2, min_samples_leaf=1, max_features=auto, max_depth=90, bootstrap=True \n",
      "[CV]  n_estimators=171, min_samples_split=10, min_samples_leaf=4, max_features=sqrt, max_depth=70, bootstrap=True, total=  15.3s\n",
      "[CV] n_estimators=95, min_samples_split=2, min_samples_leaf=1, max_features=auto, max_depth=90, bootstrap=True \n",
      "[CV]  n_estimators=171, min_samples_split=10, min_samples_leaf=4, max_features=sqrt, max_depth=70, bootstrap=True, total=  15.1s\n",
      "[CV] n_estimators=95, min_samples_split=2, min_samples_leaf=1, max_features=auto, max_depth=90, bootstrap=True \n",
      "[CV]  n_estimators=48, min_samples_split=10, min_samples_leaf=2, max_features=auto, max_depth=50, bootstrap=True, total=   4.4s\n",
      "[CV] n_estimators=86, min_samples_split=2, min_samples_leaf=2, max_features=auto, max_depth=40, bootstrap=True \n",
      "[CV]  n_estimators=86, min_samples_split=2, min_samples_leaf=2, max_features=auto, max_depth=40, bootstrap=True, total=   8.3s\n",
      "[CV] n_estimators=86, min_samples_split=2, min_samples_leaf=2, max_features=auto, max_depth=40, bootstrap=True \n",
      "[CV]  n_estimators=95, min_samples_split=2, min_samples_leaf=1, max_features=auto, max_depth=90, bootstrap=True, total=   9.8s\n",
      "[CV] n_estimators=86, min_samples_split=2, min_samples_leaf=2, max_features=auto, max_depth=40, bootstrap=True \n",
      "[CV]  n_estimators=95, min_samples_split=2, min_samples_leaf=1, max_features=auto, max_depth=90, bootstrap=True, total=   9.5s\n",
      "[CV] n_estimators=124, min_samples_split=5, min_samples_leaf=4, max_features=sqrt, max_depth=40, bootstrap=False \n",
      "[CV]  n_estimators=95, min_samples_split=2, min_samples_leaf=1, max_features=auto, max_depth=90, bootstrap=True, total=   9.5s\n",
      "[CV] n_estimators=124, min_samples_split=5, min_samples_leaf=4, max_features=sqrt, max_depth=40, bootstrap=False \n",
      "[CV]  n_estimators=86, min_samples_split=2, min_samples_leaf=2, max_features=auto, max_depth=40, bootstrap=True, total=   8.5s\n",
      "[CV] n_estimators=124, min_samples_split=5, min_samples_leaf=4, max_features=sqrt, max_depth=40, bootstrap=False \n",
      "[CV]  n_estimators=86, min_samples_split=2, min_samples_leaf=2, max_features=auto, max_depth=40, bootstrap=True, total=   8.7s\n",
      "[CV] n_estimators=181, min_samples_split=2, min_samples_leaf=1, max_features=auto, max_depth=80, bootstrap=False \n",
      "[CV]  n_estimators=124, min_samples_split=5, min_samples_leaf=4, max_features=sqrt, max_depth=40, bootstrap=False, total=  16.5s\n",
      "[CV] n_estimators=181, min_samples_split=2, min_samples_leaf=1, max_features=auto, max_depth=80, bootstrap=False \n",
      "[CV]  n_estimators=124, min_samples_split=5, min_samples_leaf=4, max_features=sqrt, max_depth=40, bootstrap=False, total=  16.7s\n",
      "[CV] n_estimators=181, min_samples_split=2, min_samples_leaf=1, max_features=auto, max_depth=80, bootstrap=False \n",
      "[CV]  n_estimators=124, min_samples_split=5, min_samples_leaf=4, max_features=sqrt, max_depth=40, bootstrap=False, total=  16.5s\n",
      "[CV] n_estimators=67, min_samples_split=5, min_samples_leaf=4, max_features=sqrt, max_depth=None, bootstrap=False \n",
      "[CV]  n_estimators=67, min_samples_split=5, min_samples_leaf=4, max_features=sqrt, max_depth=None, bootstrap=False, total=   8.8s\n",
      "[CV] n_estimators=67, min_samples_split=5, min_samples_leaf=4, max_features=sqrt, max_depth=None, bootstrap=False \n",
      "[CV]  n_estimators=181, min_samples_split=2, min_samples_leaf=1, max_features=auto, max_depth=80, bootstrap=False, total=  26.3s\n",
      "[CV] n_estimators=67, min_samples_split=5, min_samples_leaf=4, max_features=sqrt, max_depth=None, bootstrap=False \n"
     ]
    },
    {
     "name": "stdout",
     "output_type": "stream",
     "text": [
      "[CV]  n_estimators=67, min_samples_split=5, min_samples_leaf=4, max_features=sqrt, max_depth=None, bootstrap=False, total=   9.0s\n",
      "[CV] n_estimators=20, min_samples_split=10, min_samples_leaf=2, max_features=sqrt, max_depth=110, bootstrap=True \n",
      "[CV]  n_estimators=181, min_samples_split=2, min_samples_leaf=1, max_features=auto, max_depth=80, bootstrap=False, total=  26.7s\n",
      "[CV] n_estimators=20, min_samples_split=10, min_samples_leaf=2, max_features=sqrt, max_depth=110, bootstrap=True \n",
      "[CV]  n_estimators=181, min_samples_split=2, min_samples_leaf=1, max_features=auto, max_depth=80, bootstrap=False, total=  26.3s\n",
      "[CV] n_estimators=20, min_samples_split=10, min_samples_leaf=2, max_features=sqrt, max_depth=110, bootstrap=True \n",
      "[CV]  n_estimators=67, min_samples_split=5, min_samples_leaf=4, max_features=sqrt, max_depth=None, bootstrap=False, total=   8.8s\n",
      "[CV] n_estimators=200, min_samples_split=10, min_samples_leaf=1, max_features=sqrt, max_depth=50, bootstrap=False \n",
      "[CV]  n_estimators=20, min_samples_split=10, min_samples_leaf=2, max_features=sqrt, max_depth=110, bootstrap=True, total=   2.0s\n",
      "[CV] n_estimators=200, min_samples_split=10, min_samples_leaf=1, max_features=sqrt, max_depth=50, bootstrap=False \n",
      "[CV]  n_estimators=20, min_samples_split=10, min_samples_leaf=2, max_features=sqrt, max_depth=110, bootstrap=True, total=   2.0s\n",
      "[CV] n_estimators=200, min_samples_split=10, min_samples_leaf=1, max_features=sqrt, max_depth=50, bootstrap=False \n",
      "[CV]  n_estimators=20, min_samples_split=10, min_samples_leaf=2, max_features=sqrt, max_depth=110, bootstrap=True, total=   2.0s\n",
      "[CV] n_estimators=105, min_samples_split=2, min_samples_leaf=4, max_features=sqrt, max_depth=None, bootstrap=False \n",
      "[CV]  n_estimators=105, min_samples_split=2, min_samples_leaf=4, max_features=sqrt, max_depth=None, bootstrap=False, total=  14.1s\n",
      "[CV] n_estimators=105, min_samples_split=2, min_samples_leaf=4, max_features=sqrt, max_depth=None, bootstrap=False \n",
      "[CV]  n_estimators=200, min_samples_split=10, min_samples_leaf=1, max_features=sqrt, max_depth=50, bootstrap=False, total=  27.4s\n",
      "[CV] n_estimators=105, min_samples_split=2, min_samples_leaf=4, max_features=sqrt, max_depth=None, bootstrap=False \n",
      "[CV]  n_estimators=200, min_samples_split=10, min_samples_leaf=1, max_features=sqrt, max_depth=50, bootstrap=False, total=  27.7s\n",
      "[CV] n_estimators=76, min_samples_split=5, min_samples_leaf=2, max_features=auto, max_depth=90, bootstrap=True \n",
      "[CV]  n_estimators=200, min_samples_split=10, min_samples_leaf=1, max_features=sqrt, max_depth=50, bootstrap=False, total=  27.7s\n",
      "[CV] n_estimators=76, min_samples_split=5, min_samples_leaf=2, max_features=auto, max_depth=90, bootstrap=True \n",
      "[CV]  n_estimators=105, min_samples_split=2, min_samples_leaf=4, max_features=sqrt, max_depth=None, bootstrap=False, total=  13.9s\n",
      "[CV] n_estimators=76, min_samples_split=5, min_samples_leaf=2, max_features=auto, max_depth=90, bootstrap=True \n",
      "[CV]  n_estimators=76, min_samples_split=5, min_samples_leaf=2, max_features=auto, max_depth=90, bootstrap=True, total=   7.4s\n",
      "[CV] n_estimators=162, min_samples_split=5, min_samples_leaf=4, max_features=auto, max_depth=10, bootstrap=False \n",
      "[CV]  n_estimators=76, min_samples_split=5, min_samples_leaf=2, max_features=auto, max_depth=90, bootstrap=True, total=   7.5s\n",
      "[CV] n_estimators=162, min_samples_split=5, min_samples_leaf=4, max_features=auto, max_depth=10, bootstrap=False \n",
      "[CV]  n_estimators=76, min_samples_split=5, min_samples_leaf=2, max_features=auto, max_depth=90, bootstrap=True, total=   7.3s\n",
      "[CV] n_estimators=162, min_samples_split=5, min_samples_leaf=4, max_features=auto, max_depth=10, bootstrap=False \n",
      "[CV]  n_estimators=105, min_samples_split=2, min_samples_leaf=4, max_features=sqrt, max_depth=None, bootstrap=False, total=  14.1s\n",
      "[CV] n_estimators=67, min_samples_split=5, min_samples_leaf=2, max_features=sqrt, max_depth=90, bootstrap=True \n",
      "[CV]  n_estimators=67, min_samples_split=5, min_samples_leaf=2, max_features=sqrt, max_depth=90, bootstrap=True, total=   6.4s\n",
      "[CV] n_estimators=67, min_samples_split=5, min_samples_leaf=2, max_features=sqrt, max_depth=90, bootstrap=True \n",
      "[CV]  n_estimators=162, min_samples_split=5, min_samples_leaf=4, max_features=auto, max_depth=10, bootstrap=False, total=  13.7s\n",
      "[CV] n_estimators=67, min_samples_split=5, min_samples_leaf=2, max_features=sqrt, max_depth=90, bootstrap=True \n",
      "[CV]  n_estimators=162, min_samples_split=5, min_samples_leaf=4, max_features=auto, max_depth=10, bootstrap=False, total=  14.0s\n",
      "[CV] n_estimators=48, min_samples_split=10, min_samples_leaf=4, max_features=sqrt, max_depth=None, bootstrap=True \n",
      "[CV]  n_estimators=162, min_samples_split=5, min_samples_leaf=4, max_features=auto, max_depth=10, bootstrap=False, total=  13.9s\n",
      "[CV] n_estimators=48, min_samples_split=10, min_samples_leaf=4, max_features=sqrt, max_depth=None, bootstrap=True \n",
      "[CV]  n_estimators=67, min_samples_split=5, min_samples_leaf=2, max_features=sqrt, max_depth=90, bootstrap=True, total=   6.5s\n",
      "[CV] n_estimators=48, min_samples_split=10, min_samples_leaf=4, max_features=sqrt, max_depth=None, bootstrap=True \n",
      "[CV]  n_estimators=48, min_samples_split=10, min_samples_leaf=4, max_features=sqrt, max_depth=None, bootstrap=True, total=   4.6s\n",
      "[CV] n_estimators=38, min_samples_split=2, min_samples_leaf=1, max_features=auto, max_depth=90, bootstrap=True \n",
      "[CV]  n_estimators=48, min_samples_split=10, min_samples_leaf=4, max_features=sqrt, max_depth=None, bootstrap=True, total=   4.5s\n",
      "[CV] n_estimators=38, min_samples_split=2, min_samples_leaf=1, max_features=auto, max_depth=90, bootstrap=True \n",
      "[CV]  n_estimators=67, min_samples_split=5, min_samples_leaf=2, max_features=sqrt, max_depth=90, bootstrap=True, total=   6.4s\n",
      "[CV] n_estimators=38, min_samples_split=2, min_samples_leaf=1, max_features=auto, max_depth=90, bootstrap=True \n",
      "[CV]  n_estimators=48, min_samples_split=10, min_samples_leaf=4, max_features=sqrt, max_depth=None, bootstrap=True, total=   4.5s\n",
      "[CV] n_estimators=124, min_samples_split=5, min_samples_leaf=4, max_features=sqrt, max_depth=60, bootstrap=True \n",
      "[CV]  n_estimators=38, min_samples_split=2, min_samples_leaf=1, max_features=auto, max_depth=90, bootstrap=True, total=   3.9s\n",
      "[CV] n_estimators=124, min_samples_split=5, min_samples_leaf=4, max_features=sqrt, max_depth=60, bootstrap=True \n",
      "[CV]  n_estimators=38, min_samples_split=2, min_samples_leaf=1, max_features=auto, max_depth=90, bootstrap=True, total=   4.0s\n",
      "[CV] n_estimators=124, min_samples_split=5, min_samples_leaf=4, max_features=sqrt, max_depth=60, bootstrap=True \n",
      "[CV]  n_estimators=38, min_samples_split=2, min_samples_leaf=1, max_features=auto, max_depth=90, bootstrap=True, total=   4.0s\n",
      "[CV] n_estimators=181, min_samples_split=10, min_samples_leaf=4, max_features=auto, max_depth=50, bootstrap=False \n",
      "[CV]  n_estimators=124, min_samples_split=5, min_samples_leaf=4, max_features=sqrt, max_depth=60, bootstrap=True, total=  11.4s\n",
      "[CV] n_estimators=181, min_samples_split=10, min_samples_leaf=4, max_features=auto, max_depth=50, bootstrap=False \n",
      "[CV]  n_estimators=124, min_samples_split=5, min_samples_leaf=4, max_features=sqrt, max_depth=60, bootstrap=True, total=  11.4s\n",
      "[CV] n_estimators=181, min_samples_split=10, min_samples_leaf=4, max_features=auto, max_depth=50, bootstrap=False \n",
      "[CV]  n_estimators=124, min_samples_split=5, min_samples_leaf=4, max_features=sqrt, max_depth=60, bootstrap=True, total=  11.3s\n",
      "[CV] n_estimators=200, min_samples_split=5, min_samples_leaf=1, max_features=auto, max_depth=60, bootstrap=True \n",
      "[CV]  n_estimators=181, min_samples_split=10, min_samples_leaf=4, max_features=auto, max_depth=50, bootstrap=False, total=  23.8s\n",
      "[CV] n_estimators=200, min_samples_split=5, min_samples_leaf=1, max_features=auto, max_depth=60, bootstrap=True \n",
      "[CV]  n_estimators=200, min_samples_split=5, min_samples_leaf=1, max_features=auto, max_depth=60, bootstrap=True, total=  19.4s\n",
      "[CV] n_estimators=200, min_samples_split=5, min_samples_leaf=1, max_features=auto, max_depth=60, bootstrap=True \n",
      "[CV]  n_estimators=181, min_samples_split=10, min_samples_leaf=4, max_features=auto, max_depth=50, bootstrap=False, total=  23.9s\n",
      "[CV] n_estimators=86, min_samples_split=2, min_samples_leaf=2, max_features=sqrt, max_depth=40, bootstrap=False \n"
     ]
    },
    {
     "name": "stdout",
     "output_type": "stream",
     "text": [
      "[CV]  n_estimators=181, min_samples_split=10, min_samples_leaf=4, max_features=auto, max_depth=50, bootstrap=False, total=  24.0s\n",
      "[CV] n_estimators=86, min_samples_split=2, min_samples_leaf=2, max_features=sqrt, max_depth=40, bootstrap=False \n",
      "[CV]  n_estimators=200, min_samples_split=5, min_samples_leaf=1, max_features=auto, max_depth=60, bootstrap=True, total=  19.4s\n",
      "[CV] n_estimators=86, min_samples_split=2, min_samples_leaf=2, max_features=sqrt, max_depth=40, bootstrap=False \n",
      "[CV]  n_estimators=86, min_samples_split=2, min_samples_leaf=2, max_features=sqrt, max_depth=40, bootstrap=False, total=  12.1s\n",
      "[CV] n_estimators=20, min_samples_split=5, min_samples_leaf=2, max_features=auto, max_depth=60, bootstrap=True \n",
      "[CV]  n_estimators=86, min_samples_split=2, min_samples_leaf=2, max_features=sqrt, max_depth=40, bootstrap=False, total=  12.1s\n",
      "[CV] n_estimators=20, min_samples_split=5, min_samples_leaf=2, max_features=auto, max_depth=60, bootstrap=True \n",
      "[CV]  n_estimators=20, min_samples_split=5, min_samples_leaf=2, max_features=auto, max_depth=60, bootstrap=True, total=   2.1s\n",
      "[CV] n_estimators=20, min_samples_split=5, min_samples_leaf=2, max_features=auto, max_depth=60, bootstrap=True \n",
      "[CV]  n_estimators=20, min_samples_split=5, min_samples_leaf=2, max_features=auto, max_depth=60, bootstrap=True, total=   2.1s\n",
      "[CV] n_estimators=38, min_samples_split=2, min_samples_leaf=1, max_features=auto, max_depth=110, bootstrap=False \n",
      "[CV]  n_estimators=20, min_samples_split=5, min_samples_leaf=2, max_features=auto, max_depth=60, bootstrap=True, total=   2.1s\n",
      "[CV] n_estimators=38, min_samples_split=2, min_samples_leaf=1, max_features=auto, max_depth=110, bootstrap=False \n",
      "[CV]  n_estimators=200, min_samples_split=5, min_samples_leaf=1, max_features=auto, max_depth=60, bootstrap=True, total=  19.2s\n",
      "[CV] n_estimators=38, min_samples_split=2, min_samples_leaf=1, max_features=auto, max_depth=110, bootstrap=False \n",
      "[CV]  n_estimators=38, min_samples_split=2, min_samples_leaf=1, max_features=auto, max_depth=110, bootstrap=False, total=   5.8s\n",
      "[CV] n_estimators=95, min_samples_split=2, min_samples_leaf=4, max_features=sqrt, max_depth=110, bootstrap=True \n",
      "[CV]  n_estimators=86, min_samples_split=2, min_samples_leaf=2, max_features=sqrt, max_depth=40, bootstrap=False, total=  12.0s\n",
      "[CV] n_estimators=95, min_samples_split=2, min_samples_leaf=4, max_features=sqrt, max_depth=110, bootstrap=True \n",
      "[CV]  n_estimators=38, min_samples_split=2, min_samples_leaf=1, max_features=auto, max_depth=110, bootstrap=False, total=   5.8s\n",
      "[CV] n_estimators=95, min_samples_split=2, min_samples_leaf=4, max_features=sqrt, max_depth=110, bootstrap=True \n",
      "[CV]  n_estimators=38, min_samples_split=2, min_samples_leaf=1, max_features=auto, max_depth=110, bootstrap=False, total=   5.9s\n",
      "[CV] n_estimators=162, min_samples_split=5, min_samples_leaf=4, max_features=sqrt, max_depth=80, bootstrap=True \n",
      "[CV]  n_estimators=95, min_samples_split=2, min_samples_leaf=4, max_features=sqrt, max_depth=110, bootstrap=True, total=   8.7s\n",
      "[CV] n_estimators=162, min_samples_split=5, min_samples_leaf=4, max_features=sqrt, max_depth=80, bootstrap=True \n",
      "[CV]  n_estimators=95, min_samples_split=2, min_samples_leaf=4, max_features=sqrt, max_depth=110, bootstrap=True, total=   8.8s\n",
      "[CV] n_estimators=162, min_samples_split=5, min_samples_leaf=4, max_features=sqrt, max_depth=80, bootstrap=True \n",
      "[CV]  n_estimators=95, min_samples_split=2, min_samples_leaf=4, max_features=sqrt, max_depth=110, bootstrap=True, total=   8.6s\n",
      "[CV] n_estimators=114, min_samples_split=2, min_samples_leaf=1, max_features=auto, max_depth=20, bootstrap=False \n",
      "[CV]  n_estimators=162, min_samples_split=5, min_samples_leaf=4, max_features=sqrt, max_depth=80, bootstrap=True, total=  14.8s\n",
      "[CV] n_estimators=114, min_samples_split=2, min_samples_leaf=1, max_features=auto, max_depth=20, bootstrap=False \n",
      "[CV]  n_estimators=162, min_samples_split=5, min_samples_leaf=4, max_features=sqrt, max_depth=80, bootstrap=True, total=  14.7s\n",
      "[CV] n_estimators=114, min_samples_split=2, min_samples_leaf=1, max_features=auto, max_depth=20, bootstrap=False \n",
      "[CV]  n_estimators=162, min_samples_split=5, min_samples_leaf=4, max_features=sqrt, max_depth=80, bootstrap=True, total=  14.6s\n",
      "[CV] n_estimators=57, min_samples_split=2, min_samples_leaf=2, max_features=sqrt, max_depth=70, bootstrap=True \n",
      "[CV]  n_estimators=114, min_samples_split=2, min_samples_leaf=1, max_features=auto, max_depth=20, bootstrap=False, total=  15.3s\n",
      "[CV] n_estimators=57, min_samples_split=2, min_samples_leaf=2, max_features=sqrt, max_depth=70, bootstrap=True \n"
     ]
    },
    {
     "name": "stderr",
     "output_type": "stream",
     "text": [
      "[Parallel(n_jobs=-1)]: Done 154 tasks      | elapsed:  8.9min\n"
     ]
    },
    {
     "name": "stdout",
     "output_type": "stream",
     "text": [
      "[CV]  n_estimators=57, min_samples_split=2, min_samples_leaf=2, max_features=sqrt, max_depth=70, bootstrap=True, total=   5.5s\n",
      "[CV] n_estimators=57, min_samples_split=2, min_samples_leaf=2, max_features=sqrt, max_depth=70, bootstrap=True \n",
      "[CV]  n_estimators=57, min_samples_split=2, min_samples_leaf=2, max_features=sqrt, max_depth=70, bootstrap=True, total=   5.6s\n",
      "[CV] n_estimators=48, min_samples_split=5, min_samples_leaf=1, max_features=sqrt, max_depth=70, bootstrap=False \n",
      "[CV]  n_estimators=114, min_samples_split=2, min_samples_leaf=1, max_features=auto, max_depth=20, bootstrap=False, total=  15.7s\n",
      "[CV] n_estimators=48, min_samples_split=5, min_samples_leaf=1, max_features=sqrt, max_depth=70, bootstrap=False \n",
      "[CV]  n_estimators=57, min_samples_split=2, min_samples_leaf=2, max_features=sqrt, max_depth=70, bootstrap=True, total=   5.6s\n",
      "[CV] n_estimators=48, min_samples_split=5, min_samples_leaf=1, max_features=sqrt, max_depth=70, bootstrap=False \n",
      "[CV]  n_estimators=48, min_samples_split=5, min_samples_leaf=1, max_features=sqrt, max_depth=70, bootstrap=False, total=   6.8s\n",
      "[CV] n_estimators=181, min_samples_split=5, min_samples_leaf=2, max_features=sqrt, max_depth=None, bootstrap=True \n",
      "[CV]  n_estimators=114, min_samples_split=2, min_samples_leaf=1, max_features=auto, max_depth=20, bootstrap=False, total=  15.4s\n",
      "[CV] n_estimators=181, min_samples_split=5, min_samples_leaf=2, max_features=sqrt, max_depth=None, bootstrap=True \n",
      "[CV]  n_estimators=48, min_samples_split=5, min_samples_leaf=1, max_features=sqrt, max_depth=70, bootstrap=False, total=   7.1s\n",
      "[CV] n_estimators=181, min_samples_split=5, min_samples_leaf=2, max_features=sqrt, max_depth=None, bootstrap=True \n",
      "[CV]  n_estimators=48, min_samples_split=5, min_samples_leaf=1, max_features=sqrt, max_depth=70, bootstrap=False, total=   7.0s\n",
      "[CV] n_estimators=76, min_samples_split=5, min_samples_leaf=4, max_features=auto, max_depth=40, bootstrap=True \n",
      "[CV]  n_estimators=76, min_samples_split=5, min_samples_leaf=4, max_features=auto, max_depth=40, bootstrap=True, total=   7.2s\n",
      "[CV] n_estimators=76, min_samples_split=5, min_samples_leaf=4, max_features=auto, max_depth=40, bootstrap=True \n",
      "[CV]  n_estimators=181, min_samples_split=5, min_samples_leaf=2, max_features=sqrt, max_depth=None, bootstrap=True, total=  17.2s\n",
      "[CV] n_estimators=76, min_samples_split=5, min_samples_leaf=4, max_features=auto, max_depth=40, bootstrap=True \n",
      "[CV]  n_estimators=181, min_samples_split=5, min_samples_leaf=2, max_features=sqrt, max_depth=None, bootstrap=True, total=  17.3s\n",
      "[CV] n_estimators=38, min_samples_split=5, min_samples_leaf=2, max_features=sqrt, max_depth=40, bootstrap=False \n",
      "[CV]  n_estimators=181, min_samples_split=5, min_samples_leaf=2, max_features=sqrt, max_depth=None, bootstrap=True, total=  17.6s\n",
      "[CV] n_estimators=38, min_samples_split=5, min_samples_leaf=2, max_features=sqrt, max_depth=40, bootstrap=False \n",
      "[CV]  n_estimators=76, min_samples_split=5, min_samples_leaf=4, max_features=auto, max_depth=40, bootstrap=True, total=   6.8s\n",
      "[CV] n_estimators=38, min_samples_split=5, min_samples_leaf=2, max_features=sqrt, max_depth=40, bootstrap=False \n",
      "[CV]  n_estimators=38, min_samples_split=5, min_samples_leaf=2, max_features=sqrt, max_depth=40, bootstrap=False, total=   5.5s\n",
      "[CV] n_estimators=105, min_samples_split=5, min_samples_leaf=4, max_features=sqrt, max_depth=10, bootstrap=False \n",
      "[CV]  n_estimators=76, min_samples_split=5, min_samples_leaf=4, max_features=auto, max_depth=40, bootstrap=True, total=   7.0s\n",
      "[CV] n_estimators=105, min_samples_split=5, min_samples_leaf=4, max_features=sqrt, max_depth=10, bootstrap=False \n",
      "[CV]  n_estimators=38, min_samples_split=5, min_samples_leaf=2, max_features=sqrt, max_depth=40, bootstrap=False, total=   5.6s\n",
      "[CV] n_estimators=105, min_samples_split=5, min_samples_leaf=4, max_features=sqrt, max_depth=10, bootstrap=False \n",
      "[CV]  n_estimators=38, min_samples_split=5, min_samples_leaf=2, max_features=sqrt, max_depth=40, bootstrap=False, total=   5.4s\n",
      "[CV] n_estimators=57, min_samples_split=5, min_samples_leaf=4, max_features=auto, max_depth=100, bootstrap=False \n",
      "[CV]  n_estimators=105, min_samples_split=5, min_samples_leaf=4, max_features=sqrt, max_depth=10, bootstrap=False, total=   9.0s\n",
      "[CV] n_estimators=57, min_samples_split=5, min_samples_leaf=4, max_features=auto, max_depth=100, bootstrap=False \n",
      "[CV]  n_estimators=57, min_samples_split=5, min_samples_leaf=4, max_features=auto, max_depth=100, bootstrap=False, total=   7.8s\n",
      "[CV] n_estimators=57, min_samples_split=5, min_samples_leaf=4, max_features=auto, max_depth=100, bootstrap=False \n",
      "[CV]  n_estimators=105, min_samples_split=5, min_samples_leaf=4, max_features=sqrt, max_depth=10, bootstrap=False, total=   9.0s\n",
      "[CV] n_estimators=190, min_samples_split=10, min_samples_leaf=2, max_features=sqrt, max_depth=80, bootstrap=False \n",
      "[CV]  n_estimators=105, min_samples_split=5, min_samples_leaf=4, max_features=sqrt, max_depth=10, bootstrap=False, total=   9.1s\n",
      "[CV] n_estimators=190, min_samples_split=10, min_samples_leaf=2, max_features=sqrt, max_depth=80, bootstrap=False \n",
      "[CV]  n_estimators=57, min_samples_split=5, min_samples_leaf=4, max_features=auto, max_depth=100, bootstrap=False, total=   7.8s\n",
      "[CV] n_estimators=190, min_samples_split=10, min_samples_leaf=2, max_features=sqrt, max_depth=80, bootstrap=False \n",
      "[CV]  n_estimators=57, min_samples_split=5, min_samples_leaf=4, max_features=auto, max_depth=100, bootstrap=False, total=   7.8s\n",
      "[CV] n_estimators=95, min_samples_split=10, min_samples_leaf=2, max_features=auto, max_depth=40, bootstrap=False \n",
      "[CV]  n_estimators=95, min_samples_split=10, min_samples_leaf=2, max_features=auto, max_depth=40, bootstrap=False, total=  13.0s\n",
      "[CV] n_estimators=95, min_samples_split=10, min_samples_leaf=2, max_features=auto, max_depth=40, bootstrap=False \n",
      "[CV]  n_estimators=190, min_samples_split=10, min_samples_leaf=2, max_features=sqrt, max_depth=80, bootstrap=False, total=  25.6s\n",
      "[CV] n_estimators=95, min_samples_split=10, min_samples_leaf=2, max_features=auto, max_depth=40, bootstrap=False \n",
      "[CV]  n_estimators=190, min_samples_split=10, min_samples_leaf=2, max_features=sqrt, max_depth=80, bootstrap=False, total=  25.7s\n",
      "[CV] n_estimators=133, min_samples_split=2, min_samples_leaf=1, max_features=sqrt, max_depth=20, bootstrap=False \n",
      "[CV]  n_estimators=190, min_samples_split=10, min_samples_leaf=2, max_features=sqrt, max_depth=80, bootstrap=False, total=  25.8s\n",
      "[CV] n_estimators=133, min_samples_split=2, min_samples_leaf=1, max_features=sqrt, max_depth=20, bootstrap=False \n",
      "[CV]  n_estimators=95, min_samples_split=10, min_samples_leaf=2, max_features=auto, max_depth=40, bootstrap=False, total=  12.8s\n",
      "[CV] n_estimators=133, min_samples_split=2, min_samples_leaf=1, max_features=sqrt, max_depth=20, bootstrap=False \n",
      "[CV]  n_estimators=95, min_samples_split=10, min_samples_leaf=2, max_features=auto, max_depth=40, bootstrap=False, total=  12.9s\n",
      "[CV] n_estimators=190, min_samples_split=5, min_samples_leaf=4, max_features=sqrt, max_depth=110, bootstrap=False \n",
      "[CV]  n_estimators=133, min_samples_split=2, min_samples_leaf=1, max_features=sqrt, max_depth=20, bootstrap=False, total=  18.1s\n",
      "[CV] n_estimators=190, min_samples_split=5, min_samples_leaf=4, max_features=sqrt, max_depth=110, bootstrap=False \n",
      "[CV]  n_estimators=133, min_samples_split=2, min_samples_leaf=1, max_features=sqrt, max_depth=20, bootstrap=False, total=  18.2s\n",
      "[CV] n_estimators=190, min_samples_split=5, min_samples_leaf=4, max_features=sqrt, max_depth=110, bootstrap=False \n",
      "[CV]  n_estimators=133, min_samples_split=2, min_samples_leaf=1, max_features=sqrt, max_depth=20, bootstrap=False, total=  18.2s\n",
      "[CV] n_estimators=48, min_samples_split=2, min_samples_leaf=4, max_features=sqrt, max_depth=20, bootstrap=False \n",
      "[CV]  n_estimators=48, min_samples_split=2, min_samples_leaf=4, max_features=sqrt, max_depth=20, bootstrap=False, total=   6.3s\n",
      "[CV] n_estimators=48, min_samples_split=2, min_samples_leaf=4, max_features=sqrt, max_depth=20, bootstrap=False \n",
      "[CV]  n_estimators=190, min_samples_split=5, min_samples_leaf=4, max_features=sqrt, max_depth=110, bootstrap=False, total=  25.0s\n",
      "[CV] n_estimators=48, min_samples_split=2, min_samples_leaf=4, max_features=sqrt, max_depth=20, bootstrap=False \n"
     ]
    },
    {
     "name": "stdout",
     "output_type": "stream",
     "text": [
      "[CV]  n_estimators=48, min_samples_split=2, min_samples_leaf=4, max_features=sqrt, max_depth=20, bootstrap=False, total=   6.4s\n",
      "[CV] n_estimators=57, min_samples_split=2, min_samples_leaf=4, max_features=sqrt, max_depth=50, bootstrap=True \n",
      "[CV]  n_estimators=190, min_samples_split=5, min_samples_leaf=4, max_features=sqrt, max_depth=110, bootstrap=False, total=  25.3s\n",
      "[CV] n_estimators=57, min_samples_split=2, min_samples_leaf=4, max_features=sqrt, max_depth=50, bootstrap=True \n",
      "[CV]  n_estimators=48, min_samples_split=2, min_samples_leaf=4, max_features=sqrt, max_depth=20, bootstrap=False, total=   6.3s\n",
      "[CV] n_estimators=57, min_samples_split=2, min_samples_leaf=4, max_features=sqrt, max_depth=50, bootstrap=True \n",
      "[CV]  n_estimators=57, min_samples_split=2, min_samples_leaf=4, max_features=sqrt, max_depth=50, bootstrap=True, total=   5.3s\n",
      "[CV] n_estimators=57, min_samples_split=2, min_samples_leaf=1, max_features=sqrt, max_depth=None, bootstrap=False \n",
      "[CV]  n_estimators=57, min_samples_split=2, min_samples_leaf=4, max_features=sqrt, max_depth=50, bootstrap=True, total=   5.3s\n",
      "[CV] n_estimators=57, min_samples_split=2, min_samples_leaf=1, max_features=sqrt, max_depth=None, bootstrap=False \n",
      "[CV]  n_estimators=190, min_samples_split=5, min_samples_leaf=4, max_features=sqrt, max_depth=110, bootstrap=False, total=  25.1s\n",
      "[CV]  n_estimators=57, min_samples_split=2, min_samples_leaf=4, max_features=sqrt, max_depth=50, bootstrap=True, total=   5.2s\n",
      "[CV] n_estimators=57, min_samples_split=2, min_samples_leaf=1, max_features=sqrt, max_depth=None, bootstrap=False \n",
      "[CV] n_estimators=38, min_samples_split=5, min_samples_leaf=4, max_features=auto, max_depth=70, bootstrap=True \n",
      "[CV]  n_estimators=57, min_samples_split=2, min_samples_leaf=1, max_features=sqrt, max_depth=None, bootstrap=False, total=   8.3s\n",
      "[CV] n_estimators=38, min_samples_split=5, min_samples_leaf=4, max_features=auto, max_depth=70, bootstrap=True \n",
      "[CV]  n_estimators=38, min_samples_split=5, min_samples_leaf=4, max_features=auto, max_depth=70, bootstrap=True, total=   3.6s\n",
      "[CV] n_estimators=38, min_samples_split=5, min_samples_leaf=4, max_features=auto, max_depth=70, bootstrap=True \n",
      "[CV]  n_estimators=38, min_samples_split=5, min_samples_leaf=4, max_features=auto, max_depth=70, bootstrap=True, total=   3.7s\n",
      "[CV] n_estimators=67, min_samples_split=2, min_samples_leaf=4, max_features=auto, max_depth=100, bootstrap=True \n",
      "[CV]  n_estimators=38, min_samples_split=5, min_samples_leaf=4, max_features=auto, max_depth=70, bootstrap=True, total=   3.7s\n",
      "[CV] n_estimators=67, min_samples_split=2, min_samples_leaf=4, max_features=auto, max_depth=100, bootstrap=True \n",
      "[CV]  n_estimators=57, min_samples_split=2, min_samples_leaf=1, max_features=sqrt, max_depth=None, bootstrap=False, total=   8.5s\n",
      "[CV] n_estimators=67, min_samples_split=2, min_samples_leaf=4, max_features=auto, max_depth=100, bootstrap=True \n",
      "[CV]  n_estimators=57, min_samples_split=2, min_samples_leaf=1, max_features=sqrt, max_depth=None, bootstrap=False, total=   8.4s\n",
      "[CV] n_estimators=200, min_samples_split=10, min_samples_leaf=1, max_features=sqrt, max_depth=10, bootstrap=True \n",
      "[CV]  n_estimators=67, min_samples_split=2, min_samples_leaf=4, max_features=auto, max_depth=100, bootstrap=True, total=   6.3s\n",
      "[CV] n_estimators=200, min_samples_split=10, min_samples_leaf=1, max_features=sqrt, max_depth=10, bootstrap=True \n",
      "[CV]  n_estimators=67, min_samples_split=2, min_samples_leaf=4, max_features=auto, max_depth=100, bootstrap=True, total=   6.3s\n",
      "[CV] n_estimators=200, min_samples_split=10, min_samples_leaf=1, max_features=sqrt, max_depth=10, bootstrap=True \n",
      "[CV]  n_estimators=67, min_samples_split=2, min_samples_leaf=4, max_features=auto, max_depth=100, bootstrap=True, total=   6.2s\n",
      "[CV] n_estimators=124, min_samples_split=10, min_samples_leaf=4, max_features=sqrt, max_depth=None, bootstrap=False \n",
      "[CV]  n_estimators=200, min_samples_split=10, min_samples_leaf=1, max_features=sqrt, max_depth=10, bootstrap=True, total=  12.6s\n",
      "[CV] n_estimators=124, min_samples_split=10, min_samples_leaf=4, max_features=sqrt, max_depth=None, bootstrap=False \n",
      "[CV]  n_estimators=200, min_samples_split=10, min_samples_leaf=1, max_features=sqrt, max_depth=10, bootstrap=True, total=  12.6s\n",
      "[CV] n_estimators=124, min_samples_split=10, min_samples_leaf=4, max_features=sqrt, max_depth=None, bootstrap=False \n",
      "[CV]  n_estimators=200, min_samples_split=10, min_samples_leaf=1, max_features=sqrt, max_depth=10, bootstrap=True, total=  12.5s\n",
      "[CV] n_estimators=105, min_samples_split=10, min_samples_leaf=2, max_features=sqrt, max_depth=40, bootstrap=True \n",
      "[CV]  n_estimators=124, min_samples_split=10, min_samples_leaf=4, max_features=sqrt, max_depth=None, bootstrap=False, total=  16.4s\n",
      "[CV] n_estimators=105, min_samples_split=10, min_samples_leaf=2, max_features=sqrt, max_depth=40, bootstrap=True \n",
      "[CV]  n_estimators=124, min_samples_split=10, min_samples_leaf=4, max_features=sqrt, max_depth=None, bootstrap=False, total=  16.4s\n",
      "[CV] n_estimators=105, min_samples_split=10, min_samples_leaf=2, max_features=sqrt, max_depth=40, bootstrap=True \n",
      "[CV]  n_estimators=105, min_samples_split=10, min_samples_leaf=2, max_features=sqrt, max_depth=40, bootstrap=True, total=   9.9s\n",
      "[CV] n_estimators=20, min_samples_split=10, min_samples_leaf=2, max_features=auto, max_depth=70, bootstrap=True \n",
      "[CV]  n_estimators=20, min_samples_split=10, min_samples_leaf=2, max_features=auto, max_depth=70, bootstrap=True, total=   2.1s\n",
      "[CV] n_estimators=20, min_samples_split=10, min_samples_leaf=2, max_features=auto, max_depth=70, bootstrap=True \n",
      "[CV]  n_estimators=105, min_samples_split=10, min_samples_leaf=2, max_features=sqrt, max_depth=40, bootstrap=True, total=   9.8s\n",
      "[CV] n_estimators=20, min_samples_split=10, min_samples_leaf=2, max_features=auto, max_depth=70, bootstrap=True \n",
      "[CV]  n_estimators=20, min_samples_split=10, min_samples_leaf=2, max_features=auto, max_depth=70, bootstrap=True, total=   2.0s\n",
      "[CV] n_estimators=105, min_samples_split=10, min_samples_leaf=1, max_features=auto, max_depth=60, bootstrap=False \n",
      "[CV]  n_estimators=124, min_samples_split=10, min_samples_leaf=4, max_features=sqrt, max_depth=None, bootstrap=False, total=  16.4s\n",
      "[CV] n_estimators=105, min_samples_split=10, min_samples_leaf=1, max_features=auto, max_depth=60, bootstrap=False \n",
      "[CV]  n_estimators=20, min_samples_split=10, min_samples_leaf=2, max_features=auto, max_depth=70, bootstrap=True, total=   2.1s\n",
      "[CV] n_estimators=105, min_samples_split=10, min_samples_leaf=1, max_features=auto, max_depth=60, bootstrap=False \n",
      "[CV]  n_estimators=105, min_samples_split=10, min_samples_leaf=2, max_features=sqrt, max_depth=40, bootstrap=True, total=   9.7s\n",
      "[CV] n_estimators=124, min_samples_split=2, min_samples_leaf=2, max_features=sqrt, max_depth=None, bootstrap=False \n",
      "[CV]  n_estimators=105, min_samples_split=10, min_samples_leaf=1, max_features=auto, max_depth=60, bootstrap=False, total=  14.6s\n",
      "[CV] n_estimators=124, min_samples_split=2, min_samples_leaf=2, max_features=sqrt, max_depth=None, bootstrap=False \n",
      "[CV]  n_estimators=105, min_samples_split=10, min_samples_leaf=1, max_features=auto, max_depth=60, bootstrap=False, total=  14.8s\n",
      "[CV] n_estimators=124, min_samples_split=2, min_samples_leaf=2, max_features=sqrt, max_depth=None, bootstrap=False \n",
      "[CV]  n_estimators=105, min_samples_split=10, min_samples_leaf=1, max_features=auto, max_depth=60, bootstrap=False, total=  14.8s\n",
      "[CV] n_estimators=86, min_samples_split=2, min_samples_leaf=4, max_features=auto, max_depth=90, bootstrap=True \n",
      "[CV]  n_estimators=124, min_samples_split=2, min_samples_leaf=2, max_features=sqrt, max_depth=None, bootstrap=False, total=  17.0s\n",
      "[CV] n_estimators=86, min_samples_split=2, min_samples_leaf=4, max_features=auto, max_depth=90, bootstrap=True \n",
      "[CV]  n_estimators=86, min_samples_split=2, min_samples_leaf=4, max_features=auto, max_depth=90, bootstrap=True, total=   8.0s\n",
      "[CV] n_estimators=86, min_samples_split=2, min_samples_leaf=4, max_features=auto, max_depth=90, bootstrap=True \n",
      "[CV]  n_estimators=86, min_samples_split=2, min_samples_leaf=4, max_features=auto, max_depth=90, bootstrap=True, total=   7.9s\n",
      "[CV] n_estimators=181, min_samples_split=2, min_samples_leaf=4, max_features=auto, max_depth=80, bootstrap=False \n"
     ]
    },
    {
     "name": "stdout",
     "output_type": "stream",
     "text": [
      "[CV]  n_estimators=124, min_samples_split=2, min_samples_leaf=2, max_features=sqrt, max_depth=None, bootstrap=False, total=  17.3s\n",
      "[CV] n_estimators=181, min_samples_split=2, min_samples_leaf=4, max_features=auto, max_depth=80, bootstrap=False \n",
      "[CV]  n_estimators=124, min_samples_split=2, min_samples_leaf=2, max_features=sqrt, max_depth=None, bootstrap=False, total=  17.2s\n",
      "[CV] n_estimators=181, min_samples_split=2, min_samples_leaf=4, max_features=auto, max_depth=80, bootstrap=False \n",
      "[CV]  n_estimators=86, min_samples_split=2, min_samples_leaf=4, max_features=auto, max_depth=90, bootstrap=True, total=   7.9s\n",
      "[CV] n_estimators=105, min_samples_split=5, min_samples_leaf=2, max_features=sqrt, max_depth=90, bootstrap=False \n",
      "[CV]  n_estimators=105, min_samples_split=5, min_samples_leaf=2, max_features=sqrt, max_depth=90, bootstrap=False, total=  14.8s\n",
      "[CV] n_estimators=105, min_samples_split=5, min_samples_leaf=2, max_features=sqrt, max_depth=90, bootstrap=False \n",
      "[CV]  n_estimators=181, min_samples_split=2, min_samples_leaf=4, max_features=auto, max_depth=80, bootstrap=False, total=  24.2s\n",
      "[CV] n_estimators=105, min_samples_split=5, min_samples_leaf=2, max_features=sqrt, max_depth=90, bootstrap=False \n",
      "[CV]  n_estimators=181, min_samples_split=2, min_samples_leaf=4, max_features=auto, max_depth=80, bootstrap=False, total=  24.2s\n",
      "[CV] n_estimators=48, min_samples_split=10, min_samples_leaf=4, max_features=auto, max_depth=80, bootstrap=True \n",
      "[CV]  n_estimators=181, min_samples_split=2, min_samples_leaf=4, max_features=auto, max_depth=80, bootstrap=False, total=  24.2s\n",
      "[CV] n_estimators=48, min_samples_split=10, min_samples_leaf=4, max_features=auto, max_depth=80, bootstrap=True \n",
      "[CV]  n_estimators=48, min_samples_split=10, min_samples_leaf=4, max_features=auto, max_depth=80, bootstrap=True, total=   4.5s\n",
      "[CV] n_estimators=48, min_samples_split=10, min_samples_leaf=4, max_features=auto, max_depth=80, bootstrap=True \n",
      "[CV]  n_estimators=48, min_samples_split=10, min_samples_leaf=4, max_features=auto, max_depth=80, bootstrap=True, total=   4.5s\n",
      "[CV] n_estimators=171, min_samples_split=10, min_samples_leaf=1, max_features=auto, max_depth=10, bootstrap=False \n",
      "[CV]  n_estimators=105, min_samples_split=5, min_samples_leaf=2, max_features=sqrt, max_depth=90, bootstrap=False, total=  14.4s\n",
      "[CV] n_estimators=171, min_samples_split=10, min_samples_leaf=1, max_features=auto, max_depth=10, bootstrap=False \n",
      "[CV]  n_estimators=48, min_samples_split=10, min_samples_leaf=4, max_features=auto, max_depth=80, bootstrap=True, total=   4.5s\n",
      "[CV] n_estimators=171, min_samples_split=10, min_samples_leaf=1, max_features=auto, max_depth=10, bootstrap=False \n",
      "[CV]  n_estimators=105, min_samples_split=5, min_samples_leaf=2, max_features=sqrt, max_depth=90, bootstrap=False, total=  14.5s\n",
      "[CV] n_estimators=38, min_samples_split=2, min_samples_leaf=4, max_features=auto, max_depth=70, bootstrap=False \n",
      "[CV]  n_estimators=38, min_samples_split=2, min_samples_leaf=4, max_features=auto, max_depth=70, bootstrap=False, total=   5.2s\n",
      "[CV] n_estimators=38, min_samples_split=2, min_samples_leaf=4, max_features=auto, max_depth=70, bootstrap=False \n",
      "[CV]  n_estimators=171, min_samples_split=10, min_samples_leaf=1, max_features=auto, max_depth=10, bootstrap=False, total=  14.8s\n",
      "[CV] n_estimators=38, min_samples_split=2, min_samples_leaf=4, max_features=auto, max_depth=70, bootstrap=False \n",
      "[CV]  n_estimators=171, min_samples_split=10, min_samples_leaf=1, max_features=auto, max_depth=10, bootstrap=False, total=  14.6s\n",
      "[CV] n_estimators=29, min_samples_split=5, min_samples_leaf=1, max_features=sqrt, max_depth=20, bootstrap=False \n",
      "[CV]  n_estimators=38, min_samples_split=2, min_samples_leaf=4, max_features=auto, max_depth=70, bootstrap=False, total=   5.1s\n",
      "[CV] n_estimators=29, min_samples_split=5, min_samples_leaf=1, max_features=sqrt, max_depth=20, bootstrap=False \n",
      "[CV]  n_estimators=171, min_samples_split=10, min_samples_leaf=1, max_features=auto, max_depth=10, bootstrap=False, total=  14.6s\n",
      "[CV] n_estimators=29, min_samples_split=5, min_samples_leaf=1, max_features=sqrt, max_depth=20, bootstrap=False \n",
      "[CV]  n_estimators=29, min_samples_split=5, min_samples_leaf=1, max_features=sqrt, max_depth=20, bootstrap=False, total=   4.0s\n",
      "[CV] n_estimators=95, min_samples_split=10, min_samples_leaf=2, max_features=sqrt, max_depth=60, bootstrap=True \n",
      "[CV]  n_estimators=38, min_samples_split=2, min_samples_leaf=4, max_features=auto, max_depth=70, bootstrap=False, total=   5.2s\n",
      "[CV] n_estimators=95, min_samples_split=10, min_samples_leaf=2, max_features=sqrt, max_depth=60, bootstrap=True \n",
      "[CV]  n_estimators=29, min_samples_split=5, min_samples_leaf=1, max_features=sqrt, max_depth=20, bootstrap=False, total=   4.1s\n",
      "[CV] n_estimators=95, min_samples_split=10, min_samples_leaf=2, max_features=sqrt, max_depth=60, bootstrap=True \n",
      "[CV]  n_estimators=29, min_samples_split=5, min_samples_leaf=1, max_features=sqrt, max_depth=20, bootstrap=False, total=   4.1s\n",
      "[CV] n_estimators=29, min_samples_split=5, min_samples_leaf=4, max_features=sqrt, max_depth=110, bootstrap=False \n",
      "[CV]  n_estimators=29, min_samples_split=5, min_samples_leaf=4, max_features=sqrt, max_depth=110, bootstrap=False, total=   4.1s\n",
      "[CV] n_estimators=29, min_samples_split=5, min_samples_leaf=4, max_features=sqrt, max_depth=110, bootstrap=False \n",
      "[CV]  n_estimators=95, min_samples_split=10, min_samples_leaf=2, max_features=sqrt, max_depth=60, bootstrap=True, total=   8.8s\n",
      "[CV] n_estimators=29, min_samples_split=5, min_samples_leaf=4, max_features=sqrt, max_depth=110, bootstrap=False \n",
      "[CV]  n_estimators=95, min_samples_split=10, min_samples_leaf=2, max_features=sqrt, max_depth=60, bootstrap=True, total=   8.8s\n",
      "[CV] n_estimators=48, min_samples_split=10, min_samples_leaf=4, max_features=auto, max_depth=70, bootstrap=False \n",
      "[CV]  n_estimators=29, min_samples_split=5, min_samples_leaf=4, max_features=sqrt, max_depth=110, bootstrap=False, total=   4.1s\n",
      "[CV] n_estimators=48, min_samples_split=10, min_samples_leaf=4, max_features=auto, max_depth=70, bootstrap=False \n",
      "[CV]  n_estimators=95, min_samples_split=10, min_samples_leaf=2, max_features=sqrt, max_depth=60, bootstrap=True, total=   8.8s\n",
      "[CV] n_estimators=48, min_samples_split=10, min_samples_leaf=4, max_features=auto, max_depth=70, bootstrap=False \n",
      "[CV]  n_estimators=29, min_samples_split=5, min_samples_leaf=4, max_features=sqrt, max_depth=110, bootstrap=False, total=   4.0s\n",
      "[CV] n_estimators=67, min_samples_split=5, min_samples_leaf=2, max_features=sqrt, max_depth=100, bootstrap=False \n",
      "[CV]  n_estimators=48, min_samples_split=10, min_samples_leaf=4, max_features=auto, max_depth=70, bootstrap=False, total=   6.5s\n",
      "[CV] n_estimators=67, min_samples_split=5, min_samples_leaf=2, max_features=sqrt, max_depth=100, bootstrap=False \n",
      "[CV]  n_estimators=48, min_samples_split=10, min_samples_leaf=4, max_features=auto, max_depth=70, bootstrap=False, total=   6.5s\n",
      "[CV] n_estimators=67, min_samples_split=5, min_samples_leaf=2, max_features=sqrt, max_depth=100, bootstrap=False \n",
      "[CV]  n_estimators=48, min_samples_split=10, min_samples_leaf=4, max_features=auto, max_depth=70, bootstrap=False, total=   6.4s\n",
      "[CV] n_estimators=143, min_samples_split=10, min_samples_leaf=2, max_features=sqrt, max_depth=None, bootstrap=False \n",
      "[CV]  n_estimators=67, min_samples_split=5, min_samples_leaf=2, max_features=sqrt, max_depth=100, bootstrap=False, total=   9.3s\n",
      "[CV] n_estimators=143, min_samples_split=10, min_samples_leaf=2, max_features=sqrt, max_depth=None, bootstrap=False \n",
      "[CV]  n_estimators=67, min_samples_split=5, min_samples_leaf=2, max_features=sqrt, max_depth=100, bootstrap=False, total=   9.5s\n",
      "[CV] n_estimators=143, min_samples_split=10, min_samples_leaf=2, max_features=sqrt, max_depth=None, bootstrap=False \n",
      "[CV]  n_estimators=67, min_samples_split=5, min_samples_leaf=2, max_features=sqrt, max_depth=100, bootstrap=False, total=   9.5s\n",
      "[CV] n_estimators=76, min_samples_split=2, min_samples_leaf=2, max_features=sqrt, max_depth=90, bootstrap=True \n",
      "[CV]  n_estimators=76, min_samples_split=2, min_samples_leaf=2, max_features=sqrt, max_depth=90, bootstrap=True, total=   7.5s\n",
      "[CV] n_estimators=76, min_samples_split=2, min_samples_leaf=2, max_features=sqrt, max_depth=90, bootstrap=True \n"
     ]
    },
    {
     "name": "stdout",
     "output_type": "stream",
     "text": [
      "[CV]  n_estimators=143, min_samples_split=10, min_samples_leaf=2, max_features=sqrt, max_depth=None, bootstrap=False, total=  19.3s\n",
      "[CV] n_estimators=76, min_samples_split=2, min_samples_leaf=2, max_features=sqrt, max_depth=90, bootstrap=True \n",
      "[CV]  n_estimators=143, min_samples_split=10, min_samples_leaf=2, max_features=sqrt, max_depth=None, bootstrap=False, total=  19.5s\n",
      "[CV] n_estimators=133, min_samples_split=10, min_samples_leaf=1, max_features=sqrt, max_depth=50, bootstrap=True \n",
      "[CV]  n_estimators=76, min_samples_split=2, min_samples_leaf=2, max_features=sqrt, max_depth=90, bootstrap=True, total=   7.3s\n",
      "[CV] n_estimators=133, min_samples_split=10, min_samples_leaf=1, max_features=sqrt, max_depth=50, bootstrap=True \n",
      "[CV]  n_estimators=143, min_samples_split=10, min_samples_leaf=2, max_features=sqrt, max_depth=None, bootstrap=False, total=  19.3s\n",
      "[CV] n_estimators=133, min_samples_split=10, min_samples_leaf=1, max_features=sqrt, max_depth=50, bootstrap=True \n",
      "[CV]  n_estimators=76, min_samples_split=2, min_samples_leaf=2, max_features=sqrt, max_depth=90, bootstrap=True, total=   7.5s\n",
      "[CV] n_estimators=67, min_samples_split=2, min_samples_leaf=2, max_features=sqrt, max_depth=30, bootstrap=True \n",
      "[CV]  n_estimators=67, min_samples_split=2, min_samples_leaf=2, max_features=sqrt, max_depth=30, bootstrap=True, total=   6.6s\n",
      "[CV] n_estimators=67, min_samples_split=2, min_samples_leaf=2, max_features=sqrt, max_depth=30, bootstrap=True \n",
      "[CV]  n_estimators=133, min_samples_split=10, min_samples_leaf=1, max_features=sqrt, max_depth=50, bootstrap=True, total=  12.6s\n",
      "[CV] n_estimators=67, min_samples_split=2, min_samples_leaf=2, max_features=sqrt, max_depth=30, bootstrap=True \n",
      "[CV]  n_estimators=133, min_samples_split=10, min_samples_leaf=1, max_features=sqrt, max_depth=50, bootstrap=True, total=  12.5s\n",
      "[CV] n_estimators=162, min_samples_split=10, min_samples_leaf=4, max_features=auto, max_depth=50, bootstrap=True \n",
      "[CV]  n_estimators=133, min_samples_split=10, min_samples_leaf=1, max_features=sqrt, max_depth=50, bootstrap=True, total=  12.5s\n",
      "[CV] n_estimators=162, min_samples_split=10, min_samples_leaf=4, max_features=auto, max_depth=50, bootstrap=True \n",
      "[CV]  n_estimators=67, min_samples_split=2, min_samples_leaf=2, max_features=sqrt, max_depth=30, bootstrap=True, total=   6.5s\n",
      "[CV] n_estimators=162, min_samples_split=10, min_samples_leaf=4, max_features=auto, max_depth=50, bootstrap=True \n",
      "[CV]  n_estimators=67, min_samples_split=2, min_samples_leaf=2, max_features=sqrt, max_depth=30, bootstrap=True, total=   6.4s\n",
      "[CV] n_estimators=76, min_samples_split=5, min_samples_leaf=4, max_features=auto, max_depth=30, bootstrap=True \n",
      "[CV]  n_estimators=76, min_samples_split=5, min_samples_leaf=4, max_features=auto, max_depth=30, bootstrap=True, total=   7.2s\n",
      "[CV] n_estimators=76, min_samples_split=5, min_samples_leaf=4, max_features=auto, max_depth=30, bootstrap=True \n",
      "[CV]  n_estimators=162, min_samples_split=10, min_samples_leaf=4, max_features=auto, max_depth=50, bootstrap=True, total=  14.6s\n",
      "[CV] n_estimators=76, min_samples_split=5, min_samples_leaf=4, max_features=auto, max_depth=30, bootstrap=True \n",
      "[CV]  n_estimators=162, min_samples_split=10, min_samples_leaf=4, max_features=auto, max_depth=50, bootstrap=True, total=  14.5s\n",
      "[CV] n_estimators=76, min_samples_split=10, min_samples_leaf=1, max_features=sqrt, max_depth=10, bootstrap=False \n",
      "[CV]  n_estimators=162, min_samples_split=10, min_samples_leaf=4, max_features=auto, max_depth=50, bootstrap=True, total=  14.6s\n",
      "[CV] n_estimators=76, min_samples_split=10, min_samples_leaf=1, max_features=sqrt, max_depth=10, bootstrap=False \n",
      "[CV]  n_estimators=76, min_samples_split=5, min_samples_leaf=4, max_features=auto, max_depth=30, bootstrap=True, total=   6.9s\n",
      "[CV] n_estimators=76, min_samples_split=10, min_samples_leaf=1, max_features=sqrt, max_depth=10, bootstrap=False \n",
      "[CV]  n_estimators=76, min_samples_split=5, min_samples_leaf=4, max_features=auto, max_depth=30, bootstrap=True, total=   7.0s\n",
      "[CV] n_estimators=20, min_samples_split=5, min_samples_leaf=1, max_features=sqrt, max_depth=10, bootstrap=False \n",
      "[CV]  n_estimators=76, min_samples_split=10, min_samples_leaf=1, max_features=sqrt, max_depth=10, bootstrap=False, total=   6.7s\n",
      "[CV] n_estimators=20, min_samples_split=5, min_samples_leaf=1, max_features=sqrt, max_depth=10, bootstrap=False \n",
      "[CV]  n_estimators=20, min_samples_split=5, min_samples_leaf=1, max_features=sqrt, max_depth=10, bootstrap=False, total=   2.0s\n",
      "[CV] n_estimators=20, min_samples_split=5, min_samples_leaf=1, max_features=sqrt, max_depth=10, bootstrap=False \n",
      "[CV]  n_estimators=76, min_samples_split=10, min_samples_leaf=1, max_features=sqrt, max_depth=10, bootstrap=False, total=   6.6s\n",
      "[CV] n_estimators=133, min_samples_split=2, min_samples_leaf=2, max_features=sqrt, max_depth=20, bootstrap=False \n",
      "[CV]  n_estimators=20, min_samples_split=5, min_samples_leaf=1, max_features=sqrt, max_depth=10, bootstrap=False, total=   2.0s\n",
      "[CV] n_estimators=133, min_samples_split=2, min_samples_leaf=2, max_features=sqrt, max_depth=20, bootstrap=False \n",
      "[CV]  n_estimators=20, min_samples_split=5, min_samples_leaf=1, max_features=sqrt, max_depth=10, bootstrap=False, total=   2.0s\n",
      "[CV] n_estimators=133, min_samples_split=2, min_samples_leaf=2, max_features=sqrt, max_depth=20, bootstrap=False \n",
      "[CV]  n_estimators=76, min_samples_split=10, min_samples_leaf=1, max_features=sqrt, max_depth=10, bootstrap=False, total=   6.8s\n",
      "[CV] n_estimators=29, min_samples_split=2, min_samples_leaf=2, max_features=sqrt, max_depth=100, bootstrap=False \n",
      "[CV]  n_estimators=29, min_samples_split=2, min_samples_leaf=2, max_features=sqrt, max_depth=100, bootstrap=False, total=   4.2s\n",
      "[CV] n_estimators=29, min_samples_split=2, min_samples_leaf=2, max_features=sqrt, max_depth=100, bootstrap=False \n",
      "[CV]  n_estimators=29, min_samples_split=2, min_samples_leaf=2, max_features=sqrt, max_depth=100, bootstrap=False, total=   4.4s\n",
      "[CV] n_estimators=29, min_samples_split=2, min_samples_leaf=2, max_features=sqrt, max_depth=100, bootstrap=False \n",
      "[CV]  n_estimators=29, min_samples_split=2, min_samples_leaf=2, max_features=sqrt, max_depth=100, bootstrap=False, total=   4.3s\n",
      "[CV] n_estimators=200, min_samples_split=5, min_samples_leaf=1, max_features=auto, max_depth=10, bootstrap=False \n",
      "[CV]  n_estimators=133, min_samples_split=2, min_samples_leaf=2, max_features=sqrt, max_depth=20, bootstrap=False, total=  17.8s\n",
      "[CV] n_estimators=200, min_samples_split=5, min_samples_leaf=1, max_features=auto, max_depth=10, bootstrap=False \n",
      "[CV]  n_estimators=133, min_samples_split=2, min_samples_leaf=2, max_features=sqrt, max_depth=20, bootstrap=False, total=  17.9s\n",
      "[CV] n_estimators=200, min_samples_split=5, min_samples_leaf=1, max_features=auto, max_depth=10, bootstrap=False \n",
      "[CV]  n_estimators=133, min_samples_split=2, min_samples_leaf=2, max_features=sqrt, max_depth=20, bootstrap=False, total=  17.6s\n",
      "[CV] n_estimators=190, min_samples_split=10, min_samples_leaf=1, max_features=auto, max_depth=70, bootstrap=False \n",
      "[CV]  n_estimators=200, min_samples_split=5, min_samples_leaf=1, max_features=auto, max_depth=10, bootstrap=False, total=  17.0s\n",
      "[CV] n_estimators=190, min_samples_split=10, min_samples_leaf=1, max_features=auto, max_depth=70, bootstrap=False \n",
      "[CV]  n_estimators=200, min_samples_split=5, min_samples_leaf=1, max_features=auto, max_depth=10, bootstrap=False, total=  17.2s\n",
      "[CV] n_estimators=190, min_samples_split=10, min_samples_leaf=1, max_features=auto, max_depth=70, bootstrap=False \n",
      "[CV]  n_estimators=200, min_samples_split=5, min_samples_leaf=1, max_features=auto, max_depth=10, bootstrap=False, total=  17.2s\n",
      "[CV] n_estimators=20, min_samples_split=10, min_samples_leaf=1, max_features=sqrt, max_depth=60, bootstrap=False \n",
      "[CV]  n_estimators=20, min_samples_split=10, min_samples_leaf=1, max_features=sqrt, max_depth=60, bootstrap=False, total=   3.1s\n",
      "[CV] n_estimators=20, min_samples_split=10, min_samples_leaf=1, max_features=sqrt, max_depth=60, bootstrap=False \n",
      "[CV]  n_estimators=20, min_samples_split=10, min_samples_leaf=1, max_features=sqrt, max_depth=60, bootstrap=False, total=   3.0s\n",
      "[CV] n_estimators=20, min_samples_split=10, min_samples_leaf=1, max_features=sqrt, max_depth=60, bootstrap=False \n"
     ]
    },
    {
     "name": "stdout",
     "output_type": "stream",
     "text": [
      "[CV]  n_estimators=190, min_samples_split=10, min_samples_leaf=1, max_features=auto, max_depth=70, bootstrap=False, total=  25.8s\n",
      "[CV]  n_estimators=20, min_samples_split=10, min_samples_leaf=1, max_features=sqrt, max_depth=60, bootstrap=False, total=   3.0s\n",
      "[CV] n_estimators=200, min_samples_split=10, min_samples_leaf=1, max_features=sqrt, max_depth=30, bootstrap=False \n",
      "[CV] n_estimators=200, min_samples_split=10, min_samples_leaf=1, max_features=sqrt, max_depth=30, bootstrap=False \n",
      "[CV]  n_estimators=190, min_samples_split=10, min_samples_leaf=1, max_features=auto, max_depth=70, bootstrap=False, total=  26.1s\n",
      "[CV] n_estimators=200, min_samples_split=10, min_samples_leaf=1, max_features=sqrt, max_depth=30, bootstrap=False \n",
      "[CV]  n_estimators=190, min_samples_split=10, min_samples_leaf=1, max_features=auto, max_depth=70, bootstrap=False, total=  25.8s\n",
      "[CV] n_estimators=86, min_samples_split=2, min_samples_leaf=4, max_features=sqrt, max_depth=30, bootstrap=True \n",
      "[CV]  n_estimators=86, min_samples_split=2, min_samples_leaf=4, max_features=sqrt, max_depth=30, bootstrap=True, total=   7.9s\n",
      "[CV] n_estimators=86, min_samples_split=2, min_samples_leaf=4, max_features=sqrt, max_depth=30, bootstrap=True \n",
      "[CV]  n_estimators=200, min_samples_split=10, min_samples_leaf=1, max_features=sqrt, max_depth=30, bootstrap=False, total=  27.6s\n",
      "[CV] n_estimators=86, min_samples_split=2, min_samples_leaf=4, max_features=sqrt, max_depth=30, bootstrap=True \n",
      "[CV]  n_estimators=200, min_samples_split=10, min_samples_leaf=1, max_features=sqrt, max_depth=30, bootstrap=False, total=  27.6s\n",
      "[CV]  n_estimators=86, min_samples_split=2, min_samples_leaf=4, max_features=sqrt, max_depth=30, bootstrap=True, total=   7.8s\n",
      "[CV]  n_estimators=86, min_samples_split=2, min_samples_leaf=4, max_features=sqrt, max_depth=30, bootstrap=True, total=   7.4s\n",
      "[CV]  n_estimators=200, min_samples_split=10, min_samples_leaf=1, max_features=sqrt, max_depth=30, bootstrap=False, total=  26.3s\n"
     ]
    },
    {
     "name": "stderr",
     "output_type": "stream",
     "text": [
      "[Parallel(n_jobs=-1)]: Done 300 out of 300 | elapsed: 16.8min finished\n"
     ]
    },
    {
     "data": {
      "text/plain": [
       "RandomizedSearchCV(cv=3, error_score='raise',\n",
       "          estimator=RandomForestClassifier(bootstrap=True, class_weight=None, criterion='gini',\n",
       "            max_depth=None, max_features='auto', max_leaf_nodes=None,\n",
       "            min_impurity_decrease=0.0, min_impurity_split=None,\n",
       "            min_samples_leaf=1, min_samples_split=2,\n",
       "            min_weight_fraction_leaf=0.0, n_estimators=10, n_jobs=1,\n",
       "            oob_score=False, random_state=None, verbose=0,\n",
       "            warm_start=False),\n",
       "          fit_params=None, iid=True, n_iter=100, n_jobs=-1,\n",
       "          param_distributions={'n_estimators': [20, 29, 38, 48, 57, 67, 76, 86, 95, 105, 114, 124, 133, 143, 152, 162, 171, 181, 190, 200], 'max_features': ['auto', 'sqrt'], 'max_depth': [10, 20, 30, 40, 50, 60, 70, 80, 90, 100, 110, None], 'min_samples_split': [2, 5, 10], 'min_samples_leaf': [1, 2, 4], 'bootstrap': [True, False]},\n",
       "          pre_dispatch='2*n_jobs', random_state=42, refit=True,\n",
       "          return_train_score='warn', scoring=None, verbose=2)"
      ]
     },
     "execution_count": 71,
     "metadata": {},
     "output_type": "execute_result"
    }
   ],
   "source": [
    "# Use the random grid to search for best hyperparameters\n",
    "# First create the base model to tune\n",
    "rf = RandomForestClassifier()\n",
    "# Random search of parameters, using 3 fold cross validation, \n",
    "# search across 100 different combinations, and use all available cores\n",
    "rf_random = RandomizedSearchCV(estimator = rf, param_distributions = random_grid, n_iter = 100, cv = 3, verbose=2, random_state=42, n_jobs = -1)\n",
    "# Fit the random search model\n",
    "rf_random.fit(X_train, y_train)"
   ]
  },
  {
   "cell_type": "code",
   "execution_count": 72,
   "metadata": {},
   "outputs": [
    {
     "data": {
      "text/plain": [
       "0.9353371423940352"
      ]
     },
     "execution_count": 72,
     "metadata": {},
     "output_type": "execute_result"
    }
   ],
   "source": [
    "rf_random.best_score_"
   ]
  },
  {
   "cell_type": "code",
   "execution_count": 73,
   "metadata": {},
   "outputs": [
    {
     "data": {
      "text/plain": [
       "{'bootstrap': False,\n",
       " 'max_depth': 110,\n",
       " 'max_features': 'auto',\n",
       " 'min_samples_leaf': 1,\n",
       " 'min_samples_split': 5,\n",
       " 'n_estimators': 181}"
      ]
     },
     "execution_count": 73,
     "metadata": {},
     "output_type": "execute_result"
    }
   ],
   "source": [
    "rf_random.best_params_"
   ]
  },
  {
   "cell_type": "code",
   "execution_count": 74,
   "metadata": {},
   "outputs": [],
   "source": [
    "rf_random = rf_random.best_estimator_"
   ]
  },
  {
   "cell_type": "code",
   "execution_count": 90,
   "metadata": {},
   "outputs": [
    {
     "name": "stdout",
     "output_type": "stream",
     "text": [
      "hasintakeage :  0.009094113648431126\n",
      "hasoutcomeage :  0.007821897416483654\n",
      "hasdaysinshelter :  3.1791757694950337e-07\n",
      "timesinshelter :  0.01576403935866566\n",
      "scaledintakeyear :  0.02334125061821624\n",
      "scaledintakemonth :  0.016034552672554162\n",
      "scaledoutcomeyear :  0.02412890565921124\n",
      "scaledoutcomemonth :  0.01603188638351384\n",
      "scaledintakeageindays :  0.06424869787014643\n",
      "scaledoutcomeageindays :  0.06540352460933237\n",
      "scaleddaysinshelter :  0.1470058950479792\n",
      "animaltype_CAT :  0.005904627122498263\n",
      "animaltype_DOG :  0.005286373630834212\n",
      "animaltype_OTHER :  0.002715753213329698\n",
      "intaketype_FOSTER :  0.012286730549255657\n",
      "intaketype_OTHER :  0.002429389641315659\n",
      "intaketype_OWNER SUR :  0.00640731457970503\n",
      "intaketype_RETURN :  0.0053195313642888\n",
      "intaketype_STRAY :  0.008756515665336747\n",
      "intaketype_medical :  0.01118686521212307\n",
      "intakesubtype_ADOPTION :  0.004113906891049152\n",
      "intakesubtype_FIELD :  0.005032544370901392\n",
      "intakesubtype_OTC :  0.007108131990613137\n",
      "intakesubtype_OTHER :  0.0030445495271983233\n",
      "intakesubtype_RETURN :  0.009172807808252682\n",
      "intakesubtype_nan :  0.009147494135151653\n",
      "primarycolor_BLACK :  0.004402834609922424\n",
      "primarycolor_BROWN :  0.004140952587578961\n",
      "primarycolor_CALICO :  0.002419562293039354\n",
      "primarycolor_GRAY :  0.002303562843085213\n",
      "primarycolor_OTHER :  0.0032078390493358623\n",
      "primarycolor_WHITE :  0.003733694262208596\n",
      "primarycolor_YELLOW :  0.0019550903127276017\n",
      "primarycolor_nan :  2.9818833502413677e-06\n",
      "primarybreed_CHICKEN :  0.00013881633871603763\n",
      "primarybreed_LARGE DOG :  0.0046907582361546225\n",
      "primarybreed_LONGHAIR CAT :  0.0008059996453624792\n",
      "primarybreed_MEDIUM DOG :  0.004774021492886451\n",
      "primarybreed_OTHER :  0.004172323031600755\n",
      "primarybreed_SHORTHAIR CAT :  0.0037227248968129934\n",
      "primarybreed_SMALL DOG :  0.005956609308940972\n",
      "secondarybreed_LARGE DOG :  0.0015743946099171992\n",
      "secondarybreed_LONGHAIR CAT :  6.138179314642053e-05\n",
      "secondarybreed_MEDIUM DOG :  0.0014934942566303035\n",
      "secondarybreed_OTHER :  0.003643963667989887\n",
      "secondarybreed_SHORTHAIR CAT :  0.00027695304232180576\n",
      "secondarybreed_SMALL DOG :  0.0024325158063267325\n",
      "secondarybreed_nan :  0.004924515107322491\n",
      "gender_FEMALE :  0.013568442771590618\n",
      "gender_LITTER :  0.00010960443981029378\n",
      "gender_MALE :  0.013310309468531168\n",
      "gender_NEUTERED MALE :  0.02664690422493345\n",
      "gender_SPAYED FEMALE :  0.03119160180638399\n",
      "gender_UNKNOWN :  0.006555158918155626\n",
      "secondarycolor_BLACK :  0.0028686280678086483\n",
      "secondarycolor_BROWN :  0.0033250651292596636\n",
      "secondarycolor_CALICO :  0.0005862391136896451\n",
      "secondarycolor_GRAY :  0.001326583512107413\n",
      "secondarycolor_OTHER :  0.001313175322881183\n",
      "secondarycolor_WHITE :  0.0042550658382659486\n",
      "secondarycolor_YELLOW :  0.0004633177762756594\n",
      "secondarycolor_nan :  0.004583177860891716\n",
      "intakereason_OTHER :  0.007135624751854983\n",
      "intakereason_STRAY :  0.002769077247211488\n",
      "intakereason_behavior :  0.001075877137129984\n",
      "intakereason_nan :  0.0076151579510453085\n",
      "intakeinternalstatus_AGED :  0.0006446310185542145\n",
      "intakeinternalstatus_NORMAL :  0.008212521192491485\n",
      "intakeinternalstatus_OTHER :  0.001092438876140165\n",
      "intakeinternalstatus_behavior :  0.0025072280129378364\n",
      "intakeinternalstatus_medical :  0.0026188725996773477\n",
      "intakeasilomarstatus_HEALTHY :  0.0025902829505753924\n",
      "intakeasilomarstatus_TREATABLE/MANAGEABLE :  0.0005759759808986331\n",
      "intakeasilomarstatus_UNHEALTHY/UNTREATABLE :  0.000861148543839384\n",
      "reproductivestatusatintake_ALTERED :  0.01771795507102758\n",
      "reproductivestatusatintake_FERTILE :  0.017567630903311992\n",
      "reproductivestatusatintake_UNKNOWN :  0.006808714607277894\n",
      "outcomeinternalstatus_AGED :  0.0003181208507966469\n",
      "outcomeinternalstatus_NORMAL :  0.01423220996153582\n",
      "outcomeinternalstatus_OTHER :  0.0012609719223235995\n",
      "outcomeinternalstatus_behavior :  0.0030634643726250603\n",
      "outcomeinternalstatus_medical :  0.007172138985789143\n",
      "outcomeinternalstatus_nan :  0.008071519592526376\n",
      "outcomeasilomarstatus_HEALTHY :  0.00022209641257380639\n",
      "outcomeasilomarstatus_TREATABLE/MANAGEABLE :  0.00012840862501958602\n",
      "outcomeasilomarstatus_UNHEALTHY/UNTREATABLE :  9.56303319701061e-05\n",
      "outcomeasilomarstatus_nan :  3.9041238207039934e-08\n",
      "reproductivestatusatoutcome_ALTERED :  0.1134286833318868\n",
      "reproductivestatusatoutcome_FERTILE :  0.058790209466400074\n",
      "reproductivestatusatoutcome_UNKNOWN :  0.009142464922651675\n",
      "reproductivestatusatoutcome_nan :  6.957238341473557e-07\n",
      "scaled_loiagridx :  0.02396276492971924\n",
      "scaled_amount :  0.022591564455209226\n"
     ]
    }
   ],
   "source": [
    "for i in range(X.shape[1]):\n",
    "    print(X.columns[i]+ ' : ', rf_random.feature_importances_[i])"
   ]
  },
  {
   "cell_type": "code",
   "execution_count": 86,
   "metadata": {},
   "outputs": [
    {
     "data": {
      "text/plain": [
       "'outcomeasilomarstatus_HEALTHY'"
      ]
     },
     "execution_count": 86,
     "metadata": {},
     "output_type": "execute_result"
    }
   ],
   "source": [
    "X.columns[-10]"
   ]
  },
  {
   "cell_type": "code",
   "execution_count": 80,
   "metadata": {},
   "outputs": [],
   "source": [
    "# Number of trees in random forest\n",
    "param_grid = {'n_estimators': [175,180,185,190]}"
   ]
  },
  {
   "cell_type": "code",
   "execution_count": 81,
   "metadata": {
    "scrolled": true
   },
   "outputs": [
    {
     "name": "stdout",
     "output_type": "stream",
     "text": [
      "Fitting 3 folds for each of 4 candidates, totalling 12 fits\n",
      "[CV] n_estimators=175 ................................................\n",
      "[CV] ................................. n_estimators=175, total=  14.3s\n",
      "[CV] n_estimators=175 ................................................\n"
     ]
    },
    {
     "name": "stderr",
     "output_type": "stream",
     "text": [
      "[Parallel(n_jobs=1)]: Done   1 out of   1 | elapsed:   17.0s remaining:    0.0s\n"
     ]
    },
    {
     "name": "stdout",
     "output_type": "stream",
     "text": [
      "[CV] ................................. n_estimators=175, total=  14.8s\n",
      "[CV] n_estimators=175 ................................................\n",
      "[CV] ................................. n_estimators=175, total=  14.2s\n",
      "[CV] n_estimators=180 ................................................\n",
      "[CV] ................................. n_estimators=180, total=  14.6s\n",
      "[CV] n_estimators=180 ................................................\n",
      "[CV] ................................. n_estimators=180, total=  15.0s\n",
      "[CV] n_estimators=180 ................................................\n",
      "[CV] ................................. n_estimators=180, total=  15.0s\n",
      "[CV] n_estimators=185 ................................................\n",
      "[CV] ................................. n_estimators=185, total=  15.3s\n",
      "[CV] n_estimators=185 ................................................\n",
      "[CV] ................................. n_estimators=185, total=  15.2s\n",
      "[CV] n_estimators=185 ................................................\n",
      "[CV] ................................. n_estimators=185, total=  15.3s\n",
      "[CV] n_estimators=190 ................................................\n",
      "[CV] ................................. n_estimators=190, total=  15.6s\n",
      "[CV] n_estimators=190 ................................................\n",
      "[CV] ................................. n_estimators=190, total=  15.6s\n",
      "[CV] n_estimators=190 ................................................\n",
      "[CV] ................................. n_estimators=190, total=  15.9s\n"
     ]
    },
    {
     "name": "stderr",
     "output_type": "stream",
     "text": [
      "[Parallel(n_jobs=1)]: Done  12 out of  12 | elapsed:  3.6min finished\n"
     ]
    },
    {
     "data": {
      "text/plain": [
       "GridSearchCV(cv=3, error_score='raise',\n",
       "       estimator=RandomForestClassifier(bootstrap=True, class_weight=None, criterion='gini',\n",
       "            max_depth=None, max_features='auto', max_leaf_nodes=None,\n",
       "            min_impurity_decrease=0.0, min_impurity_split=None,\n",
       "            min_samples_leaf=1, min_samples_split=2,\n",
       "            min_weight_fraction_leaf=0.0, n_estimators=10, n_jobs=1,\n",
       "            oob_score=False, random_state=None, verbose=0,\n",
       "            warm_start=False),\n",
       "       fit_params=None, iid=True, n_jobs=1,\n",
       "       param_grid={'n_estimators': [175, 180, 185, 190]},\n",
       "       pre_dispatch='2*n_jobs', refit=True, return_train_score='warn',\n",
       "       scoring=None, verbose=2)"
      ]
     },
     "execution_count": 81,
     "metadata": {},
     "output_type": "execute_result"
    }
   ],
   "source": [
    "from sklearn.model_selection import GridSearchCV\n",
    "\n",
    "\n",
    "rf = RandomForestClassifier()\n",
    "grid_search = GridSearchCV(estimator = rf, param_grid = param_grid, \n",
    "                          cv = 3, verbose = 2)\n",
    "grid_search.fit(X_train, y_train)"
   ]
  },
  {
   "cell_type": "code",
   "execution_count": 82,
   "metadata": {},
   "outputs": [
    {
     "data": {
      "text/plain": [
       "RandomForestClassifier(bootstrap=True, class_weight=None, criterion='gini',\n",
       "            max_depth=None, max_features='auto', max_leaf_nodes=None,\n",
       "            min_impurity_decrease=0.0, min_impurity_split=None,\n",
       "            min_samples_leaf=1, min_samples_split=2,\n",
       "            min_weight_fraction_leaf=0.0, n_estimators=190, n_jobs=1,\n",
       "            oob_score=False, random_state=None, verbose=0,\n",
       "            warm_start=False)"
      ]
     },
     "execution_count": 82,
     "metadata": {},
     "output_type": "execute_result"
    }
   ],
   "source": [
    "grid_search.best_estimator_"
   ]
  },
  {
   "cell_type": "code",
   "execution_count": 83,
   "metadata": {},
   "outputs": [
    {
     "data": {
      "text/plain": [
       "0.9345165734662453"
      ]
     },
     "execution_count": 83,
     "metadata": {},
     "output_type": "execute_result"
    }
   ],
   "source": [
    "grid_search.best_score_"
   ]
  },
  {
   "cell_type": "code",
   "execution_count": null,
   "metadata": {},
   "outputs": [],
   "source": [
    "grid_search."
   ]
  },
  {
   "cell_type": "code",
   "execution_count": 93,
   "metadata": {},
   "outputs": [],
   "source": [
    "# Number of trees in random forest\n",
    "n_estimators = [191, 200, 210, 220, 230, 240, 250]\n",
    "# Number of features to consider at every split\n",
    "max_features = ['auto']\n",
    "# Maximum number of levels in tree\n",
    "max_depth = [110, 120]\n",
    "max_depth.append(None)\n",
    "# Minimum number of samples required to split a node\n",
    "min_samples_split = [5]\n",
    "# Minimum number of samples required at each leaf node\n",
    "min_samples_leaf = [1]\n",
    "# Method of selecting samples for training each tree\n",
    "bootstrap = [True]\n",
    "# Create the random grid\n",
    "param_grid1 = {'n_estimators': n_estimators,\n",
    "               'max_features': max_features,\n",
    "               'max_depth': max_depth,\n",
    "               'min_samples_split': min_samples_split,\n",
    "               'min_samples_leaf': min_samples_leaf,\n",
    "               'bootstrap': bootstrap}"
   ]
  },
  {
   "cell_type": "code",
   "execution_count": 94,
   "metadata": {},
   "outputs": [
    {
     "name": "stdout",
     "output_type": "stream",
     "text": [
      "Fitting 3 folds for each of 21 candidates, totalling 63 fits\n",
      "[CV] bootstrap=True, max_depth=110, max_features=auto, min_samples_leaf=1, min_samples_split=5, n_estimators=191 \n",
      "[CV]  bootstrap=True, max_depth=110, max_features=auto, min_samples_leaf=1, min_samples_split=5, n_estimators=191, total=  14.9s\n",
      "[CV] bootstrap=True, max_depth=110, max_features=auto, min_samples_leaf=1, min_samples_split=5, n_estimators=191 \n"
     ]
    },
    {
     "name": "stderr",
     "output_type": "stream",
     "text": [
      "[Parallel(n_jobs=1)]: Done   1 out of   1 | elapsed:   17.7s remaining:    0.0s\n"
     ]
    },
    {
     "name": "stdout",
     "output_type": "stream",
     "text": [
      "[CV]  bootstrap=True, max_depth=110, max_features=auto, min_samples_leaf=1, min_samples_split=5, n_estimators=191, total=  15.3s\n",
      "[CV] bootstrap=True, max_depth=110, max_features=auto, min_samples_leaf=1, min_samples_split=5, n_estimators=191 \n",
      "[CV]  bootstrap=True, max_depth=110, max_features=auto, min_samples_leaf=1, min_samples_split=5, n_estimators=191, total=  14.9s\n",
      "[CV] bootstrap=True, max_depth=110, max_features=auto, min_samples_leaf=1, min_samples_split=5, n_estimators=200 \n",
      "[CV]  bootstrap=True, max_depth=110, max_features=auto, min_samples_leaf=1, min_samples_split=5, n_estimators=200, total=  15.9s\n",
      "[CV] bootstrap=True, max_depth=110, max_features=auto, min_samples_leaf=1, min_samples_split=5, n_estimators=200 \n",
      "[CV]  bootstrap=True, max_depth=110, max_features=auto, min_samples_leaf=1, min_samples_split=5, n_estimators=200, total=  16.2s\n",
      "[CV] bootstrap=True, max_depth=110, max_features=auto, min_samples_leaf=1, min_samples_split=5, n_estimators=200 \n",
      "[CV]  bootstrap=True, max_depth=110, max_features=auto, min_samples_leaf=1, min_samples_split=5, n_estimators=200, total=  15.9s\n",
      "[CV] bootstrap=True, max_depth=110, max_features=auto, min_samples_leaf=1, min_samples_split=5, n_estimators=210 \n",
      "[CV]  bootstrap=True, max_depth=110, max_features=auto, min_samples_leaf=1, min_samples_split=5, n_estimators=210, total=  16.7s\n",
      "[CV] bootstrap=True, max_depth=110, max_features=auto, min_samples_leaf=1, min_samples_split=5, n_estimators=210 \n",
      "[CV]  bootstrap=True, max_depth=110, max_features=auto, min_samples_leaf=1, min_samples_split=5, n_estimators=210, total=  16.5s\n",
      "[CV] bootstrap=True, max_depth=110, max_features=auto, min_samples_leaf=1, min_samples_split=5, n_estimators=210 \n",
      "[CV]  bootstrap=True, max_depth=110, max_features=auto, min_samples_leaf=1, min_samples_split=5, n_estimators=210, total=  16.5s\n",
      "[CV] bootstrap=True, max_depth=110, max_features=auto, min_samples_leaf=1, min_samples_split=5, n_estimators=220 \n",
      "[CV]  bootstrap=True, max_depth=110, max_features=auto, min_samples_leaf=1, min_samples_split=5, n_estimators=220, total=  17.2s\n",
      "[CV] bootstrap=True, max_depth=110, max_features=auto, min_samples_leaf=1, min_samples_split=5, n_estimators=220 \n",
      "[CV]  bootstrap=True, max_depth=110, max_features=auto, min_samples_leaf=1, min_samples_split=5, n_estimators=220, total=  17.5s\n",
      "[CV] bootstrap=True, max_depth=110, max_features=auto, min_samples_leaf=1, min_samples_split=5, n_estimators=220 \n",
      "[CV]  bootstrap=True, max_depth=110, max_features=auto, min_samples_leaf=1, min_samples_split=5, n_estimators=220, total=  17.5s\n",
      "[CV] bootstrap=True, max_depth=110, max_features=auto, min_samples_leaf=1, min_samples_split=5, n_estimators=230 \n",
      "[CV]  bootstrap=True, max_depth=110, max_features=auto, min_samples_leaf=1, min_samples_split=5, n_estimators=230, total=  17.9s\n",
      "[CV] bootstrap=True, max_depth=110, max_features=auto, min_samples_leaf=1, min_samples_split=5, n_estimators=230 \n",
      "[CV]  bootstrap=True, max_depth=110, max_features=auto, min_samples_leaf=1, min_samples_split=5, n_estimators=230, total=  18.2s\n",
      "[CV] bootstrap=True, max_depth=110, max_features=auto, min_samples_leaf=1, min_samples_split=5, n_estimators=230 \n",
      "[CV]  bootstrap=True, max_depth=110, max_features=auto, min_samples_leaf=1, min_samples_split=5, n_estimators=230, total=  18.0s\n",
      "[CV] bootstrap=True, max_depth=110, max_features=auto, min_samples_leaf=1, min_samples_split=5, n_estimators=240 \n",
      "[CV]  bootstrap=True, max_depth=110, max_features=auto, min_samples_leaf=1, min_samples_split=5, n_estimators=240, total=  18.7s\n",
      "[CV] bootstrap=True, max_depth=110, max_features=auto, min_samples_leaf=1, min_samples_split=5, n_estimators=240 \n",
      "[CV]  bootstrap=True, max_depth=110, max_features=auto, min_samples_leaf=1, min_samples_split=5, n_estimators=240, total=  18.7s\n",
      "[CV] bootstrap=True, max_depth=110, max_features=auto, min_samples_leaf=1, min_samples_split=5, n_estimators=240 \n",
      "[CV]  bootstrap=True, max_depth=110, max_features=auto, min_samples_leaf=1, min_samples_split=5, n_estimators=240, total=  18.8s\n",
      "[CV] bootstrap=True, max_depth=110, max_features=auto, min_samples_leaf=1, min_samples_split=5, n_estimators=250 \n",
      "[CV]  bootstrap=True, max_depth=110, max_features=auto, min_samples_leaf=1, min_samples_split=5, n_estimators=250, total=  19.3s\n",
      "[CV] bootstrap=True, max_depth=110, max_features=auto, min_samples_leaf=1, min_samples_split=5, n_estimators=250 \n",
      "[CV]  bootstrap=True, max_depth=110, max_features=auto, min_samples_leaf=1, min_samples_split=5, n_estimators=250, total=  19.7s\n",
      "[CV] bootstrap=True, max_depth=110, max_features=auto, min_samples_leaf=1, min_samples_split=5, n_estimators=250 \n",
      "[CV]  bootstrap=True, max_depth=110, max_features=auto, min_samples_leaf=1, min_samples_split=5, n_estimators=250, total=  19.8s\n",
      "[CV] bootstrap=True, max_depth=120, max_features=auto, min_samples_leaf=1, min_samples_split=5, n_estimators=191 \n",
      "[CV]  bootstrap=True, max_depth=120, max_features=auto, min_samples_leaf=1, min_samples_split=5, n_estimators=191, total=  14.9s\n",
      "[CV] bootstrap=True, max_depth=120, max_features=auto, min_samples_leaf=1, min_samples_split=5, n_estimators=191 \n",
      "[CV]  bootstrap=True, max_depth=120, max_features=auto, min_samples_leaf=1, min_samples_split=5, n_estimators=191, total=  15.3s\n",
      "[CV] bootstrap=True, max_depth=120, max_features=auto, min_samples_leaf=1, min_samples_split=5, n_estimators=191 \n",
      "[CV]  bootstrap=True, max_depth=120, max_features=auto, min_samples_leaf=1, min_samples_split=5, n_estimators=191, total=  15.2s\n",
      "[CV] bootstrap=True, max_depth=120, max_features=auto, min_samples_leaf=1, min_samples_split=5, n_estimators=200 \n",
      "[CV]  bootstrap=True, max_depth=120, max_features=auto, min_samples_leaf=1, min_samples_split=5, n_estimators=200, total=  16.0s\n",
      "[CV] bootstrap=True, max_depth=120, max_features=auto, min_samples_leaf=1, min_samples_split=5, n_estimators=200 \n",
      "[CV]  bootstrap=True, max_depth=120, max_features=auto, min_samples_leaf=1, min_samples_split=5, n_estimators=200, total=  15.9s\n",
      "[CV] bootstrap=True, max_depth=120, max_features=auto, min_samples_leaf=1, min_samples_split=5, n_estimators=200 \n",
      "[CV]  bootstrap=True, max_depth=120, max_features=auto, min_samples_leaf=1, min_samples_split=5, n_estimators=200, total=  15.8s\n",
      "[CV] bootstrap=True, max_depth=120, max_features=auto, min_samples_leaf=1, min_samples_split=5, n_estimators=210 \n",
      "[CV]  bootstrap=True, max_depth=120, max_features=auto, min_samples_leaf=1, min_samples_split=5, n_estimators=210, total=  16.7s\n",
      "[CV] bootstrap=True, max_depth=120, max_features=auto, min_samples_leaf=1, min_samples_split=5, n_estimators=210 \n",
      "[CV]  bootstrap=True, max_depth=120, max_features=auto, min_samples_leaf=1, min_samples_split=5, n_estimators=210, total=  16.7s\n",
      "[CV] bootstrap=True, max_depth=120, max_features=auto, min_samples_leaf=1, min_samples_split=5, n_estimators=210 \n",
      "[CV]  bootstrap=True, max_depth=120, max_features=auto, min_samples_leaf=1, min_samples_split=5, n_estimators=210, total=  16.4s\n",
      "[CV] bootstrap=True, max_depth=120, max_features=auto, min_samples_leaf=1, min_samples_split=5, n_estimators=220 \n",
      "[CV]  bootstrap=True, max_depth=120, max_features=auto, min_samples_leaf=1, min_samples_split=5, n_estimators=220, total=  17.3s\n",
      "[CV] bootstrap=True, max_depth=120, max_features=auto, min_samples_leaf=1, min_samples_split=5, n_estimators=220 \n",
      "[CV]  bootstrap=True, max_depth=120, max_features=auto, min_samples_leaf=1, min_samples_split=5, n_estimators=220, total=  17.2s\n",
      "[CV] bootstrap=True, max_depth=120, max_features=auto, min_samples_leaf=1, min_samples_split=5, n_estimators=220 \n",
      "[CV]  bootstrap=True, max_depth=120, max_features=auto, min_samples_leaf=1, min_samples_split=5, n_estimators=220, total=  17.5s\n",
      "[CV] bootstrap=True, max_depth=120, max_features=auto, min_samples_leaf=1, min_samples_split=5, n_estimators=230 \n",
      "[CV]  bootstrap=True, max_depth=120, max_features=auto, min_samples_leaf=1, min_samples_split=5, n_estimators=230, total=  17.9s\n",
      "[CV] bootstrap=True, max_depth=120, max_features=auto, min_samples_leaf=1, min_samples_split=5, n_estimators=230 \n",
      "[CV]  bootstrap=True, max_depth=120, max_features=auto, min_samples_leaf=1, min_samples_split=5, n_estimators=230, total=  18.2s\n",
      "[CV] bootstrap=True, max_depth=120, max_features=auto, min_samples_leaf=1, min_samples_split=5, n_estimators=230 \n"
     ]
    },
    {
     "name": "stdout",
     "output_type": "stream",
     "text": [
      "[CV]  bootstrap=True, max_depth=120, max_features=auto, min_samples_leaf=1, min_samples_split=5, n_estimators=230, total=  18.2s\n",
      "[CV] bootstrap=True, max_depth=120, max_features=auto, min_samples_leaf=1, min_samples_split=5, n_estimators=240 \n",
      "[CV]  bootstrap=True, max_depth=120, max_features=auto, min_samples_leaf=1, min_samples_split=5, n_estimators=240, total=  18.6s\n",
      "[CV] bootstrap=True, max_depth=120, max_features=auto, min_samples_leaf=1, min_samples_split=5, n_estimators=240 \n",
      "[CV]  bootstrap=True, max_depth=120, max_features=auto, min_samples_leaf=1, min_samples_split=5, n_estimators=240, total=  19.0s\n",
      "[CV] bootstrap=True, max_depth=120, max_features=auto, min_samples_leaf=1, min_samples_split=5, n_estimators=240 \n",
      "[CV]  bootstrap=True, max_depth=120, max_features=auto, min_samples_leaf=1, min_samples_split=5, n_estimators=240, total=  18.7s\n",
      "[CV] bootstrap=True, max_depth=120, max_features=auto, min_samples_leaf=1, min_samples_split=5, n_estimators=250 \n",
      "[CV]  bootstrap=True, max_depth=120, max_features=auto, min_samples_leaf=1, min_samples_split=5, n_estimators=250, total=  19.3s\n",
      "[CV] bootstrap=True, max_depth=120, max_features=auto, min_samples_leaf=1, min_samples_split=5, n_estimators=250 \n",
      "[CV]  bootstrap=True, max_depth=120, max_features=auto, min_samples_leaf=1, min_samples_split=5, n_estimators=250, total=  19.5s\n",
      "[CV] bootstrap=True, max_depth=120, max_features=auto, min_samples_leaf=1, min_samples_split=5, n_estimators=250 \n",
      "[CV]  bootstrap=True, max_depth=120, max_features=auto, min_samples_leaf=1, min_samples_split=5, n_estimators=250, total=  19.6s\n",
      "[CV] bootstrap=True, max_depth=None, max_features=auto, min_samples_leaf=1, min_samples_split=5, n_estimators=191 \n",
      "[CV]  bootstrap=True, max_depth=None, max_features=auto, min_samples_leaf=1, min_samples_split=5, n_estimators=191, total=  14.9s\n",
      "[CV] bootstrap=True, max_depth=None, max_features=auto, min_samples_leaf=1, min_samples_split=5, n_estimators=191 \n",
      "[CV]  bootstrap=True, max_depth=None, max_features=auto, min_samples_leaf=1, min_samples_split=5, n_estimators=191, total=  15.1s\n",
      "[CV] bootstrap=True, max_depth=None, max_features=auto, min_samples_leaf=1, min_samples_split=5, n_estimators=191 \n",
      "[CV]  bootstrap=True, max_depth=None, max_features=auto, min_samples_leaf=1, min_samples_split=5, n_estimators=191, total=  15.1s\n",
      "[CV] bootstrap=True, max_depth=None, max_features=auto, min_samples_leaf=1, min_samples_split=5, n_estimators=200 \n",
      "[CV]  bootstrap=True, max_depth=None, max_features=auto, min_samples_leaf=1, min_samples_split=5, n_estimators=200, total=  15.8s\n",
      "[CV] bootstrap=True, max_depth=None, max_features=auto, min_samples_leaf=1, min_samples_split=5, n_estimators=200 \n",
      "[CV]  bootstrap=True, max_depth=None, max_features=auto, min_samples_leaf=1, min_samples_split=5, n_estimators=200, total=  15.6s\n",
      "[CV] bootstrap=True, max_depth=None, max_features=auto, min_samples_leaf=1, min_samples_split=5, n_estimators=200 \n",
      "[CV]  bootstrap=True, max_depth=None, max_features=auto, min_samples_leaf=1, min_samples_split=5, n_estimators=200, total=  15.7s\n",
      "[CV] bootstrap=True, max_depth=None, max_features=auto, min_samples_leaf=1, min_samples_split=5, n_estimators=210 \n",
      "[CV]  bootstrap=True, max_depth=None, max_features=auto, min_samples_leaf=1, min_samples_split=5, n_estimators=210, total=  16.5s\n",
      "[CV] bootstrap=True, max_depth=None, max_features=auto, min_samples_leaf=1, min_samples_split=5, n_estimators=210 \n",
      "[CV]  bootstrap=True, max_depth=None, max_features=auto, min_samples_leaf=1, min_samples_split=5, n_estimators=210, total=  16.6s\n",
      "[CV] bootstrap=True, max_depth=None, max_features=auto, min_samples_leaf=1, min_samples_split=5, n_estimators=210 \n",
      "[CV]  bootstrap=True, max_depth=None, max_features=auto, min_samples_leaf=1, min_samples_split=5, n_estimators=210, total=  16.9s\n",
      "[CV] bootstrap=True, max_depth=None, max_features=auto, min_samples_leaf=1, min_samples_split=5, n_estimators=220 \n",
      "[CV]  bootstrap=True, max_depth=None, max_features=auto, min_samples_leaf=1, min_samples_split=5, n_estimators=220, total=  17.3s\n",
      "[CV] bootstrap=True, max_depth=None, max_features=auto, min_samples_leaf=1, min_samples_split=5, n_estimators=220 \n",
      "[CV]  bootstrap=True, max_depth=None, max_features=auto, min_samples_leaf=1, min_samples_split=5, n_estimators=220, total=  17.3s\n",
      "[CV] bootstrap=True, max_depth=None, max_features=auto, min_samples_leaf=1, min_samples_split=5, n_estimators=220 \n",
      "[CV]  bootstrap=True, max_depth=None, max_features=auto, min_samples_leaf=1, min_samples_split=5, n_estimators=220, total=  17.3s\n",
      "[CV] bootstrap=True, max_depth=None, max_features=auto, min_samples_leaf=1, min_samples_split=5, n_estimators=230 \n",
      "[CV]  bootstrap=True, max_depth=None, max_features=auto, min_samples_leaf=1, min_samples_split=5, n_estimators=230, total=  18.2s\n",
      "[CV] bootstrap=True, max_depth=None, max_features=auto, min_samples_leaf=1, min_samples_split=5, n_estimators=230 \n",
      "[CV]  bootstrap=True, max_depth=None, max_features=auto, min_samples_leaf=1, min_samples_split=5, n_estimators=230, total=  17.9s\n",
      "[CV] bootstrap=True, max_depth=None, max_features=auto, min_samples_leaf=1, min_samples_split=5, n_estimators=230 \n",
      "[CV]  bootstrap=True, max_depth=None, max_features=auto, min_samples_leaf=1, min_samples_split=5, n_estimators=230, total=  18.1s\n",
      "[CV] bootstrap=True, max_depth=None, max_features=auto, min_samples_leaf=1, min_samples_split=5, n_estimators=240 \n",
      "[CV]  bootstrap=True, max_depth=None, max_features=auto, min_samples_leaf=1, min_samples_split=5, n_estimators=240, total=  18.6s\n",
      "[CV] bootstrap=True, max_depth=None, max_features=auto, min_samples_leaf=1, min_samples_split=5, n_estimators=240 \n",
      "[CV]  bootstrap=True, max_depth=None, max_features=auto, min_samples_leaf=1, min_samples_split=5, n_estimators=240, total=  18.8s\n",
      "[CV] bootstrap=True, max_depth=None, max_features=auto, min_samples_leaf=1, min_samples_split=5, n_estimators=240 \n",
      "[CV]  bootstrap=True, max_depth=None, max_features=auto, min_samples_leaf=1, min_samples_split=5, n_estimators=240, total=  19.0s\n",
      "[CV] bootstrap=True, max_depth=None, max_features=auto, min_samples_leaf=1, min_samples_split=5, n_estimators=250 \n",
      "[CV]  bootstrap=True, max_depth=None, max_features=auto, min_samples_leaf=1, min_samples_split=5, n_estimators=250, total=  19.3s\n",
      "[CV] bootstrap=True, max_depth=None, max_features=auto, min_samples_leaf=1, min_samples_split=5, n_estimators=250 \n",
      "[CV]  bootstrap=True, max_depth=None, max_features=auto, min_samples_leaf=1, min_samples_split=5, n_estimators=250, total=  20.3s\n",
      "[CV] bootstrap=True, max_depth=None, max_features=auto, min_samples_leaf=1, min_samples_split=5, n_estimators=250 \n",
      "[CV]  bootstrap=True, max_depth=None, max_features=auto, min_samples_leaf=1, min_samples_split=5, n_estimators=250, total=  19.8s\n"
     ]
    },
    {
     "name": "stderr",
     "output_type": "stream",
     "text": [
      "[Parallel(n_jobs=1)]: Done  63 out of  63 | elapsed: 21.5min finished\n"
     ]
    },
    {
     "data": {
      "text/plain": [
       "GridSearchCV(cv=3, error_score='raise',\n",
       "       estimator=RandomForestClassifier(bootstrap=True, class_weight=None, criterion='gini',\n",
       "            max_depth=None, max_features='auto', max_leaf_nodes=None,\n",
       "            min_impurity_decrease=0.0, min_impurity_split=None,\n",
       "            min_samples_leaf=1, min_samples_split=2,\n",
       "            min_weight_fraction_leaf=0.0, n_estimators=10, n_jobs=1,\n",
       "            oob_score=False, random_state=None, verbose=0,\n",
       "            warm_start=False),\n",
       "       fit_params=None, iid=True, n_jobs=1,\n",
       "       param_grid={'n_estimators': [191, 200, 210, 220, 230, 240, 250], 'max_features': ['auto'], 'max_depth': [110, 120, None], 'min_samples_split': [5], 'min_samples_leaf': [1], 'bootstrap': [True]},\n",
       "       pre_dispatch='2*n_jobs', refit=True, return_train_score='warn',\n",
       "       scoring=None, verbose=2)"
      ]
     },
     "execution_count": 94,
     "metadata": {},
     "output_type": "execute_result"
    }
   ],
   "source": [
    "rf1 = RandomForestClassifier()\n",
    "grid_search1 = GridSearchCV(estimator = rf1, param_grid = param_grid1, \n",
    "                          cv = 3, verbose = 2)\n",
    "grid_search1.fit(X_train, y_train)\n",
    "\n"
   ]
  },
  {
   "cell_type": "code",
   "execution_count": 95,
   "metadata": {},
   "outputs": [
    {
     "data": {
      "text/plain": [
       "RandomForestClassifier(bootstrap=True, class_weight=None, criterion='gini',\n",
       "            max_depth=110, max_features='auto', max_leaf_nodes=None,\n",
       "            min_impurity_decrease=0.0, min_impurity_split=None,\n",
       "            min_samples_leaf=1, min_samples_split=5,\n",
       "            min_weight_fraction_leaf=0.0, n_estimators=220, n_jobs=1,\n",
       "            oob_score=False, random_state=None, verbose=0,\n",
       "            warm_start=False)"
      ]
     },
     "execution_count": 95,
     "metadata": {},
     "output_type": "execute_result"
    }
   ],
   "source": [
    "grid_search1.best_estimator_"
   ]
  },
  {
   "cell_type": "code",
   "execution_count": 96,
   "metadata": {},
   "outputs": [
    {
     "data": {
      "text/plain": [
       "0.9342633114514952"
      ]
     },
     "execution_count": 96,
     "metadata": {},
     "output_type": "execute_result"
    }
   ],
   "source": [
    "grid_search1.best_score_"
   ]
  },
  {
   "cell_type": "code",
   "execution_count": null,
   "metadata": {},
   "outputs": [],
   "source": []
  },
  {
   "cell_type": "code",
   "execution_count": 118,
   "metadata": {},
   "outputs": [],
   "source": [
    "best_rf = grid_search.best_estimator_"
   ]
  },
  {
   "cell_type": "code",
   "execution_count": null,
   "metadata": {},
   "outputs": [],
   "source": []
  },
  {
   "cell_type": "code",
   "execution_count": null,
   "metadata": {},
   "outputs": [],
   "source": [
    "n_estimators = [191, 200, 210, 220, 230, 240, 250]\n",
    "random_grid = {'base_estimator':DecisionTreeClassifier(),'n_estimators': n_estimators}\n",
    "bc = BaggingClassifier()\n",
    "bc_random=RandomizedSearchCV(estimator = bc, param_distributions = random_grid, n_iter = 100, cv = 3, verbose=2, random_state=42)\n",
    "# Fit the random search model\n",
    "bc_random.fit(X_train, y_train)\n"
   ]
  },
  {
   "cell_type": "code",
   "execution_count": null,
   "metadata": {},
   "outputs": [],
   "source": []
  },
  {
   "cell_type": "code",
   "execution_count": null,
   "metadata": {},
   "outputs": [],
   "source": []
  },
  {
   "cell_type": "code",
   "execution_count": null,
   "metadata": {},
   "outputs": [],
   "source": []
  },
  {
   "cell_type": "code",
   "execution_count": 98,
   "metadata": {},
   "outputs": [
    {
     "name": "stdout",
     "output_type": "stream",
     "text": [
      "Fitting 3 folds for each of 7 candidates, totalling 21 fits\n",
      "[CV] C=0.001 .........................................................\n",
      "[CV] .......................................... C=0.001, total=   0.6s\n",
      "[CV] C=0.001 .........................................................\n"
     ]
    },
    {
     "name": "stderr",
     "output_type": "stream",
     "text": [
      "[Parallel(n_jobs=1)]: Done   1 out of   1 | elapsed:    0.8s remaining:    0.0s\n"
     ]
    },
    {
     "name": "stdout",
     "output_type": "stream",
     "text": [
      "[CV] .......................................... C=0.001, total=   0.5s\n",
      "[CV] C=0.001 .........................................................\n",
      "[CV] .......................................... C=0.001, total=   0.5s\n",
      "[CV] C=0.01 ..........................................................\n",
      "[CV] ........................................... C=0.01, total=   0.7s\n",
      "[CV] C=0.01 ..........................................................\n",
      "[CV] ........................................... C=0.01, total=   0.7s\n",
      "[CV] C=0.01 ..........................................................\n",
      "[CV] ........................................... C=0.01, total=   0.7s\n",
      "[CV] C=0.1 ...........................................................\n",
      "[CV] ............................................ C=0.1, total=   0.9s\n",
      "[CV] C=0.1 ...........................................................\n",
      "[CV] ............................................ C=0.1, total=   1.1s\n",
      "[CV] C=0.1 ...........................................................\n",
      "[CV] ............................................ C=0.1, total=   0.9s\n",
      "[CV] C=1 .............................................................\n",
      "[CV] .............................................. C=1, total=   1.3s\n",
      "[CV] C=1 .............................................................\n",
      "[CV] .............................................. C=1, total=   1.4s\n",
      "[CV] C=1 .............................................................\n",
      "[CV] .............................................. C=1, total=   1.2s\n",
      "[CV] C=10 ............................................................\n",
      "[CV] ............................................. C=10, total=   2.0s\n",
      "[CV] C=10 ............................................................\n",
      "[CV] ............................................. C=10, total=   2.1s\n",
      "[CV] C=10 ............................................................\n",
      "[CV] ............................................. C=10, total=   2.0s\n",
      "[CV] C=100 ...........................................................\n",
      "[CV] ............................................ C=100, total=   3.1s\n",
      "[CV] C=100 ...........................................................\n",
      "[CV] ............................................ C=100, total=   2.6s\n",
      "[CV] C=100 ...........................................................\n",
      "[CV] ............................................ C=100, total=   2.6s\n",
      "[CV] C=1000 ..........................................................\n",
      "[CV] ........................................... C=1000, total=   2.8s\n",
      "[CV] C=1000 ..........................................................\n",
      "[CV] ........................................... C=1000, total=   2.1s\n",
      "[CV] C=1000 ..........................................................\n",
      "[CV] ........................................... C=1000, total=   2.3s\n"
     ]
    },
    {
     "name": "stderr",
     "output_type": "stream",
     "text": [
      "[Parallel(n_jobs=1)]: Done  21 out of  21 | elapsed:   36.8s finished\n"
     ]
    },
    {
     "data": {
      "text/plain": [
       "GridSearchCV(cv=3, error_score='raise',\n",
       "       estimator=LogisticRegression(C=1.0, class_weight=None, dual=False, fit_intercept=True,\n",
       "          intercept_scaling=1, max_iter=100, multi_class='ovr', n_jobs=1,\n",
       "          penalty='l2', random_state=None, solver='liblinear', tol=0.0001,\n",
       "          verbose=0, warm_start=False),\n",
       "       fit_params=None, iid=True, n_jobs=1,\n",
       "       param_grid={'C': [0.001, 0.01, 0.1, 1, 10, 100, 1000]},\n",
       "       pre_dispatch='2*n_jobs', refit=True, return_train_score='warn',\n",
       "       scoring=None, verbose=2)"
      ]
     },
     "execution_count": 98,
     "metadata": {},
     "output_type": "execute_result"
    }
   ],
   "source": [
    "\n",
    "grid_search_logreg=GridSearchCV(cv=3,verbose = 2,\n",
    "             estimator=LogisticRegression(C=1.0, intercept_scaling=1,   \n",
    "               dual=False, fit_intercept=True, penalty='l2', tol=0.0001),\n",
    "             param_grid={'C': [0.001, 0.01, 0.1, 1, 10, 100, 1000]})\n",
    "grid_search_logreg.fit(X_train, y_train)"
   ]
  },
  {
   "cell_type": "code",
   "execution_count": 99,
   "metadata": {},
   "outputs": [
    {
     "data": {
      "text/plain": [
       "LogisticRegression(C=100, class_weight=None, dual=False, fit_intercept=True,\n",
       "          intercept_scaling=1, max_iter=100, multi_class='ovr', n_jobs=1,\n",
       "          penalty='l2', random_state=None, solver='liblinear', tol=0.0001,\n",
       "          verbose=0, warm_start=False)"
      ]
     },
     "execution_count": 99,
     "metadata": {},
     "output_type": "execute_result"
    }
   ],
   "source": [
    "grid_search_logreg.best_estimator_"
   ]
  },
  {
   "cell_type": "code",
   "execution_count": 120,
   "metadata": {},
   "outputs": [],
   "source": [
    "best_logreg=grid_search_logreg.best_estimator_"
   ]
  },
  {
   "cell_type": "code",
   "execution_count": 100,
   "metadata": {},
   "outputs": [
    {
     "data": {
      "text/plain": [
       "0.9034767809384877"
      ]
     },
     "execution_count": 100,
     "metadata": {},
     "output_type": "execute_result"
    }
   ],
   "source": [
    "grid_search_logreg.best_score_"
   ]
  },
  {
   "cell_type": "code",
   "execution_count": null,
   "metadata": {},
   "outputs": [],
   "source": []
  },
  {
   "cell_type": "code",
   "execution_count": null,
   "metadata": {},
   "outputs": [],
   "source": []
  },
  {
   "cell_type": "code",
   "execution_count": 111,
   "metadata": {},
   "outputs": [
    {
     "name": "stdout",
     "output_type": "stream",
     "text": [
      "[1, 6, 11]\n"
     ]
    }
   ],
   "source": [
    "k_range = list(range(1,12, 5))\n",
    "print(k_range)"
   ]
  },
  {
   "cell_type": "code",
   "execution_count": 112,
   "metadata": {},
   "outputs": [],
   "source": [
    "param_grid = dict(n_neighbors=k_range)"
   ]
  },
  {
   "cell_type": "code",
   "execution_count": 113,
   "metadata": {},
   "outputs": [],
   "source": [
    "grid_search_knn = GridSearchCV(KNeighborsClassifier(), param_grid, cv=3, verbose = 2)"
   ]
  },
  {
   "cell_type": "code",
   "execution_count": 114,
   "metadata": {},
   "outputs": [
    {
     "name": "stdout",
     "output_type": "stream",
     "text": [
      "Fitting 3 folds for each of 3 candidates, totalling 9 fits\n",
      "[CV] n_neighbors=1 ...................................................\n",
      "[CV] .................................... n_neighbors=1, total= 2.6min\n",
      "[CV] n_neighbors=1 ...................................................\n"
     ]
    },
    {
     "name": "stderr",
     "output_type": "stream",
     "text": [
      "[Parallel(n_jobs=1)]: Done   1 out of   1 | elapsed:  2.8min remaining:    0.0s\n"
     ]
    },
    {
     "name": "stdout",
     "output_type": "stream",
     "text": [
      "[CV] .................................... n_neighbors=1, total= 2.6min\n",
      "[CV] n_neighbors=1 ...................................................\n",
      "[CV] .................................... n_neighbors=1, total= 2.6min\n",
      "[CV] n_neighbors=6 ...................................................\n",
      "[CV] .................................... n_neighbors=6, total= 4.2min\n",
      "[CV] n_neighbors=6 ...................................................\n",
      "[CV] .................................... n_neighbors=6, total= 4.1min\n",
      "[CV] n_neighbors=6 ...................................................\n",
      "[CV] .................................... n_neighbors=6, total= 4.2min\n",
      "[CV] n_neighbors=11 ..................................................\n",
      "[CV] ................................... n_neighbors=11, total= 4.7min\n",
      "[CV] n_neighbors=11 ..................................................\n",
      "[CV] ................................... n_neighbors=11, total= 4.6min\n",
      "[CV] n_neighbors=11 ..................................................\n",
      "[CV] ................................... n_neighbors=11, total= 4.6min\n"
     ]
    },
    {
     "name": "stderr",
     "output_type": "stream",
     "text": [
      "[Parallel(n_jobs=1)]: Done   9 out of   9 | elapsed: 85.8min finished\n"
     ]
    },
    {
     "data": {
      "text/plain": [
       "GridSearchCV(cv=3, error_score='raise',\n",
       "       estimator=KNeighborsClassifier(algorithm='auto', leaf_size=30, metric='minkowski',\n",
       "           metric_params=None, n_jobs=1, n_neighbors=5, p=2,\n",
       "           weights='uniform'),\n",
       "       fit_params=None, iid=True, n_jobs=1,\n",
       "       param_grid={'n_neighbors': [1, 6, 11]}, pre_dispatch='2*n_jobs',\n",
       "       refit=True, return_train_score='warn', scoring=None, verbose=2)"
      ]
     },
     "execution_count": 114,
     "metadata": {},
     "output_type": "execute_result"
    }
   ],
   "source": [
    "grid_search_knn.fit(X_train, y_train)"
   ]
  },
  {
   "cell_type": "code",
   "execution_count": 115,
   "metadata": {},
   "outputs": [
    {
     "data": {
      "text/plain": [
       "0.899941243212578"
      ]
     },
     "execution_count": 115,
     "metadata": {},
     "output_type": "execute_result"
    }
   ],
   "source": [
    "grid_search_knn.best_score_"
   ]
  },
  {
   "cell_type": "code",
   "execution_count": 157,
   "metadata": {},
   "outputs": [],
   "source": [
    "best_knn = grid_search_knn.best_estimator_"
   ]
  },
  {
   "cell_type": "code",
   "execution_count": 158,
   "metadata": {},
   "outputs": [
    {
     "data": {
      "text/plain": [
       "KNeighborsClassifier(algorithm='auto', leaf_size=30, metric='minkowski',\n",
       "           metric_params=None, n_jobs=1, n_neighbors=11, p=2,\n",
       "           weights='uniform')"
      ]
     },
     "execution_count": 158,
     "metadata": {},
     "output_type": "execute_result"
    }
   ],
   "source": [
    "best_knn"
   ]
  },
  {
   "cell_type": "code",
   "execution_count": 133,
   "metadata": {},
   "outputs": [],
   "source": [
    "import pickle\n",
    "with open('best_knn.pkl', 'wb') as fp:\n",
    "    pickle.dump(best_knn, fp)"
   ]
  },
  {
   "cell_type": "code",
   "execution_count": 125,
   "metadata": {},
   "outputs": [],
   "source": [
    "with open('best_rf.pkl', 'wb') as fp:\n",
    "    pickle.dump(best_rf, fp)"
   ]
  },
  {
   "cell_type": "code",
   "execution_count": 126,
   "metadata": {},
   "outputs": [],
   "source": [
    "with open('best_logreg.pkl', 'wb') as fp:\n",
    "    pickle.dump(best_logreg, fp)"
   ]
  },
  {
   "cell_type": "code",
   "execution_count": 129,
   "metadata": {},
   "outputs": [
    {
     "data": {
      "text/plain": [
       "not_adopted    34633\n",
       "ADOPTION        7673\n",
       "Name: outcometype, dtype: int64"
      ]
     },
     "execution_count": 129,
     "metadata": {},
     "output_type": "execute_result"
    }
   ],
   "source": [
    "y_test.value_counts()"
   ]
  },
  {
   "cell_type": "code",
   "execution_count": 138,
   "metadata": {},
   "outputs": [],
   "source": [
    "y_test = y_test.replace('ADOPTION',0)\n",
    "y_test = y_test.replace('not_adopted',1)"
   ]
  },
  {
   "cell_type": "code",
   "execution_count": 139,
   "metadata": {},
   "outputs": [],
   "source": [
    "from sklearn.metrics import precision_score, recall_score, precision_recall_curve,f1_score, accuracy_score\n",
    "def get_f1_score(model):\n",
    "    \n",
    "    y_predicted = model.predict(X_test)\n",
    "    y_predicted = pd.DataFrame(y_predicted)\n",
    "    y_predicted[0].replace('not_adopted',1,inplace=True)\n",
    "    y_predicted[0].replace('ADOPTION',0,inplace=True)\n",
    "    return f1_score(y_test,y_predicted[0])"
   ]
  },
  {
   "cell_type": "code",
   "execution_count": 140,
   "metadata": {},
   "outputs": [],
   "source": [
    "logreg_f1 = get_f1_score(best_logreg)"
   ]
  },
  {
   "cell_type": "code",
   "execution_count": 141,
   "metadata": {},
   "outputs": [
    {
     "data": {
      "text/plain": [
       "0.9424805444677369"
      ]
     },
     "execution_count": 141,
     "metadata": {},
     "output_type": "execute_result"
    }
   ],
   "source": [
    "logreg_f1"
   ]
  },
  {
   "cell_type": "code",
   "execution_count": 142,
   "metadata": {},
   "outputs": [],
   "source": [
    "rf_f1 = get_f1_score(best_rf)"
   ]
  },
  {
   "cell_type": "code",
   "execution_count": 143,
   "metadata": {},
   "outputs": [
    {
     "data": {
      "text/plain": [
       "0.9604765888699766"
      ]
     },
     "execution_count": 143,
     "metadata": {},
     "output_type": "execute_result"
    }
   ],
   "source": [
    "rf_f1"
   ]
  },
  {
   "cell_type": "code",
   "execution_count": null,
   "metadata": {},
   "outputs": [],
   "source": []
  },
  {
   "cell_type": "code",
   "execution_count": 146,
   "metadata": {},
   "outputs": [],
   "source": [
    "    y_predicted = best_rf.predict(X_test)\n",
    "    y_predicted = pd.DataFrame(y_predicted)\n",
    "    y_predicted[0].replace('not_adopted',1,inplace=True)\n",
    "    y_predicted[0].replace('ADOPTION',0,inplace=True)\n",
    "    y_pred = y_predicted[0]"
   ]
  },
  {
   "cell_type": "code",
   "execution_count": 147,
   "metadata": {},
   "outputs": [
    {
     "data": {
      "image/png": "[encoded data removed]",
      "text/plain": [
       "<matplotlib.figure.Figure at 0x7f85a5437ef0>"
      ]
     },
     "metadata": {},
     "output_type": "display_data"
    }
   ],
   "source": [
    "from sklearn.metrics import confusion_matrix, classification_report\n",
    "import itertools\n",
    "\n",
    "plt.figure(dpi=150)\n",
    "cm = confusion_matrix(y_test, y_pred)\n",
    "plt.imshow(cm, cmap=plt.cm.Blues)\n",
    "plt.colorbar();\n",
    "plt.xticks([0,1])\n",
    "plt.yticks([0,1]);\n",
    "plt.ylabel(\"True\")\n",
    "plt.xlabel(\"Predicted\");\n",
    "fmt = '.2f'\n",
    "thresh = cm.max() / 2.\n",
    "for i, j in itertools.product(range(cm.shape[0]), range(cm.shape[1])):\n",
    "    plt.text(j, i, format(cm[i, j], fmt),\n",
    "             horizontalalignment=\"center\",\n",
    "             color=\"white\" if cm[i, j] > thresh else \"black\")"
   ]
  },
  {
   "cell_type": "code",
   "execution_count": 150,
   "metadata": {},
   "outputs": [],
   "source": [
    "# baseline estimators\n",
    "\n",
    "def predict_adopted(X):\n",
    "    if isinstance(X, pd.DataFrame):\n",
    "        return [0]*X.shape[0]\n",
    "    else:\n",
    "        return [0]* X.size\n",
    "    \n",
    "def predict_not_adopted(X):\n",
    "    if isinstance(X, pd.DataFrame):\n",
    "        return [1]*X.shape[0]\n",
    "    else:\n",
    "        return [1]*X.size"
   ]
  },
  {
   "cell_type": "code",
   "execution_count": 151,
   "metadata": {},
   "outputs": [
    {
     "name": "stderr",
     "output_type": "stream",
     "text": [
      "/home/ubuntu/anaconda3/lib/python3.6/site-packages/sklearn/metrics/classification.py:1135: UndefinedMetricWarning: F-score is ill-defined and being set to 0.0 due to no predicted samples.\n",
      "  'precision', 'predicted', average, warn_for)\n"
     ]
    }
   ],
   "source": [
    "predict_adopted_f1= f1_score(y_test,predict_adopted(X_test))"
   ]
  },
  {
   "cell_type": "code",
   "execution_count": 152,
   "metadata": {},
   "outputs": [
    {
     "data": {
      "text/plain": [
       "0.0"
      ]
     },
     "execution_count": 152,
     "metadata": {},
     "output_type": "execute_result"
    }
   ],
   "source": [
    "predict_adopted_f1"
   ]
  },
  {
   "cell_type": "code",
   "execution_count": 154,
   "metadata": {},
   "outputs": [],
   "source": [
    "predict_not_adopted_f1= f1_score(y_test,predict_not_adopted(X_test))"
   ]
  },
  {
   "cell_type": "code",
   "execution_count": 155,
   "metadata": {},
   "outputs": [
    {
     "data": {
      "text/plain": [
       "0.9002716437697397"
      ]
     },
     "execution_count": 155,
     "metadata": {},
     "output_type": "execute_result"
    }
   ],
   "source": [
    "predict_not_adopted_f1"
   ]
  },
  {
   "cell_type": "code",
   "execution_count": 159,
   "metadata": {},
   "outputs": [],
   "source": [
    "pred_logprob=best_logreg.predict_proba(X_test)"
   ]
  },
  {
   "cell_type": "code",
   "execution_count": 160,
   "metadata": {},
   "outputs": [
    {
     "data": {
      "text/plain": [
       "array([[1.44648099e-03, 9.98553519e-01],\n",
       "       [5.97432352e-04, 9.99402568e-01],\n",
       "       [2.25327343e-02, 9.77467266e-01],\n",
       "       [2.02226690e-02, 9.79777331e-01],\n",
       "       [4.16415621e-03, 9.95835844e-01]])"
      ]
     },
     "execution_count": 160,
     "metadata": {},
     "output_type": "execute_result"
    }
   ],
   "source": [
    "#first col is probability for 0 --- adopted\n",
    "#second col is probability for 1 --- not adopted\n",
    "pred_logprob[:5]"
   ]
  },
  {
   "cell_type": "code",
   "execution_count": 161,
   "metadata": {},
   "outputs": [],
   "source": [
    "pred_log=best_logreg.predict(X_test)"
   ]
  },
  {
   "cell_type": "code",
   "execution_count": 162,
   "metadata": {},
   "outputs": [
    {
     "data": {
      "text/plain": [
       "array(['not_adopted', 'not_adopted', 'not_adopted', 'not_adopted',\n",
       "       'not_adopted'], dtype=object)"
      ]
     },
     "execution_count": 162,
     "metadata": {},
     "output_type": "execute_result"
    }
   ],
   "source": [
    "pred_log[:5]"
   ]
  },
  {
   "cell_type": "code",
   "execution_count": 178,
   "metadata": {},
   "outputs": [],
   "source": [
    "feature_importances = pd.DataFrame(best_rf.feature_importances_,\n",
    "                                   index = X_train.columns,\n",
    "                                    columns=['importance']).sort_values('importance',  ascending=False)"
   ]
  },
  {
   "cell_type": "code",
   "execution_count": 165,
   "metadata": {},
   "outputs": [
    {
     "data": {
      "text/html": [
       "<div>\n",
       "<style scoped>\n",
       "    .dataframe tbody tr th:only-of-type {\n",
       "        vertical-align: middle;\n",
       "    }\n",
       "\n",
       "    .dataframe tbody tr th {\n",
       "        vertical-align: top;\n",
       "    }\n",
       "\n",
       "    .dataframe thead th {\n",
       "        text-align: right;\n",
       "    }\n",
       "</style>\n",
       "<table border=\"1\" class=\"dataframe\">\n",
       "  <thead>\n",
       "    <tr style=\"text-align: right;\">\n",
       "      <th></th>\n",
       "      <th>importance</th>\n",
       "    </tr>\n",
       "  </thead>\n",
       "  <tbody>\n",
       "    <tr>\n",
       "      <th>scaleddaysinshelter</th>\n",
       "      <td>0.144140</td>\n",
       "    </tr>\n",
       "    <tr>\n",
       "      <th>reproductivestatusatoutcome_ALTERED</th>\n",
       "      <td>0.101406</td>\n",
       "    </tr>\n",
       "    <tr>\n",
       "      <th>scaledoutcomeageindays</th>\n",
       "      <td>0.064016</td>\n",
       "    </tr>\n",
       "    <tr>\n",
       "      <th>scaledintakeageindays</th>\n",
       "      <td>0.058183</td>\n",
       "    </tr>\n",
       "    <tr>\n",
       "      <th>reproductivestatusatoutcome_FERTILE</th>\n",
       "      <td>0.054612</td>\n",
       "    </tr>\n",
       "    <tr>\n",
       "      <th>gender_SPAYED FEMALE</th>\n",
       "      <td>0.031782</td>\n",
       "    </tr>\n",
       "    <tr>\n",
       "      <th>scaled_loiagridx</th>\n",
       "      <td>0.028799</td>\n",
       "    </tr>\n",
       "    <tr>\n",
       "      <th>scaled_amount</th>\n",
       "      <td>0.026855</td>\n",
       "    </tr>\n",
       "    <tr>\n",
       "      <th>scaledoutcomeyear</th>\n",
       "      <td>0.024644</td>\n",
       "    </tr>\n",
       "    <tr>\n",
       "      <th>scaledintakeyear</th>\n",
       "      <td>0.024513</td>\n",
       "    </tr>\n",
       "  </tbody>\n",
       "</table>\n",
       "</div>"
      ],
      "text/plain": [
       "                                     importance\n",
       "scaleddaysinshelter                    0.144140\n",
       "reproductivestatusatoutcome_ALTERED    0.101406\n",
       "scaledoutcomeageindays                 0.064016\n",
       "scaledintakeageindays                  0.058183\n",
       "reproductivestatusatoutcome_FERTILE    0.054612\n",
       "gender_SPAYED FEMALE                   0.031782\n",
       "scaled_loiagridx                       0.028799\n",
       "scaled_amount                          0.026855\n",
       "scaledoutcomeyear                      0.024644\n",
       "scaledintakeyear                       0.024513"
      ]
     },
     "execution_count": 165,
     "metadata": {},
     "output_type": "execute_result"
    }
   ],
   "source": [
    "feature_importances.head(10)"
   ]
  },
  {
   "cell_type": "code",
   "execution_count": 192,
   "metadata": {},
   "outputs": [
    {
     "data": {
      "text/plain": [
       "Text(0.5,0,'Relative Importance')"
      ]
     },
     "execution_count": 192,
     "metadata": {},
     "output_type": "execute_result"
    },
    {
     "data": {
      "image/png": "[encoded data removed]",
      "text/plain": [
       "<matplotlib.figure.Figure at 0x7f85a24b0400>"
      ]
     },
     "metadata": {},
     "output_type": "display_data"
    }
   ],
   "source": [
    "importances = best_rf.feature_importances_\n",
    "indices = np.argsort(importances)[::-1][:10]\n",
    "\n",
    "                 \n",
    "plt.figure(1)\n",
    "plt.title('Top 10 most important features')\n",
    "plt.barh(range(len(indices)), importances[indices], color='b', align='center')\n",
    "plt.yticks(range(len(indices)), X_test.columns[indices])\n",
    "plt.xlabel('Relative Importance')"
   ]
  },
  {
   "cell_type": "code",
   "execution_count": 191,
   "metadata": {},
   "outputs": [
    {
     "name": "stdout",
     "output_type": "stream",
     "text": [
      "Index(['scaleddaysinshelter', 'reproductivestatusatoutcome_ALTERED',\n",
      "       'scaledoutcomeageindays', 'scaledintakeageindays',\n",
      "       'reproductivestatusatoutcome_FERTILE', 'gender_SPAYED FEMALE',\n",
      "       'scaled_loiagridx', 'scaled_amount', 'scaledoutcomeyear',\n",
      "       'scaledintakeyear'],\n",
      "      dtype='object')\n"
     ]
    }
   ],
   "source": [
    "print(X_test.columns[indices])"
   ]
  },
  {
   "cell_type": "code",
   "execution_count": null,
   "metadata": {},
   "outputs": [],
   "source": []
  }
 ],
 "metadata": {
  "kernelspec": {
   "display_name": "Python 3",
   "language": "python",
   "name": "python3"
  },
  "language_info": {
   "codemirror_mode": {
    "name": "ipython",
    "version": 3
   },
   "file_extension": ".py",
   "mimetype": "text/x-python",
   "name": "python",
   "nbconvert_exporter": "python",
   "pygments_lexer": "ipython3",
   "version": "3.6.5"
  }
 },
 "nbformat": 4,
 "nbformat_minor": 2
}
