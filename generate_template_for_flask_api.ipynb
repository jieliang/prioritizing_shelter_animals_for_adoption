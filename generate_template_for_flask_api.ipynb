{
 "cells": [
  {
   "cell_type": "markdown",
   "metadata": {},
   "source": [
    "## generate_template_for_flask_api\n",
    "\n",
    "* generates a template filled with some default values for api.py in flask directory to use"
   ]
  },
  {
   "cell_type": "code",
   "execution_count": 18,
   "metadata": {},
   "outputs": [],
   "source": [
    "import pandas as pd"
   ]
  },
  {
   "cell_type": "code",
   "execution_count": 2,
   "metadata": {},
   "outputs": [],
   "source": [
    "import pickle\n",
    "   \n",
    "\n",
    "rf = pickle.load(open('/home/jieliang/proj3/submission/data/best_rf.pkl', 'rb'))\n",
    "demo =  pickle.load(open('/home/jieliang/proj3/submission/data/demo.pkl', 'rb'))\n",
    "\n",
    "\n"
   ]
  },
  {
   "cell_type": "code",
   "execution_count": 3,
   "metadata": {},
   "outputs": [
    {
     "data": {
      "text/plain": [
       "Index(['adoption_prob', 'animaltype_CAT', 'animaltype_DOG', 'animaltype_OTHER',\n",
       "       'description', 'gender_FEMALE', 'gender_LITTER', 'gender_MALE',\n",
       "       'gender_NEUTERED MALE', 'gender_SPAYED FEMALE', 'gender_UNKNOWN',\n",
       "       'hasdaysinshelter', 'hasintakeage', 'hasoutcomeage',\n",
       "       'intakeasilomarstatus_HEALTHY',\n",
       "       'intakeasilomarstatus_TREATABLE/MANAGEABLE',\n",
       "       'intakeasilomarstatus_UNHEALTHY/UNTREATABLE',\n",
       "       'intakeinternalstatus_AGED', 'intakeinternalstatus_NORMAL',\n",
       "       'intakeinternalstatus_OTHER', 'intakeinternalstatus_behavior',\n",
       "       'intakeinternalstatus_medical', 'intakereason_OTHER',\n",
       "       'intakereason_STRAY', 'intakereason_behavior', 'intakereason_nan',\n",
       "       'intakesubtype_ADOPTION', 'intakesubtype_FIELD', 'intakesubtype_OTC',\n",
       "       'intakesubtype_OTHER', 'intakesubtype_RETURN', 'intakesubtype_nan',\n",
       "       'intaketype_FOSTER', 'intaketype_OTHER', 'intaketype_OWNER SUR',\n",
       "       'intaketype_RETURN', 'intaketype_STRAY', 'intaketype_medical',\n",
       "       'outcomeasilomarstatus_HEALTHY',\n",
       "       'outcomeasilomarstatus_TREATABLE/MANAGEABLE',\n",
       "       'outcomeasilomarstatus_UNHEALTHY/UNTREATABLE',\n",
       "       'outcomeasilomarstatus_nan', 'outcomeinternalstatus_AGED',\n",
       "       'outcomeinternalstatus_NORMAL', 'outcomeinternalstatus_OTHER',\n",
       "       'outcomeinternalstatus_behavior', 'outcomeinternalstatus_medical',\n",
       "       'outcomeinternalstatus_nan', 'primarybreed_CHICKEN',\n",
       "       'primarybreed_LARGE DOG', 'primarybreed_LONGHAIR CAT',\n",
       "       'primarybreed_MEDIUM DOG', 'primarybreed_OTHER',\n",
       "       'primarybreed_SHORTHAIR CAT', 'primarybreed_SMALL DOG',\n",
       "       'primarycolor_BLACK', 'primarycolor_BROWN', 'primarycolor_CALICO',\n",
       "       'primarycolor_GRAY', 'primarycolor_OTHER', 'primarycolor_WHITE',\n",
       "       'primarycolor_YELLOW', 'primarycolor_nan',\n",
       "       'reproductivestatusatintake_ALTERED',\n",
       "       'reproductivestatusatintake_FERTILE',\n",
       "       'reproductivestatusatintake_UNKNOWN',\n",
       "       'reproductivestatusatoutcome_ALTERED',\n",
       "       'reproductivestatusatoutcome_FERTILE',\n",
       "       'reproductivestatusatoutcome_UNKNOWN',\n",
       "       'reproductivestatusatoutcome_nan', 'scaled_amount', 'scaled_loiagridx',\n",
       "       'scaleddaysinshelter', 'scaledintakeageindays', 'scaledintakemonth',\n",
       "       'scaledintakeyear', 'scaledoutcomeageindays', 'scaledoutcomemonth',\n",
       "       'scaledoutcomeyear', 'secondarybreed_LARGE DOG',\n",
       "       'secondarybreed_LONGHAIR CAT', 'secondarybreed_MEDIUM DOG',\n",
       "       'secondarybreed_OTHER', 'secondarybreed_SHORTHAIR CAT',\n",
       "       'secondarybreed_SMALL DOG', 'secondarybreed_nan',\n",
       "       'secondarycolor_BLACK', 'secondarycolor_BROWN', 'secondarycolor_CALICO',\n",
       "       'secondarycolor_GRAY', 'secondarycolor_OTHER', 'secondarycolor_WHITE',\n",
       "       'secondarycolor_YELLOW', 'secondarycolor_nan', 'timesinshelter'],\n",
       "      dtype='object')"
      ]
     },
     "execution_count": 3,
     "metadata": {},
     "output_type": "execute_result"
    }
   ],
   "source": [
    "demo.columns"
   ]
  },
  {
   "cell_type": "code",
   "execution_count": null,
   "metadata": {},
   "outputs": [],
   "source": []
  },
  {
   "cell_type": "code",
   "execution_count": null,
   "metadata": {},
   "outputs": [],
   "source": []
  },
  {
   "cell_type": "code",
   "execution_count": 4,
   "metadata": {},
   "outputs": [
    {
     "data": {
      "text/plain": [
       "dog1    Healh stray small broown dog that got neutered...\n",
       "cat1                         Healh black stray spayed cat\n",
       "dog2    health stray fertile brown medium dog during e...\n",
       "Name: description, dtype: object"
      ]
     },
     "execution_count": 4,
     "metadata": {},
     "output_type": "execute_result"
    }
   ],
   "source": [
    "demo['description']"
   ]
  },
  {
   "cell_type": "code",
   "execution_count": 6,
   "metadata": {},
   "outputs": [
    {
     "data": {
      "text/plain": [
       "dog1    0\n",
       "cat1    1\n",
       "dog2    0\n",
       "Name: reproductivestatusatintake_ALTERED, dtype: uint8"
      ]
     },
     "execution_count": 6,
     "metadata": {},
     "output_type": "execute_result"
    }
   ],
   "source": [
    "demo['reproductivestatusatintake_ALTERED']"
   ]
  },
  {
   "cell_type": "code",
   "execution_count": 7,
   "metadata": {},
   "outputs": [
    {
     "data": {
      "text/plain": [
       "dog1    1\n",
       "cat1    0\n",
       "dog2    1\n",
       "Name: reproductivestatusatintake_FERTILE, dtype: uint8"
      ]
     },
     "execution_count": 7,
     "metadata": {},
     "output_type": "execute_result"
    }
   ],
   "source": [
    "demo['reproductivestatusatintake_FERTILE']"
   ]
  },
  {
   "cell_type": "code",
   "execution_count": 8,
   "metadata": {},
   "outputs": [
    {
     "data": {
      "text/plain": [
       "dog1    1\n",
       "cat1    1\n",
       "dog2    1\n",
       "Name: intakeasilomarstatus_HEALTHY, dtype: uint8"
      ]
     },
     "execution_count": 8,
     "metadata": {},
     "output_type": "execute_result"
    }
   ],
   "source": [
    "demo['intakeasilomarstatus_HEALTHY']"
   ]
  },
  {
   "cell_type": "code",
   "execution_count": 9,
   "metadata": {},
   "outputs": [
    {
     "data": {
      "text/plain": [
       "dog1    1\n",
       "cat1    1\n",
       "dog2    1\n",
       "Name: outcomeasilomarstatus_HEALTHY, dtype: uint8"
      ]
     },
     "execution_count": 9,
     "metadata": {},
     "output_type": "execute_result"
    }
   ],
   "source": [
    "demo['outcomeasilomarstatus_HEALTHY']"
   ]
  },
  {
   "cell_type": "code",
   "execution_count": 11,
   "metadata": {},
   "outputs": [
    {
     "data": {
      "text/plain": [
       "dog1    1\n",
       "cat1    1\n",
       "dog2    0\n",
       "Name: reproductivestatusatoutcome_ALTERED, dtype: uint8"
      ]
     },
     "execution_count": 11,
     "metadata": {},
     "output_type": "execute_result"
    }
   ],
   "source": [
    "demo['reproductivestatusatoutcome_ALTERED']"
   ]
  },
  {
   "cell_type": "code",
   "execution_count": 13,
   "metadata": {},
   "outputs": [
    {
     "data": {
      "text/plain": [
       "dog1    0\n",
       "cat1    0\n",
       "dog2    1\n",
       "Name: reproductivestatusatoutcome_FERTILE, dtype: uint8"
      ]
     },
     "execution_count": 13,
     "metadata": {},
     "output_type": "execute_result"
    }
   ],
   "source": [
    "demo['reproductivestatusatoutcome_FERTILE']"
   ]
  },
  {
   "cell_type": "code",
   "execution_count": 14,
   "metadata": {},
   "outputs": [
    {
     "data": {
      "text/plain": [
       "dog1    0\n",
       "cat1    1\n",
       "dog2    0\n",
       "Name: animaltype_CAT, dtype: uint8"
      ]
     },
     "execution_count": 14,
     "metadata": {},
     "output_type": "execute_result"
    }
   ],
   "source": [
    "demo['animaltype_CAT']"
   ]
  },
  {
   "cell_type": "code",
   "execution_count": 15,
   "metadata": {},
   "outputs": [
    {
     "data": {
      "text/plain": [
       "dog1    1\n",
       "cat1    0\n",
       "dog2    1\n",
       "Name: animaltype_DOG, dtype: uint8"
      ]
     },
     "execution_count": 15,
     "metadata": {},
     "output_type": "execute_result"
    }
   ],
   "source": [
    "demo['animaltype_DOG']"
   ]
  },
  {
   "cell_type": "code",
   "execution_count": 16,
   "metadata": {},
   "outputs": [
    {
     "data": {
      "text/plain": [
       "dog1    0\n",
       "cat1    0\n",
       "dog2    0\n",
       "Name: animaltype_OTHER, dtype: uint8"
      ]
     },
     "execution_count": 16,
     "metadata": {},
     "output_type": "execute_result"
    }
   ],
   "source": [
    "demo['animaltype_OTHER']"
   ]
  },
  {
   "cell_type": "code",
   "execution_count": null,
   "metadata": {},
   "outputs": [],
   "source": [
    "#'intakeasilomarstatus_UNHEALTHY/UNTREATABLE'\n",
    "#'outcomeasilomarstatus_UNHEALTHY/UNTREATABLE'"
   ]
  },
  {
   "cell_type": "code",
   "execution_count": 29,
   "metadata": {},
   "outputs": [
    {
     "data": {
      "text/html": [
       "<div>\n",
       "<style scoped>\n",
       "    .dataframe tbody tr th:only-of-type {\n",
       "        vertical-align: middle;\n",
       "    }\n",
       "\n",
       "    .dataframe tbody tr th {\n",
       "        vertical-align: top;\n",
       "    }\n",
       "\n",
       "    .dataframe thead th {\n",
       "        text-align: right;\n",
       "    }\n",
       "</style>\n",
       "<table border=\"1\" class=\"dataframe\">\n",
       "  <thead>\n",
       "    <tr style=\"text-align: right;\">\n",
       "      <th></th>\n",
       "      <th>animaltype_CAT</th>\n",
       "      <th>animaltype_DOG</th>\n",
       "      <th>animaltype_OTHER</th>\n",
       "      <th>gender_FEMALE</th>\n",
       "      <th>gender_LITTER</th>\n",
       "      <th>gender_MALE</th>\n",
       "      <th>gender_NEUTERED MALE</th>\n",
       "      <th>gender_SPAYED FEMALE</th>\n",
       "      <th>gender_UNKNOWN</th>\n",
       "      <th>hasdaysinshelter</th>\n",
       "      <th>...</th>\n",
       "      <th>secondarybreed_nan</th>\n",
       "      <th>secondarycolor_BLACK</th>\n",
       "      <th>secondarycolor_BROWN</th>\n",
       "      <th>secondarycolor_CALICO</th>\n",
       "      <th>secondarycolor_GRAY</th>\n",
       "      <th>secondarycolor_OTHER</th>\n",
       "      <th>secondarycolor_WHITE</th>\n",
       "      <th>secondarycolor_YELLOW</th>\n",
       "      <th>secondarycolor_nan</th>\n",
       "      <th>timesinshelter</th>\n",
       "    </tr>\n",
       "  </thead>\n",
       "  <tbody>\n",
       "    <tr>\n",
       "      <th>dog1</th>\n",
       "      <td>0</td>\n",
       "      <td>1</td>\n",
       "      <td>0</td>\n",
       "      <td>0</td>\n",
       "      <td>0</td>\n",
       "      <td>0</td>\n",
       "      <td>1</td>\n",
       "      <td>0</td>\n",
       "      <td>0</td>\n",
       "      <td>0</td>\n",
       "      <td>...</td>\n",
       "      <td>1</td>\n",
       "      <td>0</td>\n",
       "      <td>0</td>\n",
       "      <td>0</td>\n",
       "      <td>0</td>\n",
       "      <td>0</td>\n",
       "      <td>0</td>\n",
       "      <td>0</td>\n",
       "      <td>1</td>\n",
       "      <td>1</td>\n",
       "    </tr>\n",
       "  </tbody>\n",
       "</table>\n",
       "<p>1 rows × 93 columns</p>\n",
       "</div>"
      ],
      "text/plain": [
       "     animaltype_CAT animaltype_DOG animaltype_OTHER gender_FEMALE  \\\n",
       "dog1              0              1                0             0   \n",
       "\n",
       "     gender_LITTER gender_MALE gender_NEUTERED MALE gender_SPAYED FEMALE  \\\n",
       "dog1             0           0                    1                    0   \n",
       "\n",
       "     gender_UNKNOWN hasdaysinshelter      ...       secondarybreed_nan  \\\n",
       "dog1              0                0      ...                        1   \n",
       "\n",
       "     secondarycolor_BLACK secondarycolor_BROWN secondarycolor_CALICO  \\\n",
       "dog1                    0                    0                     0   \n",
       "\n",
       "     secondarycolor_GRAY secondarycolor_OTHER secondarycolor_WHITE  \\\n",
       "dog1                   0                    0                    0   \n",
       "\n",
       "     secondarycolor_YELLOW secondarycolor_nan timesinshelter  \n",
       "dog1                     0                  1              1  \n",
       "\n",
       "[1 rows x 93 columns]"
      ]
     },
     "execution_count": 29,
     "metadata": {},
     "output_type": "execute_result"
    }
   ],
   "source": [
    "temp = demo.iloc[0,:].to_frame().T\n",
    "temp.drop(['adoption_prob','description'],axis=1,inplace=True)\n",
    "temp"
   ]
  },
  {
   "cell_type": "code",
   "execution_count": 30,
   "metadata": {},
   "outputs": [],
   "source": [
    "cols=['animaltype_CAT','animaltype_DOG','animaltype_OTHER','reproductivestatusatintake_ALTERED','reproductivestatusatoutcome_FERTILE','reproductivestatusatintake_FERTILE','reproductivestatusatoutcome_ALTERED','intakeasilomarstatus_HEALTHY','outcomeasilomarstatus_HEALTHY','intakeasilomarstatus_UNHEALTHY/UNTREATABLE','outcomeasilomarstatus_UNHEALTHY/UNTREATABLE']"
   ]
  },
  {
   "cell_type": "code",
   "execution_count": 31,
   "metadata": {},
   "outputs": [],
   "source": [
    "for col in cols:\n",
    "    temp[col] = 0"
   ]
  },
  {
   "cell_type": "code",
   "execution_count": 36,
   "metadata": {},
   "outputs": [],
   "source": [
    "with open('/home/jieliang/proj3/data/flask_X_temp.pkl', 'wb') as fp:\n",
    "    pickle.dump(temp, fp)"
   ]
  },
  {
   "cell_type": "code",
   "execution_count": 34,
   "metadata": {},
   "outputs": [],
   "source": [
    "def make_soft_prediction(animalType,intake_reproductive,outcome_reproductive,intake_health,outcome_health):\n",
    "    \n",
    "        X = temp.copy(deep=True)\n",
    "        \n",
    "        if animalType == 'cat':\n",
    "            X['animaltype_CAT'] = 1\n",
    "        if animalType == 'dog':\n",
    "            X['animaltype_DOG'] = 1  \n",
    "        if animalType == 'other':\n",
    "            X['animaltype_OTHER'] = 1 \n",
    "            \n",
    "        if intake_reproductive == \"fertile\":\n",
    "            X['reproductivestatusatintake_FERTILE']=1\n",
    "        else:\n",
    "            X['reproductivestatusatintake_ALTERED']=1\n",
    "            \n",
    "        if outcome_reproductive== \"fertile\":\n",
    "            X['reproductivestatusatoutcome_FERTILE']=1\n",
    "        else:\n",
    "            X['reproductivestatusatoutcome_ALTERED']=1\n",
    "            \n",
    "            \n",
    "        if intake_health == \"healthy\":\n",
    "            X['intakeasilomarstatus_HEALTHY']=1\n",
    "        else:\n",
    "            X['intakeasilomarstatus_UNHEALTHY/UNTREATABLE']=1\n",
    "            \n",
    "        if outcome_health == \"healthy\":\n",
    "            X['outcomeasilomarstatus_HEALTHY']=1\n",
    "        else:\n",
    "            X['outcomeasilomarstatus_UNHEALTHY/UNTREATABLE']=1\n",
    "            \n",
    "        return rf.predict_proba(X)\n",
    "          \n",
    "            \n",
    "            "
   ]
  },
  {
   "cell_type": "code",
   "execution_count": null,
   "metadata": {},
   "outputs": [],
   "source": []
  },
  {
   "cell_type": "code",
   "execution_count": null,
   "metadata": {},
   "outputs": [],
   "source": []
  }
 ],
 "metadata": {
  "kernelspec": {
   "display_name": "Python 3",
   "language": "python",
   "name": "python3"
  },
  "language_info": {
   "codemirror_mode": {
    "name": "ipython",
    "version": 3
   },
   "file_extension": ".py",
   "mimetype": "text/x-python",
   "name": "python",
   "nbconvert_exporter": "python",
   "pygments_lexer": "ipython3",
   "version": "3.6.5"
  }
 },
 "nbformat": 4,
 "nbformat_minor": 2
}
