{
 "cells": [
  {
   "cell_type": "markdown",
   "metadata": {},
   "source": [
    "## clean_animal_services_data\n",
    "### this file cleans animal services data, including \n",
    "1. grouping factors into larger bins for categorical features \n",
    "2. scaling numeric features\n",
    "3. getting dummies for categorical feature\n",
    "4. labeling target as either 'adopted' or 'not_adopted'"
   ]
  },
  {
   "cell_type": "markdown",
   "metadata": {},
   "source": [
    "### Data Source\n",
    "\n",
    "\n",
    "https://data.louisvilleky.gov/dataset/animal-service-intake-and-outcome\n",
    "\n",
    "https://data.louisvilleky.gov/dataset/animal-service-intake-and-outcome/resource/3a416835-fa66-4abc-bba7-3314435b26e9#{view-graph:{graphOptions:{hooks:{processOffset:{},bindEvents:{}}}},graphOptions:{hooks:{processOffset:{},bindEvents:{}}}}"
   ]
  },
  {
   "cell_type": "code",
   "execution_count": null,
   "metadata": {},
   "outputs": [],
   "source": []
  },
  {
   "cell_type": "markdown",
   "metadata": {},
   "source": [
    "### Data Dictionary\n",
    "\n",
    "* __Animal ID__ - A generated unique identification when an animal's information is stored in the Chameleon Data Base\n",
    "* __Animal Type__ - Type of animal\n",
    "* __Intake Date__ - The date that the animal arrives at Metro Animal Services\n",
    "* __Intake Type__ - The reason the animal is at Metro Animal Services\n",
    "* __Intake Subtype__ - A secondary but more in depth reason to why the animal is at Metro Animal Services\n",
    "* __Primary Color__ - The color that is most prevalent in the animal\n",
    "* __Primary Breed__ - The breed of the animal or the breed the animal looks like the most\n",
    "* __Secondary Breed__ - The other breed that the animal looks like\n",
    "* __Gender__ - Sex of the animal\n",
    "* __Secondary Color__ - A further description of the animal's color\n",
    "* __DOB__ - The date of birth of the animal or an estimated date of birth\n",
    "* __Intake Reason__ - The primary reason the animal is at Metro Animal Services\n",
    "* __Outcome Date__ - The date the outcome is entered, if no outcome date is available the animal is still in the shelter\n",
    "* __Outcome Type__ - The type of outcome for the animal that can include returned to owner, * adoption, sent to a rescue, etc.\n",
    "* __Outcome Subtype__ - A secondary, more in depth definition of the outcome type (ex. Transfer, rescue group vs. Transfer, KHS)"
   ]
  },
  {
   "cell_type": "code",
   "execution_count": 468,
   "metadata": {},
   "outputs": [],
   "source": [
    "import pandas as pd"
   ]
  },
  {
   "cell_type": "code",
   "execution_count": 469,
   "metadata": {},
   "outputs": [],
   "source": [
    "df = pd.read_csv('data/Animal_IO_Data_1.csv')"
   ]
  },
  {
   "cell_type": "code",
   "execution_count": 470,
   "metadata": {},
   "outputs": [],
   "source": [
    "#df.info()"
   ]
  },
  {
   "cell_type": "code",
   "execution_count": 471,
   "metadata": {},
   "outputs": [],
   "source": [
    "df.drop_duplicates(inplace=True)"
   ]
  },
  {
   "cell_type": "code",
   "execution_count": 472,
   "metadata": {},
   "outputs": [],
   "source": [
    "df = df[~pd.isnull(df['OutcomeType'])]"
   ]
  },
  {
   "cell_type": "code",
   "execution_count": 473,
   "metadata": {},
   "outputs": [],
   "source": [
    "df = df[df['IntakeType']!='DEAD']"
   ]
  },
  {
   "cell_type": "code",
   "execution_count": 474,
   "metadata": {},
   "outputs": [],
   "source": [
    "# drop OutcomeReason as it's entirely NaN\n",
    "df.drop('OutcomeReason',axis=1, inplace=True)"
   ]
  },
  {
   "cell_type": "code",
   "execution_count": 475,
   "metadata": {},
   "outputs": [],
   "source": [
    "df['IntakeDate'] = df.IntakeDate.apply(pd.to_datetime)\n",
    "df['OutcomeDate'] = df.OutcomeDate.apply(pd.to_datetime)\n",
    "df['DOB'] = df.DOB.apply(pd.to_datetime)"
   ]
  },
  {
   "cell_type": "code",
   "execution_count": 476,
   "metadata": {},
   "outputs": [],
   "source": [
    "def data_info(df, data_name):\n",
    "\n",
    "    print(data_name+ ' has ',df.shape[0], 'records. Per column \\n')\n",
    "\n",
    "    for col in df.columns:\n",
    "        print(col, 'has ',len(df[col].value_counts()),'unique values and ',sum(pd.isnull(df[col])),'NaNs')"
   ]
  },
  {
   "cell_type": "code",
   "execution_count": 477,
   "metadata": {},
   "outputs": [],
   "source": [
    "df['IntakeYear']=df['IntakeDate'].dt.year\n",
    "df['IntakeMonth']=df['IntakeDate'].dt.month\n",
    "\n",
    "df['OutcomeYear']=df['IntakeDate'].dt.year\n",
    "df['OutcomeMonth']=df['IntakeDate'].dt.month\n"
   ]
  },
  {
   "cell_type": "code",
   "execution_count": 478,
   "metadata": {},
   "outputs": [],
   "source": [
    "df['IntakeAgeInDays']=(df['IntakeDate']-df['DOB']).astype('timedelta64[h]')/24.0"
   ]
  },
  {
   "cell_type": "code",
   "execution_count": 479,
   "metadata": {},
   "outputs": [],
   "source": [
    "df['OutcomeAgeInDays']=(df['OutcomeDate']-df['DOB']).astype('timedelta64[h]')/24.0"
   ]
  },
  {
   "cell_type": "code",
   "execution_count": 480,
   "metadata": {},
   "outputs": [],
   "source": [
    "df['DaysInShelter']=(df['OutcomeDate']-df['IntakeDate']).astype('timedelta64[h]')/24.0"
   ]
  },
  {
   "cell_type": "code",
   "execution_count": 481,
   "metadata": {},
   "outputs": [],
   "source": [
    "#df.info()"
   ]
  },
  {
   "cell_type": "code",
   "execution_count": 482,
   "metadata": {},
   "outputs": [],
   "source": [
    "df['SecondaryBreed']=df['SecondaryBreed'].astype(str)\n",
    "df['SecondaryColor']=df['SecondaryColor'].astype(str)\n",
    "df['OutcomeSubtype']=df['OutcomeSubtype'].astype(str)"
   ]
  },
  {
   "cell_type": "code",
   "execution_count": 483,
   "metadata": {},
   "outputs": [],
   "source": [
    "df['PrimaryColor']=df['PrimaryColor'].astype(str)\n",
    "df['IntakeReason']=df['IntakeReason'].astype(str)\n",
    "df['OutcomeInternalStatus']=df['OutcomeInternalStatus'].astype(str)\n"
   ]
  },
  {
   "cell_type": "code",
   "execution_count": 484,
   "metadata": {},
   "outputs": [],
   "source": [
    "df['OutcomeAsilomarStatus']=df['OutcomeAsilomarStatus'].astype(str)\n",
    "df['ReproductiveStatusAtOutcome']=df['ReproductiveStatusAtOutcome'].astype(str)\n",
    "df['IntakeSubtype']=df['IntakeSubtype'].astype(str)"
   ]
  },
  {
   "cell_type": "code",
   "execution_count": 485,
   "metadata": {},
   "outputs": [],
   "source": [
    "df['HasIntakeAge']=df['IntakeAgeInDays'].apply(pd.isnull)\n",
    "df['HasOutcomeAge']=df['OutcomeAgeInDays'].apply(pd.isnull)\n",
    "df['HasDaysInShelter']=df['DaysInShelter'].apply(pd.isnull)"
   ]
  },
  {
   "cell_type": "code",
   "execution_count": 486,
   "metadata": {},
   "outputs": [],
   "source": [
    "df['HasIntakeAge']=df['HasIntakeAge'].astype(int)\n",
    "df['HasOutcomeAge']=df['HasOutcomeAge'].astype(int)\n",
    "df['HasDaysInShelter']=df['HasDaysInShelter'].astype(int)"
   ]
  },
  {
   "cell_type": "code",
   "execution_count": 487,
   "metadata": {},
   "outputs": [],
   "source": [
    "df['IntakeAgeInDays'].fillna(-999, inplace=True)\n",
    "df['OutcomeAgeInDays'].fillna(-999, inplace=True)\n",
    "df['DaysInShelter'].fillna(-999, inplace=True)"
   ]
  },
  {
   "cell_type": "code",
   "execution_count": 488,
   "metadata": {},
   "outputs": [],
   "source": [
    "df=df.drop(['DOB','IntakeDate','OutcomeDate'],axis=1)"
   ]
  },
  {
   "cell_type": "code",
   "execution_count": 489,
   "metadata": {},
   "outputs": [],
   "source": [
    "freq=df.AnimalID.value_counts()\n",
    "def get_numTimesInShelter(animalId):\n",
    "    return freq[animalId]\n",
    "df['TimesInShelter']=df.AnimalID.apply(get_numTimesInShelter)"
   ]
  },
  {
   "cell_type": "code",
   "execution_count": 490,
   "metadata": {},
   "outputs": [],
   "source": [
    "df=df.drop(['AnimalID'],axis=1)"
   ]
  },
  {
   "cell_type": "code",
   "execution_count": 491,
   "metadata": {},
   "outputs": [
    {
     "name": "stderr",
     "output_type": "stream",
     "text": [
      "/home/jieliang/anaconda3/lib/python3.6/site-packages/sklearn/utils/validation.py:475: DataConversionWarning: Data with input dtype int64 was converted to float64 by the scale function.\n",
      "  warnings.warn(msg, DataConversionWarning)\n"
     ]
    }
   ],
   "source": [
    "from sklearn import preprocessing\n",
    "\n",
    "df['ScaledIntakeYear']=preprocessing.scale(df['IntakeYear'])\n",
    "df['ScaledIntakeMonth']=preprocessing.scale(df['IntakeMonth'])\n",
    "df['ScaledOutcomeYear']=preprocessing.scale(df['OutcomeYear'])\n",
    "df['ScaledOutcomeMonth']=preprocessing.scale(df['OutcomeMonth'])\n",
    "df['ScaledIntakeAgeInDays']=preprocessing.scale(df['IntakeAgeInDays'])\n",
    "df['ScaledOutcomeAgeInDays']=preprocessing.scale(df['OutcomeAgeInDays'])\n",
    "df['ScaledDaysInShelter']=preprocessing.scale(df['DaysInShelter'])\n"
   ]
  },
  {
   "cell_type": "code",
   "execution_count": 492,
   "metadata": {},
   "outputs": [],
   "source": [
    "#df=df.drop(['IntakeYear','IntakeMonth','OutcomeYear','OutcomeMonth','IntakeAgeInDays','OutcomeAgeInDays','DaysInShelter'],axis=1)"
   ]
  },
  {
   "cell_type": "code",
   "execution_count": 493,
   "metadata": {},
   "outputs": [],
   "source": [
    "df['intake_year_month'] = df.apply(lambda row: str(row.IntakeYear)+'-' + str(row.IntakeMonth), axis=1)\n",
    "df['outcome_year_month'] = df.apply(lambda row: str(row.OutcomeYear)+'-' + str(row.OutcomeMonth), axis=1)\n"
   ]
  },
  {
   "cell_type": "code",
   "execution_count": 494,
   "metadata": {},
   "outputs": [],
   "source": [
    "df2=pd.DataFrame.copy(df,deep=True)"
   ]
  },
  {
   "cell_type": "code",
   "execution_count": 495,
   "metadata": {},
   "outputs": [],
   "source": [
    "not_adopted = list(df['OutcomeType'].value_counts().index)\n",
    "not_adopted.remove('ADOPTION')\n",
    "\n",
    "for outcome in not_adopted: \n",
    "    df['OutcomeType'].replace(outcome,\"not_adopted\",inplace=True)"
   ]
  },
  {
   "cell_type": "code",
   "execution_count": 496,
   "metadata": {},
   "outputs": [
    {
     "data": {
      "text/plain": [
       "not_adopted    124576\n",
       "ADOPTION        25612\n",
       "Name: OutcomeType, dtype: int64"
      ]
     },
     "execution_count": 496,
     "metadata": {},
     "output_type": "execute_result"
    }
   ],
   "source": [
    "df['OutcomeType'].value_counts()"
   ]
  },
  {
   "cell_type": "code",
   "execution_count": 497,
   "metadata": {},
   "outputs": [
    {
     "data": {
      "text/plain": [
       "DOG          76764\n",
       "CAT          68503\n",
       "OTHER         1322\n",
       "BIRD          1176\n",
       "RABBIT        1138\n",
       "RODENT         680\n",
       "REPTILE        262\n",
       "LIVESTOCK      252\n",
       "FERRET          91\n",
       "Name: AnimalType, dtype: int64"
      ]
     },
     "execution_count": 497,
     "metadata": {},
     "output_type": "execute_result"
    }
   ],
   "source": [
    "df['AnimalType'].value_counts()"
   ]
  },
  {
   "cell_type": "code",
   "execution_count": 498,
   "metadata": {},
   "outputs": [
    {
     "data": {
      "text/plain": [
       "DOG      76764\n",
       "CAT      68503\n",
       "OTHER     4921\n",
       "Name: AnimalType, dtype: int64"
      ]
     },
     "execution_count": 498,
     "metadata": {},
     "output_type": "execute_result"
    }
   ],
   "source": [
    "others = ['RODENT','REPTILE','LIVESTOCK','FERRET','BIRD','RABBIT']\n",
    "for animal_type in others: \n",
    "    df['AnimalType'].replace(animal_type,'OTHER',inplace=True)\n",
    "df['AnimalType'].value_counts()"
   ]
  },
  {
   "cell_type": "code",
   "execution_count": 499,
   "metadata": {},
   "outputs": [
    {
     "data": {
      "text/plain": [
       "STRAY         93510\n",
       "OWNER SUR     33749\n",
       "CONFISCATE     5069\n",
       "FOSTER         4912\n",
       "EUTH REQ       3701\n",
       "OUTSURGERY     3462\n",
       "RETURN         2254\n",
       "ET REQUEST     1097\n",
       "DISPOSAL       1057\n",
       "QUARANTINE      657\n",
       "KHS             621\n",
       "INVESTIGAT       39\n",
       "TRANSFER         26\n",
       "FOR TRANSP       20\n",
       "MED OBSERV        8\n",
       "EVACUEE           3\n",
       "FOUND             2\n",
       "LOST              1\n",
       "Name: IntakeType, dtype: int64"
      ]
     },
     "execution_count": 499,
     "metadata": {},
     "output_type": "execute_result"
    }
   ],
   "source": [
    "df['IntakeType'].value_counts()"
   ]
  },
  {
   "cell_type": "code",
   "execution_count": 500,
   "metadata": {},
   "outputs": [],
   "source": [
    "df = df[df['IntakeType']!='DISPOSAL']\n",
    "df = df[df['IntakeType']!='EUTH REQ']"
   ]
  },
  {
   "cell_type": "code",
   "execution_count": 501,
   "metadata": {},
   "outputs": [
    {
     "data": {
      "text/plain": [
       "STRAY         93510\n",
       "OWNER SUR     33749\n",
       "CONFISCATE     5069\n",
       "FOSTER         4912\n",
       "OUTSURGERY     3462\n",
       "RETURN         2254\n",
       "ET REQUEST     1097\n",
       "QUARANTINE      657\n",
       "KHS             621\n",
       "INVESTIGAT       39\n",
       "TRANSFER         26\n",
       "FOR TRANSP       20\n",
       "MED OBSERV        8\n",
       "EVACUEE           3\n",
       "FOUND             2\n",
       "LOST              1\n",
       "Name: IntakeType, dtype: int64"
      ]
     },
     "execution_count": 501,
     "metadata": {},
     "output_type": "execute_result"
    }
   ],
   "source": [
    "df['IntakeType'].value_counts()"
   ]
  },
  {
   "cell_type": "code",
   "execution_count": 502,
   "metadata": {},
   "outputs": [
    {
     "data": {
      "text/plain": [
       "16"
      ]
     },
     "execution_count": 502,
     "metadata": {},
     "output_type": "execute_result"
    }
   ],
   "source": [
    "df['IntakeType'].nunique()"
   ]
  },
  {
   "cell_type": "code",
   "execution_count": 503,
   "metadata": {},
   "outputs": [
    {
     "data": {
      "text/plain": [
       "STRAY        93510\n",
       "OWNER SUR    33749\n",
       "OTHER         6878\n",
       "FOSTER        4912\n",
       "medical       4127\n",
       "RETURN        2254\n",
       "Name: IntakeType, dtype: int64"
      ]
     },
     "execution_count": 503,
     "metadata": {},
     "output_type": "execute_result"
    }
   ],
   "source": [
    "medical = ['OUTSURGERY','QUARANTINE','MED OBSERV']\n",
    "others = ['ET REQUEST','KHS','INVESTIGAT','TRANSFER','FOR TRANSP','EVACUEE','FOUND','LOST','POLICE','CONFISCATE']\n",
    "\n",
    "for intake_type in medical: \n",
    "    df['IntakeType'].replace(intake_type,'medical',inplace=True)\n",
    "\n",
    "for intake_type in others: \n",
    "    df['IntakeType'].replace(intake_type,'OTHER',inplace=True)\n",
    "df['IntakeType'].value_counts()"
   ]
  },
  {
   "cell_type": "code",
   "execution_count": null,
   "metadata": {},
   "outputs": [],
   "source": []
  },
  {
   "cell_type": "code",
   "execution_count": 504,
   "metadata": {},
   "outputs": [
    {
     "data": {
      "text/plain": [
       "OTC         69451\n",
       "FIELD       54719\n",
       "OTHER        7988\n",
       "RETURN       4838\n",
       "nan          4433\n",
       "ADOPTION     1164\n",
       "Name: IntakeSubtype, dtype: int64"
      ]
     },
     "execution_count": 504,
     "metadata": {},
     "output_type": "execute_result"
    }
   ],
   "source": [
    "df = df[df['IntakeSubtype']!='EUTH REQ']\n",
    "df['IntakeSubtype'].value_counts()\n",
    "behavior = ['DANGER DOG','BITE','AGGRESSIVE']\n",
    "health=['SICK','HOSPITAL','POST SURG']\n",
    "others=['NEGLECT','OWNER DIED','AN CONTROL','RESCUE GRP','OWNER SUR','COURT ORD','FOSTER','NUISANCE','WEB','NIGHT','FIELD OWN',' ','UNPERMITED','EVICTION']\n",
    "for intake_subtype in behavior: \n",
    "    df['IntakeSubtype'].replace(intake_subtype,'behavior',inplace=True)\n",
    "for intake_subtype in health: \n",
    "    df['IntakeSubtype'].replace(intake_subtype,'health',inplace=True)\n",
    "for intake_subtype in others: \n",
    "    df['IntakeSubtype'].replace(intake_subtype,'OTHER',inplace=True)\n",
    "others = df['IntakeSubtype'].value_counts().index[6:]\n",
    "for intake_subtype in others: \n",
    "    df['IntakeSubtype'].replace(intake_subtype,'OTHER',inplace=True)\n",
    "\n",
    "\n",
    "df['IntakeSubtype'].value_counts()"
   ]
  },
  {
   "cell_type": "code",
   "execution_count": 505,
   "metadata": {},
   "outputs": [
    {
     "data": {
      "text/plain": [
       "BLACK                39738\n",
       "WHITE                16323\n",
       "BROWN                15662\n",
       "GRAY                 11077\n",
       "TAN                   7207\n",
       "BROWN TABBY           6802\n",
       "GRAY TABBY            4172\n",
       "CALICO                3797\n",
       "ORANGE TABBY          3713\n",
       "TRICOLOR              3632\n",
       "BROWN BRINDLE         3519\n",
       "ORANGE                3464\n",
       "TORTIE                3227\n",
       "RED                   2854\n",
       "BLACK TABBY           1723\n",
       "YELLOW                1464\n",
       "BLUE                  1448\n",
       "GRAY TIGER            1364\n",
       "BUFF                  1363\n",
       "CHOCOLATE             1221\n",
       "CREAM                 1111\n",
       "BLACK BRINDLE          884\n",
       "BROWN TIGER            762\n",
       "FAWN                   747\n",
       "BLACK TIGER            687\n",
       "ORANGE TIGER           555\n",
       "GOLD                   551\n",
       "SEAL POINT             387\n",
       "LYNX POINT             292\n",
       "BLUE MERLE             266\n",
       "                     ...  \n",
       "TORTIE POINT           105\n",
       "SILVER TIGER           103\n",
       "BLUE POINT              90\n",
       "GREEN                   68\n",
       "PINK                    65\n",
       "LIVER                   61\n",
       "RED MERLE               48\n",
       "CALICO POINT            42\n",
       "LILAC POINT             37\n",
       "BLUE TABBY              36\n",
       "BLUE CREAM              27\n",
       "SILVER LYNX POINT       26\n",
       "YELLOW BRINDLE          23\n",
       "RED TICKED              21\n",
       "BLUE TICKED             20\n",
       "CREAM TIGER             14\n",
       "BLUE TIGER              12\n",
       "BLUE SMOKE              11\n",
       "nan                     11\n",
       "BRINDLE                 10\n",
       "BLONDE                   7\n",
       "RUDDY                    6\n",
       "TORTI                    4\n",
       "UNKNOWN                  3\n",
       "MERLE                    3\n",
       "PURPLE                   3\n",
       "TABBY                    3\n",
       "AGOUTI                   3\n",
       "BEIGE                    2\n",
       "MAHOGANY                 1\n",
       "Name: PrimaryColor, Length: 69, dtype: int64"
      ]
     },
     "execution_count": 505,
     "metadata": {},
     "output_type": "execute_result"
    }
   ],
   "source": [
    "(df.PrimaryColor.value_counts())"
   ]
  },
  {
   "cell_type": "code",
   "execution_count": 506,
   "metadata": {},
   "outputs": [],
   "source": [
    "import numpy as np\n",
    "def color_map(color):\n",
    "    if color=='nan' or pd.isnull(color):\n",
    "        return 'nan'\n",
    "    \n",
    "    blacks =['BLACK','BLACK TABBY','BLACK BRINDLE','BLACK TIGER']\n",
    "    browns=['BROWN','TAN','BROWN TABBY','BROWN BRINDLE','CHOCOLATE']\n",
    "    grays=['GRAY','GRAY TABBY','TORTIE']\n",
    "    whites=['WHITE','CREAM','BUFF']\n",
    "    calico=['CALICO','TRICOLOR']\n",
    "    yellows=['ORANGE TABBY','YELLOW','ORANGE']\n",
    "    \n",
    "    if color in blacks:\n",
    "        return 'BLACK'\n",
    "    if color in browns:\n",
    "        return 'BROWN'\n",
    "    if color in grays:\n",
    "        return 'GRAY'\n",
    "    if color in whites:\n",
    "        return 'WHITE'\n",
    "    if color in calico:\n",
    "        return 'CALICO'\n",
    "    if color in yellows:\n",
    "        return 'YELLOW'\n",
    "    return 'OTHER'"
   ]
  },
  {
   "cell_type": "code",
   "execution_count": 507,
   "metadata": {},
   "outputs": [],
   "source": [
    "#df[~pd.isnull(df['PrimaryColor'])]['PrimaryColor']=df[~pd.isnull(df['PrimaryColor'])]['PrimaryColor'].apply(color_map)\n",
    "\n",
    "df['PrimaryColor'] = df['PrimaryColor'].apply(color_map)"
   ]
  },
  {
   "cell_type": "code",
   "execution_count": 508,
   "metadata": {},
   "outputs": [
    {
     "data": {
      "text/plain": [
       "BLACK     43032\n",
       "BROWN     34411\n",
       "WHITE     18797\n",
       "GRAY      18476\n",
       "OTHER     11796\n",
       "YELLOW     8641\n",
       "CALICO     7429\n",
       "nan          11\n",
       "Name: PrimaryColor, dtype: int64"
      ]
     },
     "execution_count": 508,
     "metadata": {},
     "output_type": "execute_result"
    }
   ],
   "source": [
    "df['PrimaryColor'].value_counts()"
   ]
  },
  {
   "cell_type": "code",
   "execution_count": 509,
   "metadata": {},
   "outputs": [
    {
     "data": {
      "text/plain": [
       "nan               66102\n",
       "WHITE             40786\n",
       "BLACK             10619\n",
       "BROWN              7705\n",
       "TAN                5409\n",
       "GRAY               3230\n",
       "MUTED               921\n",
       "ORANGE              794\n",
       "TRICOLOR            698\n",
       "BROWN BRINDLE       549\n",
       "RED                 541\n",
       "BROWN TABBY         539\n",
       "CALICO              526\n",
       "CREAM               457\n",
       "TORTIE              456\n",
       "BLACK TABBY         418\n",
       "GRAY TABBY          336\n",
       "YELLOW              272\n",
       "ORANGE TABBY        212\n",
       "SILVER              201\n",
       "BLACK BRINDLE       198\n",
       "BUFF                186\n",
       "BLUE                179\n",
       "BLACK TIGER         144\n",
       "GRAY TIGER          141\n",
       "GOLD                126\n",
       "BROWN TIGER         108\n",
       "CHOCOLATE            96\n",
       "BLUE MERLE           56\n",
       "ORANGE TIGER         48\n",
       "                  ...  \n",
       "SILVER TABBY         22\n",
       "APRICOT              20\n",
       "PINK                 14\n",
       "FLAME POINT          14\n",
       "BLUE TICKED          14\n",
       "LYNX POINT           13\n",
       "CREAM TABBY          11\n",
       "CALICO POINT         11\n",
       "BLUE POINT            9\n",
       "RED MERLE             9\n",
       "RED TICKED            9\n",
       "TORTIE POINT          7\n",
       "LIVER TICKED          6\n",
       "LILAC POINT           5\n",
       "                      5\n",
       "BLUE TIGER            5\n",
       "TABBY                 4\n",
       "PURPLE                4\n",
       "BLUE CREAM            4\n",
       "AGOUTI                3\n",
       "CREAM TIGER           3\n",
       "YELLOW BRINDLE        3\n",
       "RUDDY                 2\n",
       "BRINDLE               2\n",
       "MOHAGANY              2\n",
       "BLUE TABBY            2\n",
       "ORANGE CAL            1\n",
       "BLONDE                1\n",
       "WHITE - TA            1\n",
       "BLUE SMOKE            1\n",
       "Name: SecondaryColor, Length: 70, dtype: int64"
      ]
     },
     "execution_count": 509,
     "metadata": {},
     "output_type": "execute_result"
    }
   ],
   "source": [
    "df['SecondaryColor'].value_counts()"
   ]
  },
  {
   "cell_type": "code",
   "execution_count": 510,
   "metadata": {},
   "outputs": [],
   "source": [
    "df['SecondaryColor'] = df['SecondaryColor'].apply(color_map)"
   ]
  },
  {
   "cell_type": "code",
   "execution_count": 511,
   "metadata": {},
   "outputs": [],
   "source": [
    "#df['SecondaryColor'] = df2['SecondaryColor'].apply(color_map)"
   ]
  },
  {
   "cell_type": "code",
   "execution_count": 512,
   "metadata": {},
   "outputs": [
    {
     "data": {
      "text/plain": [
       "nan       66102\n",
       "WHITE     41429\n",
       "BROWN     14298\n",
       "BLACK     11379\n",
       "GRAY       4022\n",
       "OTHER      2861\n",
       "YELLOW     1278\n",
       "CALICO     1224\n",
       "Name: SecondaryColor, dtype: int64"
      ]
     },
     "execution_count": 512,
     "metadata": {},
     "output_type": "execute_result"
    }
   ],
   "source": [
    "df['SecondaryColor'].value_counts()"
   ]
  },
  {
   "cell_type": "code",
   "execution_count": 513,
   "metadata": {},
   "outputs": [
    {
     "data": {
      "text/plain": [
       "LHASA APSO                    257\n",
       "SHETLAND SHEEPDOG             249\n",
       "CHINESE SHARPEI               244\n",
       "BLACK AND TAN COONOUND        240\n",
       "PEKINGESE                     234\n",
       "GREAT PYRENEES                232\n",
       "STAFFORDSHIRE BULL TERRIER    229\n",
       "ALASKAN HUSKY                 227\n",
       "CANE CORSO                    226\n",
       "POODLE - TOY                  215\n",
       "GREAT DANE                    191\n",
       "PIGEON                        183\n",
       "DALMATIAN                     175\n",
       "AMERICAN ESKIMO               158\n",
       "POINTER                       158\n",
       "WELSH CORGI - CARDIGAN        149\n",
       "RUSSIAN BLUE                  148\n",
       "ENGLISH BULLDOG               147\n",
       "SNAKE                         143\n",
       "FOX TERRIER - WIREHAIRED      138\n",
       "TREEING WALKER COONHOUND      134\n",
       "REX                           130\n",
       "CATAHOULA LEOPARD HOUND       129\n",
       "BENGAL                        127\n",
       "HAMSTER                       126\n",
       "PERSIAN                       125\n",
       "BLOODHOUND                    125\n",
       "SNOWSHOE                      124\n",
       "RAT                           123\n",
       "DUTCH                         122\n",
       "                             ... \n",
       "WOLF                            1\n",
       "WOODPECKER                      1\n",
       "BELGIAN HARE                    1\n",
       "BRAHMA                          1\n",
       "MULE                            1\n",
       "TORTOISE                        1\n",
       "CROCODILIAN                     1\n",
       "DONKEY                          1\n",
       "CHECKERED GIANT                 1\n",
       "CHAROLAIS                       1\n",
       "GERMAN PINSCHER                 1\n",
       "AFGHAN HOUND                    1\n",
       "JAVANESE                        1\n",
       "HEDGEHOG                        1\n",
       "MACAW                           1\n",
       "NEW HAMPSHIRE                   1\n",
       "SPHYNX                          1\n",
       "CAYUGA                          1\n",
       "KUVASZ                          1\n",
       "COCHIN                          1\n",
       "ANGORA-ENGLISH                  1\n",
       "HOVAWART                        1\n",
       "LOP-FRENCH                      1\n",
       "SEBRIGHT                        1\n",
       "SWAN                            1\n",
       "HARLEQUIN                       1\n",
       "AMERICAN SH                     1\n",
       "HOLSTEIN                        1\n",
       "GREAT PYRENEESE                 1\n",
       "AMERICAN CURL SHORTHAIR         1\n",
       "Name: PrimaryBreed, Length: 353, dtype: int64"
      ]
     },
     "execution_count": 513,
     "metadata": {},
     "output_type": "execute_result"
    }
   ],
   "source": [
    "df['PrimaryBreed'].value_counts()[50:]"
   ]
  },
  {
   "cell_type": "code",
   "execution_count": 514,
   "metadata": {},
   "outputs": [],
   "source": [
    "def breed_map(breed):\n",
    "    result = {}\n",
    "    \n",
    "    if pd.isnull(breed) or breed=='nan': \n",
    "        return 'nan'\n",
    "    \n",
    "    result['DOMESTIC SHORTHAIR']='SHORTHAIR CAT'\n",
    "    result['OTHER']='OTHER'\n",
    "    result['PIT BULL TERRIER']='MEDIUM DOG'\n",
    "    result['LABRADOR RETRIEVER'] ='LARGE DOG'\n",
    "    result['GERMAN SHEPHERD DOG'] = 'LARGE DOG'\n",
    "    result['BEAGLE'] ='SMALL DOG'\n",
    "    result['DOMESTIC LONGHAIR']='LONGHAIR CAT'\n",
    "    result['BOXER'] = 'MEDIUM DOG'\n",
    "    result['CHIHUAHUA'] = 'SMALL DOG'\n",
    "    result['AMERICAN PIT BULL TERRIER'] = 'MEDIUM DOG'\n",
    "    result['ROTTWEILER'] = 'LARGE DOG'\n",
    "    result['CHOW CHOW'] = 'MEDIUM DOG'\n",
    "    result['AMERICAN SHORTHAIR']= 'SHORTHAIR CAT'\n",
    "    result['BORDER COLLIE'] = 'MEDIUM DOG'\n",
    "    result['SHIH TZU'] = 'SMALL DOG'\n",
    "    result['JACK RUSS TER'] = 'SMALL DOG'\n",
    "    result['SIAMESE'] = 'SHORTHAIR CAT'\n",
    "    result['SIBERIAN HUSKY'] = 'LARGE DOG'\n",
    "    result['POODLE - MINIATURE'] = 'SMALL DOG'\n",
    "    result['AUSTRALIAN SHEPHERD']='MEDIUM DOG'\n",
    "    result['YORKSHIRE TERRIER'] = 'SMALL DOG'\n",
    "    result['DACHSHUND'] = 'SMALL DOG'\n",
    "    result['GOLDEN RETRIEVER'] = 'LARGE DOG'\n",
    "    result['COCKER SPANIEL'] = 'SMALL DOG'\n",
    "    result['PUG'] = 'SMALL DOG'\n",
    "    result['POMERANIAN'] = 'SMALL DOG'\n",
    "    result['AUSTRALIAN CATTLE DOG'] = 'MEDIUM DOG'\n",
    "    result['MINIATURE PINSCHER'] = 'SMALL DOG'\n",
    "    result['AMERICAN STAFFORDSHIRE TERRIER'] = 'MEDIUM DOG'\n",
    "    result['CHICKEN'] = 'CHICKEN'\n",
    "    \n",
    "    result['AMERICAN BULLDOG'] ='LARGE DOG'\n",
    "    result['BASSET HOUND'] = 'MEDIUM DOG'\n",
    "    result['SCHNAUZER - MINIATURE'] = 'SMALL DOG'\n",
    "    result['PARSON (JACK) RUSSELL TERRIER'] = 'SMALL DOG'\n",
    "    result['RAT TERRIER'] = 'SMALL DOG'\n",
    "    result['BOSTON TERRIER'] = 'SMALL DOG'\n",
    "    result['DOBERMAN PINSCHER'] = 'LARGE DOG'\n",
    "    result['COLLIE - SMOOTH ']='LARGE DOG'\n",
    "    result['MASTIFF']='LARGE DOG'\n",
    "    result['CAIRN TERRIER']='SMALL DOG'\n",
    "    result['AKITA']='LARGE DOG'\n",
    "    result['CHIHUAHUA - LONG HAIRED']= 'SMALL DOG'\n",
    "    result['MALTESE']='SMALL DOG'\n",
    "    result['COLLIE - ROUGH']='SMALL DOG'\n",
    "    result['MAINE COON ']= 'LONGHAIR CAT'\n",
    "    result['LHASA APSO']='SMALL DOG'\n",
    "    result['SHETLAND SHEEPDOG']='SMALL DOG'\n",
    "    \n",
    "    result['CHINESE SHARPEI']= 'MEDIUM DOG'\n",
    "    result['BLACK AND TAN COONOUND']= 'LARGE DOG'\n",
    "    result['PEKINGESE']='SMALL DOG'\n",
    "    result['GREAT PYRENEES']= 'LARGE DOG'\n",
    "    result['STAFFORDSHIRE BULL TERRIER']='SMALL DOG'\n",
    "    result['ALASKAN HUSKY']= 'MEDIUM DOG'\n",
    "    result['CANE CORSO']=  'LARGE DOG'                  \n",
    "    result['POODLE - TOY']='SMALL DOG'\n",
    "    result['GREAT DANE']='LARGE DOG'\n",
    "    result['DALMATIAN']='MEDIUM DOG'\n",
    "    result['POINTER']='MEDIUM DOG'\n",
    "    result['AMERICAN ESKIMO']='SMALL DOG'\n",
    "    result['WELSH CORGI - CARDIGAN']='MEDIUM DOG'\n",
    "    result['RUSSIAN BLUE']='SHORTHAIR CAT'\n",
    "    result['ENGLISH BULLDOG']='MEDIUM DOG'\n",
    "    result['FOX TERRIER - WIREHAIRED']='SMALL DOG'\n",
    "    result['TREEING WALKER COONHOUND']='MEDIUM DOG'\n",
    "    \n",
    "    if breed in result.keys():\n",
    "        return result[breed]\n",
    "    else:\n",
    "        return 'OTHER'\n",
    "    \n",
    "    \n",
    "\n",
    "    \n",
    "    \n",
    "    \n",
    "    "
   ]
  },
  {
   "cell_type": "code",
   "execution_count": 515,
   "metadata": {},
   "outputs": [],
   "source": [
    "df['PrimaryBreed'] = df['PrimaryBreed'].apply(breed_map)"
   ]
  },
  {
   "cell_type": "code",
   "execution_count": 516,
   "metadata": {},
   "outputs": [
    {
     "data": {
      "text/plain": [
       "SHORTHAIR CAT    56395\n",
       "MEDIUM DOG       25977\n",
       "LARGE DOG        20256\n",
       "OTHER            19154\n",
       "SMALL DOG        17164\n",
       "LONGHAIR CAT      3104\n",
       "CHICKEN            543\n",
       "Name: PrimaryBreed, dtype: int64"
      ]
     },
     "execution_count": 516,
     "metadata": {},
     "output_type": "execute_result"
    }
   ],
   "source": [
    "df['PrimaryBreed'].value_counts()"
   ]
  },
  {
   "cell_type": "code",
   "execution_count": 517,
   "metadata": {},
   "outputs": [],
   "source": [
    "df['SecondaryBreed'] = df['SecondaryBreed'].apply(breed_map)"
   ]
  },
  {
   "cell_type": "code",
   "execution_count": 518,
   "metadata": {},
   "outputs": [
    {
     "data": {
      "text/plain": [
       "nan              104459\n",
       "OTHER             26907\n",
       "MEDIUM DOG         3313\n",
       "SMALL DOG          3202\n",
       "LARGE DOG          3200\n",
       "SHORTHAIR CAT      1390\n",
       "LONGHAIR CAT        122\n",
       "Name: SecondaryBreed, dtype: int64"
      ]
     },
     "execution_count": 518,
     "metadata": {},
     "output_type": "execute_result"
    }
   ],
   "source": [
    "df['SecondaryBreed'].value_counts()"
   ]
  },
  {
   "cell_type": "code",
   "execution_count": 519,
   "metadata": {},
   "outputs": [
    {
     "data": {
      "text/plain": [
       "100"
      ]
     },
     "execution_count": 519,
     "metadata": {},
     "output_type": "execute_result"
    }
   ],
   "source": [
    "(df.IntakeReason.value_counts())[30]"
   ]
  },
  {
   "cell_type": "code",
   "execution_count": null,
   "metadata": {},
   "outputs": [],
   "source": []
  },
  {
   "cell_type": "code",
   "execution_count": null,
   "metadata": {},
   "outputs": [],
   "source": []
  },
  {
   "cell_type": "code",
   "execution_count": 520,
   "metadata": {},
   "outputs": [
    {
     "data": {
      "text/plain": [
       "NORMAL        101566\n",
       "SICK            6733\n",
       "INJURED         6123\n",
       "FEARFUL         6110\n",
       "NURSING         5322\n",
       "FERAL           4132\n",
       "OTHER           3295\n",
       "AGGRESSIVE      2813\n",
       "AGED            2425\n",
       "DEAD            1575\n",
       "EMACIATED       1044\n",
       "PREGNANT         678\n",
       "OBESE            218\n",
       "PARVO            114\n",
       "AGG PEOPLE       100\n",
       "HEARTWORM         89\n",
       "TERITORIAL        66\n",
       "AGG FEAR          56\n",
       "AGG ANIMAL        50\n",
       "FIV +             23\n",
       "DEHYDRA           16\n",
       "RINGWORM          15\n",
       "FELV+             13\n",
       "DIARRHEA           9\n",
       "AGG FOOD           4\n",
       "AGG BARRIE         4\n",
       "Name: IntakeInternalStatus, dtype: int64"
      ]
     },
     "execution_count": 520,
     "metadata": {},
     "output_type": "execute_result"
    }
   ],
   "source": [
    "df.IntakeInternalStatus.value_counts()"
   ]
  },
  {
   "cell_type": "code",
   "execution_count": 521,
   "metadata": {},
   "outputs": [],
   "source": [
    "df = df[df['IntakeInternalStatus']!='DEAD']"
   ]
  },
  {
   "cell_type": "code",
   "execution_count": 522,
   "metadata": {},
   "outputs": [
    {
     "data": {
      "text/plain": [
       "Index(['NORMAL', 'SICK', 'INJURED', 'FEARFUL', 'NURSING', 'FERAL', 'OTHER',\n",
       "       'AGGRESSIVE', 'AGED', 'EMACIATED', 'PREGNANT', 'OBESE', 'PARVO',\n",
       "       'AGG PEOPLE', 'HEARTWORM', 'TERITORIAL', 'AGG FEAR', 'AGG ANIMAL',\n",
       "       'FIV +', 'DEHYDRA', 'RINGWORM', 'FELV+', 'DIARRHEA', 'AGG FOOD',\n",
       "       'AGG BARRIE'],\n",
       "      dtype='object')"
      ]
     },
     "execution_count": 522,
     "metadata": {},
     "output_type": "execute_result"
    }
   ],
   "source": [
    "df['IntakeInternalStatus'].value_counts().index"
   ]
  },
  {
   "cell_type": "code",
   "execution_count": 523,
   "metadata": {},
   "outputs": [],
   "source": [
    "def map_status(status):\n",
    "    if pd.isnull(status) or status=='nan':\n",
    "        return 'nan'\n",
    "    medical = ['SICK', 'INJURED','NURSING','EMACIATED', 'PREGNANT', 'OBESE','PARVO','HEARTWORM','FIV +', 'DEHYDRA', 'RINGWORM', 'FELV+', 'DIARRHEA','DEAD']\n",
    "    behavior = ['FEARFUL','FERAL','AGGRESSIVE','TERITORIAL','AGG FEAR', 'AGG ANIMAL','AGG PEOPLE','AGG BARRIE']\n",
    "    if status in medical:\n",
    "        return 'medical'\n",
    "    if status in behavior:\n",
    "        return 'behavior'\n",
    "    if status == 'NORMAL' or status == 'AGED' or status =='DEAD' :\n",
    "        return status\n",
    "    return 'OTHER'"
   ]
  },
  {
   "cell_type": "code",
   "execution_count": 524,
   "metadata": {},
   "outputs": [],
   "source": [
    "df['IntakeInternalStatus']=df['IntakeInternalStatus'].apply(map_status)"
   ]
  },
  {
   "cell_type": "code",
   "execution_count": 525,
   "metadata": {},
   "outputs": [
    {
     "data": {
      "text/plain": [
       "NORMAL      101566\n",
       "medical      20397\n",
       "behavior     13331\n",
       "OTHER         3299\n",
       "AGED          2425\n",
       "Name: IntakeInternalStatus, dtype: int64"
      ]
     },
     "execution_count": 525,
     "metadata": {},
     "output_type": "execute_result"
    }
   ],
   "source": [
    "df['IntakeInternalStatus'].value_counts()"
   ]
  },
  {
   "cell_type": "code",
   "execution_count": null,
   "metadata": {},
   "outputs": [],
   "source": []
  },
  {
   "cell_type": "code",
   "execution_count": 526,
   "metadata": {},
   "outputs": [],
   "source": [
    "def reason_map(reason):\n",
    "    \n",
    "    if pd.isnull(reason) or reason=='nan':\n",
    "        return 'nan'\n",
    "    if reason =='STRAY':\n",
    "        return reason\n",
    "    if reason in ['AGG ANIMAL','BITES','HYPER','DESTRUC IN']:\n",
    "        return 'behavior'\n",
    "    return 'OTHER'\n",
    "    "
   ]
  },
  {
   "cell_type": "code",
   "execution_count": 527,
   "metadata": {},
   "outputs": [],
   "source": [
    "df['IntakeReason'] = df['IntakeReason'].apply(reason_map)"
   ]
  },
  {
   "cell_type": "code",
   "execution_count": 528,
   "metadata": {},
   "outputs": [
    {
     "data": {
      "text/plain": [
       "nan         109605\n",
       "OTHER        18580\n",
       "STRAY        11522\n",
       "behavior      1311\n",
       "Name: IntakeReason, dtype: int64"
      ]
     },
     "execution_count": 528,
     "metadata": {},
     "output_type": "execute_result"
    }
   ],
   "source": [
    "df['IntakeReason'].value_counts()"
   ]
  },
  {
   "cell_type": "code",
   "execution_count": 529,
   "metadata": {},
   "outputs": [
    {
     "data": {
      "text/plain": [
       "377"
      ]
     },
     "execution_count": 529,
     "metadata": {},
     "output_type": "execute_result"
    }
   ],
   "source": [
    "(df.OutcomeInternalStatus.value_counts())[10]"
   ]
  },
  {
   "cell_type": "code",
   "execution_count": 530,
   "metadata": {},
   "outputs": [],
   "source": [
    "def map_status(status):\n",
    "        if pd.isnull(status) or status == 'nan':\n",
    "            return 'nan'\n",
    "        medical = ['SICK', 'INJURED','NURSING','EMACIATED', 'PREGNANT', 'OBESE','PARVO','HEARTWORM','FIV +', 'DEHYDRA', 'RINGWORM', 'FELV+', 'DIARRHEA','DEAD']\n",
    "        behavior = ['FEARFUL','FERAL','AGGRESSIVE','TERITORIAL','AGG FEAR', 'AGG ANIMAL','AGG PEOPLE','AGG BARRIE']\n",
    "        if status in medical:\n",
    "            return 'medical'\n",
    "        if status in behavior:\n",
    "            return 'behavior'\n",
    "        if status == 'NORMAL' or status == 'AGED':\n",
    "            return status\n",
    "        return 'OTHER'"
   ]
  },
  {
   "cell_type": "code",
   "execution_count": 531,
   "metadata": {},
   "outputs": [],
   "source": [
    "df['OutcomeInternalStatus']=df['OutcomeInternalStatus'].apply(map_status)"
   ]
  },
  {
   "cell_type": "code",
   "execution_count": 532,
   "metadata": {},
   "outputs": [
    {
     "data": {
      "text/plain": [
       "nan         96640\n",
       "NORMAL      26315\n",
       "medical     12247\n",
       "behavior     3697\n",
       "OTHER        1114\n",
       "AGED         1005\n",
       "Name: OutcomeInternalStatus, dtype: int64"
      ]
     },
     "execution_count": 532,
     "metadata": {},
     "output_type": "execute_result"
    }
   ],
   "source": [
    "df['OutcomeInternalStatus'].value_counts()"
   ]
  },
  {
   "cell_type": "code",
   "execution_count": 533,
   "metadata": {},
   "outputs": [
    {
     "data": {
      "text/plain": [
       "HEALTHY                  137872\n",
       "UNHEALTHY/UNTREATABLE      2759\n",
       "TREATABLE/MANAGEABLE        377\n",
       "nan                          10\n",
       "Name: OutcomeAsilomarStatus, dtype: int64"
      ]
     },
     "execution_count": 533,
     "metadata": {},
     "output_type": "execute_result"
    }
   ],
   "source": [
    "df.OutcomeAsilomarStatus .value_counts()"
   ]
  },
  {
   "cell_type": "code",
   "execution_count": null,
   "metadata": {},
   "outputs": [],
   "source": []
  },
  {
   "cell_type": "code",
   "execution_count": 534,
   "metadata": {},
   "outputs": [
    {
     "name": "stdout",
     "output_type": "stream",
     "text": [
      "<class 'pandas.core.frame.DataFrame'>\n",
      "Int64Index: 141018 entries, 0 to 150841\n",
      "Data columns (total 36 columns):\n",
      "AnimalType                     141018 non-null object\n",
      "IntakeType                     141018 non-null object\n",
      "IntakeSubtype                  141018 non-null object\n",
      "PrimaryColor                   141018 non-null object\n",
      "PrimaryBreed                   141018 non-null object\n",
      "SecondaryBreed                 141018 non-null object\n",
      "Gender                         141018 non-null object\n",
      "SecondaryColor                 141018 non-null object\n",
      "IntakeReason                   141018 non-null object\n",
      "IntakeInternalStatus           141018 non-null object\n",
      "IntakeAsilomarStatus           141018 non-null object\n",
      "ReproductiveStatusAtIntake     141018 non-null object\n",
      "OutcomeInternalStatus          141018 non-null object\n",
      "OutcomeAsilomarStatus          141018 non-null object\n",
      "ReproductiveStatusAtOutcome    141018 non-null object\n",
      "IntakeYear                     141018 non-null int64\n",
      "IntakeMonth                    141018 non-null int64\n",
      "OutcomeYear                    141018 non-null int64\n",
      "OutcomeMonth                   141018 non-null int64\n",
      "IntakeAgeInDays                141018 non-null float64\n",
      "OutcomeAgeInDays               141018 non-null float64\n",
      "DaysInShelter                  141018 non-null float64\n",
      "HasIntakeAge                   141018 non-null int64\n",
      "HasOutcomeAge                  141018 non-null int64\n",
      "HasDaysInShelter               141018 non-null int64\n",
      "TimesInShelter                 141018 non-null int64\n",
      "ScaledIntakeYear               141018 non-null float64\n",
      "ScaledIntakeMonth              141018 non-null float64\n",
      "ScaledOutcomeYear              141018 non-null float64\n",
      "ScaledOutcomeMonth             141018 non-null float64\n",
      "ScaledIntakeAgeInDays          141018 non-null float64\n",
      "ScaledOutcomeAgeInDays         141018 non-null float64\n",
      "ScaledDaysInShelter            141018 non-null float64\n",
      "intake_year_month              141018 non-null object\n",
      "outcome_year_month             141018 non-null object\n",
      "OutcomeType                    141018 non-null object\n",
      "dtypes: float64(10), int64(8), object(18)\n",
      "memory usage: 39.8+ MB\n"
     ]
    }
   ],
   "source": [
    "y=df.OutcomeType\n",
    "X=df.drop(['OutcomeType','OutcomeSubtype'],axis=1)\n",
    "clean_df=X\n",
    "clean_df['OutcomeType']=y\n",
    "clean_df['intake_year_month']=df['intake_year_month']\n",
    "clean_df['outcome_year_month']=df['outcome_year_month']\n",
    "\n",
    "clean_df.info()"
   ]
  },
  {
   "cell_type": "code",
   "execution_count": 535,
   "metadata": {},
   "outputs": [],
   "source": [
    "import pickle\n",
    "with open('/home/jieliang/proj3/mvp/mvp_data/eda-6-clean_data_without_dummies.pkl', 'wb') as fp:\n",
    "    pickle.dump(clean_df, fp)"
   ]
  },
  {
   "cell_type": "code",
   "execution_count": null,
   "metadata": {},
   "outputs": [],
   "source": []
  },
  {
   "cell_type": "code",
   "execution_count": 539,
   "metadata": {},
   "outputs": [],
   "source": [
    "\n",
    "with open('/home/jieliang/proj3/mvp/mvp_data/eda-6-clean_data_without_dummies.pkl', 'rb') as fp:\n",
    "    df = pickle.load(fp)"
   ]
  },
  {
   "cell_type": "code",
   "execution_count": null,
   "metadata": {},
   "outputs": [],
   "source": []
  },
  {
   "cell_type": "code",
   "execution_count": 540,
   "metadata": {},
   "outputs": [],
   "source": [
    "X = df.drop(['intake_year_month','outcome_year_month','OutcomeType'],axis=1)"
   ]
  },
  {
   "cell_type": "code",
   "execution_count": 541,
   "metadata": {},
   "outputs": [
    {
     "data": {
      "text/plain": [
       "(141018, 33)"
      ]
     },
     "execution_count": 541,
     "metadata": {},
     "output_type": "execute_result"
    }
   ],
   "source": [
    "X.shape"
   ]
  },
  {
   "cell_type": "code",
   "execution_count": 542,
   "metadata": {},
   "outputs": [
    {
     "data": {
      "text/plain": [
       "(141018, 98)"
      ]
     },
     "execution_count": 542,
     "metadata": {},
     "output_type": "execute_result"
    }
   ],
   "source": [
    "X=pd.get_dummies(X)\n",
    "X.shape"
   ]
  },
  {
   "cell_type": "code",
   "execution_count": 543,
   "metadata": {},
   "outputs": [],
   "source": [
    "X['intake_year_month']=df['intake_year_month']"
   ]
  },
  {
   "cell_type": "code",
   "execution_count": 544,
   "metadata": {},
   "outputs": [
    {
     "data": {
      "text/plain": [
       "(141018, 100)"
      ]
     },
     "execution_count": 544,
     "metadata": {},
     "output_type": "execute_result"
    }
   ],
   "source": [
    "X['outcome_year_month'] = df['outcome_year_month']\n",
    "y=clean_df['OutcomeType']\n",
    "X.shape"
   ]
  },
  {
   "cell_type": "code",
   "execution_count": 545,
   "metadata": {},
   "outputs": [
    {
     "name": "stdout",
     "output_type": "stream",
     "text": [
      "<class 'pandas.core.frame.DataFrame'>\n",
      "Int64Index: 141018 entries, 0 to 150841\n",
      "Columns: 101 entries, IntakeYear to OutcomeType\n",
      "dtypes: float64(10), int64(8), object(3), uint8(80)\n",
      "memory usage: 34.4+ MB\n"
     ]
    }
   ],
   "source": [
    "df= X\n",
    "df['OutcomeType']=y\n",
    "df.info()"
   ]
  },
  {
   "cell_type": "code",
   "execution_count": 546,
   "metadata": {},
   "outputs": [
    {
     "data": {
      "text/plain": [
       "Index(['IntakeYear', 'IntakeMonth', 'OutcomeYear', 'OutcomeMonth',\n",
       "       'IntakeAgeInDays', 'OutcomeAgeInDays', 'DaysInShelter', 'HasIntakeAge',\n",
       "       'HasOutcomeAge', 'HasDaysInShelter',\n",
       "       ...\n",
       "       'OutcomeAsilomarStatus_TREATABLE/MANAGEABLE',\n",
       "       'OutcomeAsilomarStatus_UNHEALTHY/UNTREATABLE',\n",
       "       'OutcomeAsilomarStatus_nan', 'ReproductiveStatusAtOutcome_ALTERED',\n",
       "       'ReproductiveStatusAtOutcome_FERTILE',\n",
       "       'ReproductiveStatusAtOutcome_UNKNOWN',\n",
       "       'ReproductiveStatusAtOutcome_nan', 'intake_year_month',\n",
       "       'outcome_year_month', 'OutcomeType'],\n",
       "      dtype='object', length=101)"
      ]
     },
     "execution_count": 546,
     "metadata": {},
     "output_type": "execute_result"
    }
   ],
   "source": [
    "df.columns"
   ]
  },
  {
   "cell_type": "code",
   "execution_count": null,
   "metadata": {},
   "outputs": [],
   "source": []
  },
  {
   "cell_type": "code",
   "execution_count": 547,
   "metadata": {},
   "outputs": [],
   "source": [
    "import pickle\n",
    "with open('/home/jieliang/proj3/mvp/mvp_data/eda-6-clean_data.pkl', 'wb') as fp:\n",
    "    pickle.dump(clean_df, fp)"
   ]
  },
  {
   "cell_type": "code",
   "execution_count": null,
   "metadata": {},
   "outputs": [],
   "source": []
  },
  {
   "cell_type": "code",
   "execution_count": 548,
   "metadata": {},
   "outputs": [],
   "source": [
    "\n",
    "with open('/home/jieliang/proj3/mvp/mvp_data/eda-6-clean_data.pkl', 'rb') as fp:\n",
    "    df = pickle.load(fp)"
   ]
  },
  {
   "cell_type": "code",
   "execution_count": 549,
   "metadata": {},
   "outputs": [],
   "source": [
    "df.to_csv('/home/jieliang/proj3/mvp/mvp_data/eda-6-clean_data.csv', sep=',')"
   ]
  },
  {
   "cell_type": "code",
   "execution_count": 550,
   "metadata": {},
   "outputs": [
    {
     "data": {
      "text/plain": [
       "AnimalType                      object\n",
       "IntakeType                      object\n",
       "IntakeSubtype                   object\n",
       "PrimaryColor                    object\n",
       "PrimaryBreed                    object\n",
       "SecondaryBreed                  object\n",
       "Gender                          object\n",
       "SecondaryColor                  object\n",
       "IntakeReason                    object\n",
       "IntakeInternalStatus            object\n",
       "IntakeAsilomarStatus            object\n",
       "ReproductiveStatusAtIntake      object\n",
       "OutcomeInternalStatus           object\n",
       "OutcomeAsilomarStatus           object\n",
       "ReproductiveStatusAtOutcome     object\n",
       "IntakeYear                       int64\n",
       "IntakeMonth                      int64\n",
       "OutcomeYear                      int64\n",
       "OutcomeMonth                     int64\n",
       "IntakeAgeInDays                float64\n",
       "OutcomeAgeInDays               float64\n",
       "DaysInShelter                  float64\n",
       "HasIntakeAge                     int64\n",
       "HasOutcomeAge                    int64\n",
       "HasDaysInShelter                 int64\n",
       "TimesInShelter                   int64\n",
       "ScaledIntakeYear               float64\n",
       "ScaledIntakeMonth              float64\n",
       "ScaledOutcomeYear              float64\n",
       "ScaledOutcomeMonth             float64\n",
       "ScaledIntakeAgeInDays          float64\n",
       "ScaledOutcomeAgeInDays         float64\n",
       "ScaledDaysInShelter            float64\n",
       "intake_year_month               object\n",
       "outcome_year_month              object\n",
       "OutcomeType                     object\n",
       "dtype: object"
      ]
     },
     "execution_count": 550,
     "metadata": {},
     "output_type": "execute_result"
    }
   ],
   "source": [
    "df.dtypes\n"
   ]
  },
  {
   "cell_type": "code",
   "execution_count": 551,
   "metadata": {},
   "outputs": [
    {
     "data": {
      "text/plain": [
       "NORMAL      101566\n",
       "medical      20397\n",
       "behavior     13331\n",
       "OTHER         3299\n",
       "AGED          2425\n",
       "Name: IntakeInternalStatus, dtype: int64"
      ]
     },
     "execution_count": 551,
     "metadata": {},
     "output_type": "execute_result"
    }
   ],
   "source": [
    "df.IntakeInternalStatus.value_counts()"
   ]
  },
  {
   "cell_type": "code",
   "execution_count": null,
   "metadata": {},
   "outputs": [],
   "source": []
  }
 ],
 "metadata": {
  "kernelspec": {
   "display_name": "Python 3",
   "language": "python",
   "name": "python3"
  },
  "language_info": {
   "codemirror_mode": {
    "name": "ipython",
    "version": 3
   },
   "file_extension": ".py",
   "mimetype": "text/x-python",
   "name": "python",
   "nbconvert_exporter": "python",
   "pygments_lexer": "ipython3",
   "version": "3.6.5"
  }
 },
 "nbformat": 4,
 "nbformat_minor": 2
}
